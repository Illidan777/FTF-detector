{
 "cells": [
  {
   "cell_type": "markdown",
   "id": "fd6288d414c9adfa",
   "metadata": {
    "papermill": {
     "duration": 0.011311,
     "end_time": "2024-12-08T14:29:18.191462",
     "exception": false,
     "start_time": "2024-12-08T14:29:18.180151",
     "status": "completed"
    },
    "tags": []
   },
   "source": [
    "# Import dependencies"
   ]
  },
  {
   "cell_type": "code",
   "execution_count": 1,
   "id": "fcff937794ab8a13",
   "metadata": {
    "ExecuteTime": {
     "end_time": "2024-12-08T13:52:25.156929Z",
     "start_time": "2024-12-08T13:52:23.962598Z"
    },
    "execution": {
     "iopub.execute_input": "2024-12-08T14:29:18.208463Z",
     "iopub.status.busy": "2024-12-08T14:29:18.208463Z",
     "iopub.status.idle": "2024-12-08T14:29:20.788502Z",
     "shell.execute_reply": "2024-12-08T14:29:20.788502Z"
    },
    "papermill": {
     "duration": 2.591188,
     "end_time": "2024-12-08T14:29:20.790649",
     "exception": false,
     "start_time": "2024-12-08T14:29:18.199461",
     "status": "completed"
    },
    "tags": []
   },
   "outputs": [],
   "source": [
    "# Import management\n",
    "from importlib import reload\n",
    "\n",
    "# Data Manipulations and Preprocessing\n",
    "import numpy as np\n",
    "import pandas as pd\n",
    "from sklearn.preprocessing import LabelEncoder\n",
    "from sklearn.utils.class_weight import compute_class_weight\n",
    "\n",
    "# Data Visualization\n",
    "import matplotlib.pyplot as plt\n",
    "\n",
    "# Tuning & Splitting Libraries\n",
    "from sklearn.model_selection import train_test_split\n",
    "\n",
    "# Services\n",
    "import services.ModelStageService as sds\n",
    "\n",
    "# utils\n",
    "import datetime\n",
    "import utils.EDAUtils as edaUtils\n",
    "import utils.ModelTrainingAndEvaluationUtils as mteUtils\n",
    "import utils.DataTransformationUtils as dtUtils\n",
    "import utils.PlottingUtils as pltUtils\n",
    "\n",
    "# Reload all custom dependencies\n",
    "reload(sds)\n",
    "reload(edaUtils)\n",
    "reload(mteUtils)\n",
    "reload(dtUtils)\n",
    "reload(pltUtils)\n",
    "\n",
    "# Create model stage instance\n",
    "stage_data_io_service = sds.ModelStageService(\n",
    "    previous_stage_name=sds.PREPROCESSING_STAGE,\n",
    "    current_stage_name=sds.FEATURE_ENGINEERING_STAGE\n",
    ")"
   ]
  },
  {
   "cell_type": "markdown",
   "id": "24006fbcfc549b09",
   "metadata": {
    "papermill": {
     "duration": 0.008,
     "end_time": "2024-12-08T14:29:20.806655",
     "exception": false,
     "start_time": "2024-12-08T14:29:20.798655",
     "status": "completed"
    },
    "tags": []
   },
   "source": [
    "# Load data"
   ]
  },
  {
   "cell_type": "code",
   "execution_count": 2,
   "id": "e3c3f0fab4cb5dd",
   "metadata": {
    "ExecuteTime": {
     "end_time": "2024-12-08T13:52:25.641782Z",
     "start_time": "2024-12-08T13:52:25.162023Z"
    },
    "execution": {
     "iopub.execute_input": "2024-12-08T14:29:20.827661Z",
     "iopub.status.busy": "2024-12-08T14:29:20.826656Z",
     "iopub.status.idle": "2024-12-08T14:33:49.678232Z",
     "shell.execute_reply": "2024-12-08T14:33:49.676706Z"
    },
    "papermill": {
     "duration": 268.86257,
     "end_time": "2024-12-08T14:33:49.679226",
     "exception": false,
     "start_time": "2024-12-08T14:29:20.816656",
     "status": "completed"
    },
    "tags": []
   },
   "outputs": [
    {
     "name": "stderr",
     "output_type": "stream",
     "text": [
      "INFO:papermill:Input Notebook:  ../../model/stages/2_data_preprocessing.ipynb\n"
     ]
    },
    {
     "name": "stderr",
     "output_type": "stream",
     "text": [
      "INFO:papermill:Output Notebook: ../../model/stages/2_data_preprocessing.ipynb\n"
     ]
    },
    {
     "name": "stdout",
     "output_type": "stream",
     "text": [
      "Reload stage False path ../../data/stages/PREPROCESSING_stage_data.pkl exists False\n",
      "Running 2_data_preprocessing.ipynb...\n"
     ]
    },
    {
     "data": {
      "application/vnd.jupyter.widget-view+json": {
       "model_id": "f683506f807545b3b9fd1f74e740d3c7",
       "version_major": 2,
       "version_minor": 0
      },
      "text/plain": [
       "Executing:   0%|          | 0/15 [00:00<?, ?cell/s]"
      ]
     },
     "metadata": {},
     "output_type": "display_data"
    },
    {
     "name": "stderr",
     "output_type": "stream",
     "text": [
      "INFO:papermill:Executing notebook with kernel: python3\n"
     ]
    },
    {
     "name": "stdout",
     "output_type": "stream",
     "text": [
      "2_data_preprocessing.ipynb completed.\n",
      "Loading PREPROCESSING from snapshot.\n",
      "Loading PREPROCESSING from snapshot.\n"
     ]
    }
   ],
   "source": [
    "# Reading text from txt file\n",
    "df = stage_data_io_service.run_or_load_stage_data(reload_stage=False)"
   ]
  },
  {
   "cell_type": "markdown",
   "id": "be0081a88e90ef2f",
   "metadata": {
    "papermill": {
     "duration": 0.009613,
     "end_time": "2024-12-08T14:33:49.699010",
     "exception": false,
     "start_time": "2024-12-08T14:33:49.689397",
     "status": "completed"
    },
    "tags": []
   },
   "source": [
    "# Feature Engineering and Data Processing for Model Building"
   ]
  },
  {
   "cell_type": "markdown",
   "id": "77dbde257801151f",
   "metadata": {
    "papermill": {
     "duration": 0.00846,
     "end_time": "2024-12-08T14:33:49.716465",
     "exception": false,
     "start_time": "2024-12-08T14:33:49.708005",
     "status": "completed"
    },
    "tags": []
   },
   "source": [
    "## Adding Synthetic Replenishment Data for Accurate Calculation of Credit Debt Repayment Stability (CDRS) Ratio\n",
    "\n",
    "Before calculating the Credit Debt Repayment Stability (CDRS) ratio, it is crucial to account for all transactions affecting the available balance, especially replenishments. However, the dataset lacks direct information on replenishment transactions, except for specific cases like reversal transactions. This absence introduces potential inaccuracies when calculating repayment stability.\n",
    "\n",
    "To resolve this issue without altering the data schema by adding new markers, we will synthetically generate missing replenishment transactions. The approach works as follows:\n",
    "\n",
    "1. **Data Grouping and Sorting**: We group the transactions by account number and arrange them in chronological order to establish a clear transaction flow.\n",
    "   \n",
    "2. **Pairwise Transaction Comparison**: After sorting, we compare each transaction with the preceding one. If the available balance of the current transaction exceeds that of the previous one and the previous transaction is not classified as a reversal or address verification, we infer that a replenishment transaction was missing between the two.\n",
    "\n",
    "3. **Synthetic Replenishment Insertion**: For each identified gap, a synthetic replenishment transaction is inserted with a calculated amount and timestamp. This ensures that all changes in the available balance are accurately reflected in the dataset, allowing for a more precise calculation of the CDRS ratio.\n",
    "\n",
    "By synthesizing replenishment data in this way, we can achieve a more accurate and realistic assessment of credit debt \n",
    "repayment behavior without distorting the original dataset's structure.\n"
   ]
  },
  {
   "cell_type": "code",
   "execution_count": 3,
   "id": "44d08fffc8f6660c",
   "metadata": {
    "ExecuteTime": {
     "end_time": "2024-12-08T13:55:55.091301Z",
     "start_time": "2024-12-08T13:52:25.883139Z"
    },
    "execution": {
     "iopub.execute_input": "2024-12-08T14:33:49.737056Z",
     "iopub.status.busy": "2024-12-08T14:33:49.737056Z",
     "iopub.status.idle": "2024-12-08T14:37:34.213422Z",
     "shell.execute_reply": "2024-12-08T14:37:34.212299Z"
    },
    "papermill": {
     "duration": 224.490447,
     "end_time": "2024-12-08T14:37:34.216416",
     "exception": false,
     "start_time": "2024-12-08T14:33:49.725969",
     "status": "completed"
    },
    "tags": []
   },
   "outputs": [
    {
     "name": "stdout",
     "output_type": "stream",
     "text": [
      "Created snapshot folder: ../../data/snapshots/feature_engineering/\n",
      "Processing add_skipped_replenishment_transactions...\n"
     ]
    }
   ],
   "source": [
    "def add_skipped_replenishment_transactions(df):\n",
    "    \"\"\"\n",
    "    Adds synthetic replenishment transactions to a DataFrame of financial transactions.\n",
    "\n",
    "    The method processes transaction data for each account, ensuring replenishment transactions \n",
    "    are inserted when missing. It works by grouping transactions by account number, \n",
    "    sorting them chronologically, and checking if a replenishment transaction is needed \n",
    "    between consecutive transactions. If the available balance of a later transaction \n",
    "    is greater than the previous one (and the previous transaction is not a reversal or address verification), \n",
    "    a replenishment transaction is added synthetically.\n",
    "\n",
    "    Parameters:\n",
    "    df (pd.DataFrame): DataFrame containing transaction data.\n",
    "\n",
    "    Returns:\n",
    "    pd.DataFrame: The original DataFrame with added synthetic replenishment transactions. \n",
    "    The output will be sorted by 'accountNumber' and 'transactionDateTime'.\n",
    "    \"\"\"\n",
    "\n",
    "    # Sort data by account number and transaction datetime\n",
    "    df = df.sort_values(['accountNumber', 'transactionDateTime']).reset_index(drop=True)\n",
    "\n",
    "    # List to store new replenishment transactions\n",
    "    replenishments = []\n",
    "\n",
    "    # Group transactions by account number\n",
    "    grouped = df.groupby('accountNumber')\n",
    "\n",
    "    # Iterate over each account group\n",
    "    for account, group in grouped:\n",
    "        # Create a replenishment before the first transaction\n",
    "        first_transaction = group.iloc[0]\n",
    "        replenish_row = first_transaction.copy()\n",
    "        replenish_row['transactionDateTime'] = first_transaction['transactionDateTime'] - datetime.timedelta(days=1)\n",
    "        replenish_row['transactionAmount'] = first_transaction['creditLimit']\n",
    "        replenish_row['enteredCVV'] = first_transaction['cardCVV']\n",
    "        replenish_row['transactionType'] = 'REPLENISHMENT'\n",
    "        replenish_row['isFraud'] = False\n",
    "        replenishments.append(replenish_row)\n",
    "\n",
    "        # Process the rest of the transactions\n",
    "        for i in range(1, len(group)):\n",
    "            current_transaction = group.iloc[i]\n",
    "            previous_transaction = group.iloc[i - 1]\n",
    "\n",
    "            # Check if a replenishment is needed between transactions\n",
    "            if (current_transaction['availableMoney'] >= previous_transaction['availableMoney'] and\n",
    "                    previous_transaction['transactionAmount'] != 0 and\n",
    "                    previous_transaction['transactionType'] not in ['REVERSAL', 'ADDRESS_VERIFICATION']):\n",
    "                # Calculate the replenishment datetime\n",
    "                difference = current_transaction['transactionDateTime'] - previous_transaction['transactionDateTime']\n",
    "                replenishment_transaction_date_time = (\n",
    "                    current_transaction['transactionDateTime'] if difference <= datetime.timedelta(0)\n",
    "                    else current_transaction['transactionDateTime'] - difference / 2\n",
    "                )\n",
    "\n",
    "                # Create replenishment transaction\n",
    "                replenish_row = previous_transaction.copy()\n",
    "                replenish_row['transactionDateTime'] = replenishment_transaction_date_time\n",
    "                replenish_row['availableMoney'] = previous_transaction['availableMoney'] - previous_transaction[\n",
    "                    'transactionAmount']\n",
    "                replenish_row['creditDebt'] = previous_transaction['creditDebt'] + previous_transaction[\n",
    "                    'transactionAmount']\n",
    "                replenish_row['transactionAmount'] = current_transaction['availableMoney'] - replenish_row[\n",
    "                    'availableMoney']\n",
    "                replenish_row['enteredCVV'] = previous_transaction['cardCVV']\n",
    "                replenish_row['transactionType'] = 'REPLENISHMENT'\n",
    "                replenish_row['isFraud'] = False\n",
    "\n",
    "                # Append replenishment to the list\n",
    "                replenishments.append(replenish_row)\n",
    "\n",
    "    # Convert replenishments to DataFrame and merge with the original DataFrame\n",
    "    replenishment_df = pd.DataFrame(replenishments)\n",
    "    result_df = pd.concat([df, replenishment_df]).sort_values(['accountNumber', 'transactionDateTime']).reset_index(\n",
    "        drop=True)\n",
    "\n",
    "    return result_df\n",
    "\n",
    "df = stage_data_io_service.run_or_load_snapshot_data('add_skipped_replenishment_transactions',\n",
    "                                                     add_skipped_replenishment_transactions,\n",
    "                                                     df,\n",
    "                                                     recreate_snapshot=False\n",
    "                                                     )\n"
   ]
  },
  {
   "cell_type": "markdown",
   "id": "b938d42b6756dbbb",
   "metadata": {
    "papermill": {
     "duration": 0.010999,
     "end_time": "2024-12-08T14:37:34.240307",
     "exception": false,
     "start_time": "2024-12-08T14:37:34.229308",
     "status": "completed"
    },
    "tags": []
   },
   "source": [
    "### Check dimension after adding new rows"
   ]
  },
  {
   "cell_type": "code",
   "execution_count": 4,
   "id": "40ec5e00a7b82e50",
   "metadata": {
    "ExecuteTime": {
     "end_time": "2024-12-08T13:55:57.307330Z",
     "start_time": "2024-12-08T13:55:55.305907Z"
    },
    "execution": {
     "iopub.execute_input": "2024-12-08T14:37:34.268669Z",
     "iopub.status.busy": "2024-12-08T14:37:34.268669Z",
     "iopub.status.idle": "2024-12-08T14:37:36.362922Z",
     "shell.execute_reply": "2024-12-08T14:37:36.360781Z"
    },
    "papermill": {
     "duration": 2.108578,
     "end_time": "2024-12-08T14:37:36.365886",
     "exception": false,
     "start_time": "2024-12-08T14:37:34.257308",
     "status": "completed"
    },
    "tags": []
   },
   "outputs": [
    {
     "name": "stdout",
     "output_type": "stream",
     "text": [
      "Dimensions: 855029 rows, 21 columns\n",
      "Total NA's: 0\n",
      "There are no duplicates in this dataset!\n",
      "Column Name                            Data Type  Count Distinct  NA Values \n",
      "accountNumber                          object     5000            0         \n",
      "creditLimit                            float64    10              0         \n",
      "availableMoney                         float64    567314          0         \n",
      "transactionDateTime                    datetime64[ns] 844349          0         \n",
      "transactionAmount                      float64    106311          0         \n",
      "acqCountry                             object     4               0         \n",
      "merchantCountryCode                    object     4               0         \n",
      "posEntryMode                           object     5               0         \n",
      "posConditionCode                       object     3               0         \n",
      "merchantCategoryCode                   object     19              0         \n",
      "currentExpDate                         datetime64[ns] 165             0         \n",
      "accountOpenDate                        object     1820            0         \n",
      "dateOfLastAddressChange                datetime64[ns] 2184            0         \n",
      "cardCVV                                object     899             0         \n",
      "enteredCVV                             object     976             0         \n",
      "transactionType                        object     4               0         \n",
      "creditDebt                             float64    516581          0         \n",
      "cardPresent                            bool       2               0         \n",
      "expirationDateKeyInMatch               bool       2               0         \n",
      "isFraud                                bool       2               0         \n",
      "creditLimitRange                       object     4               0         \n"
     ]
    }
   ],
   "source": [
    "edaUtils.data_summary(df)"
   ]
  },
  {
   "cell_type": "markdown",
   "id": "ce7d73856825add3",
   "metadata": {
    "papermill": {
     "duration": 0.013931,
     "end_time": "2024-12-08T14:37:36.400956",
     "exception": false,
     "start_time": "2024-12-08T14:37:36.387025",
     "status": "completed"
    },
    "tags": []
   },
   "source": [
    "## Credit debt repayment stability ratio (CDRS Ratio)\n",
    "\n",
    "### Overview\n",
    "The primary goal of this analysis is to explore the relationship between a customer's spending and repayment patterns and the likelihood of fraudulent activity (`isFraud`). Specifically, we calculate a **stability coefficient** that reflects how consistently a customer closes their credit debt over time, then analyze how this coefficient correlates with fraud probability.\n",
    "\n",
    "### Key Variables\n",
    "\n",
    "1. **Spending Percentage**: The percentage of the credit limit that was spent between full debt repayments.\n",
    " $$ \\text{Spent Percentage} = \\left( \\frac{\\text{Total Amount Spent}}{\\text{Credit Limit}} \\right) \\times 100 $$\n",
    "\n",
    "2. **Days Between Resets**: The number of days between two consecutive events where the available balance equals the credit limit (i.e., the debt is fully repaid).\n",
    "\n",
    "### Stability ratio\n",
    "\n",
    "To measure customer stability, we consider two factors:\n",
    "- The **average spending percentage** between resets.\n",
    "- The **average number of days** between resets.\n",
    "\n",
    "These two values are normalized using Min-Max normalization to bring them into the range of [0, 1]. The final stability coefficient is computed as:\n",
    "\n",
    "$$ \\text{CDRS Ratio} = 1 - (\\text{Normalized Spending Percentage Between Resets} \\times \\text{Normalized Days Between Resets}) $$\n",
    "\n",
    "This coefficient ranges from 0 to 1, where:\n",
    "- A value closer to **1** indicates a more stable customer (less spending, more frequent repayments).\n",
    "- A value closer to **0** indicates less stable repayment behavior.\n",
    "\n",
    "### Hypothesis\n",
    "We hypothesize that a higher stability coefficient (more stable customers) correlates with a lower probability of fraudulent activity. Conversely, lower stability may indicate higher fraud risk.\n",
    "\n",
    "### Fraud Analysis\n",
    "Once the CDRS Ratio is calculated for each account, we group the accounts into ranges (bins) of stability coefficients and calculate the percentage of fraudulent transactions (`isFraud = True`) in each range. The results are visualized to test the hypothesis.\n",
    "\n",
    "### Conclusion\n",
    "This analysis can help identify patterns between customer behavior and fraud risk, providing valuable insights for improving fraud detection models.\n",
    "\n",
    "### Nice to fix and improve\n",
    "- Investigate anomaly in cdrs-ratio range from 0.222-0.333 -- 0.333-0.444\n",
    "- Improve scaling function (when size of input is 1)\n",
    "- Investigate and fix when normalized `avg_norm_days_between_resets` is NaN (reason might be in scaling function)\n"
   ]
  },
  {
   "cell_type": "code",
   "execution_count": 5,
   "id": "a8924ff0872e0c8a",
   "metadata": {
    "ExecuteTime": {
     "end_time": "2024-12-08T13:56:15.839551Z",
     "start_time": "2024-12-08T13:55:57.722108Z"
    },
    "execution": {
     "iopub.execute_input": "2024-12-08T14:37:36.430487Z",
     "iopub.status.busy": "2024-12-08T14:37:36.430487Z",
     "iopub.status.idle": "2024-12-08T14:37:56.260813Z",
     "shell.execute_reply": "2024-12-08T14:37:56.260813Z"
    },
    "papermill": {
     "duration": 19.849576,
     "end_time": "2024-12-08T14:37:56.263929",
     "exception": false,
     "start_time": "2024-12-08T14:37:36.414353",
     "status": "completed"
    },
    "tags": []
   },
   "outputs": [
    {
     "name": "stdout",
     "output_type": "stream",
     "text": [
      "Processing calculate_cdrs_ratio...\n"
     ]
    },
    {
     "name": "stderr",
     "output_type": "stream",
     "text": [
      "C:\\ILLIA\\CODDING\\DATA_SCIENCE\\FTF-detector\\utils\\DataTransformationUtils.py:18: RuntimeWarning: invalid value encountered in divide\n",
      "  return (np.array(values) - min(values)) / (max(values) - min(values))\n"
     ]
    },
    {
     "name": "stderr",
     "output_type": "stream",
     "text": [
      "C:\\Users\\gorba\\AppData\\Local\\Temp\\ipykernel_18580\\3747772818.py:72: FutureWarning: The default of observed=False is deprecated and will be changed to True in a future version of pandas. Pass observed=False to retain current behavior or observed=True to adopt the future default and silence this warning.\n",
      "  fraud_stats = df_merged.groupby('cdrs_range').agg(\n"
     ]
    },
    {
     "data": {
      "image/png": "[encoded data removed]",
      "text/plain": [
       "<Figure size 1000x600 with 1 Axes>"
      ]
     },
     "metadata": {},
     "output_type": "display_data"
    }
   ],
   "source": [
    "\n",
    "# Function to visualize fraud percentage based on stability coefficient\n",
    "def visualize_fraud_vs_cdrs_ratio(fraud_stats):\n",
    "    \"\"\"\n",
    "    Visualizes the fraud percentage based on cdrs ratio ranges.\n",
    "\n",
    "    Parameters:\n",
    "    fraud_stats: DataFrame containing fraud statistics grouped by cdrs ratio ranges.\n",
    "    \"\"\"\n",
    "    plt.figure(figsize=(10, 6))\n",
    "    plt.plot(fraud_stats.index.astype(str), fraud_stats['fraud_percentage'], marker='o', linestyle='-', color='r')\n",
    "    plt.title('Fraud Percentage vs CDRS Ratio')\n",
    "    plt.xlabel('Credit debt repayment stability ratio Range')\n",
    "    plt.ylabel('Fraud Percentage')\n",
    "    plt.xticks(rotation=45)\n",
    "    plt.grid(True)\n",
    "    plt.tight_layout()\n",
    "    plt.show()\n",
    "\n",
    "\n",
    "def calculate_account_stability_stats(account, transactions, reset_indices, stability_data):\n",
    "    days_between_resets = []\n",
    "    spent_percentages = []\n",
    "    # Calculate the amount spent and days between credit limit resets\n",
    "    for i in range(1, len(reset_indices)):\n",
    "        start_idx = (reset_indices[i - 1]) + 1  # not include transaction of replenishment\n",
    "        end_idx = (reset_indices[i]) - 1  # not include transaction of replenishment\n",
    "\n",
    "        # Exclude replenishment transactions from the spending calculation\n",
    "        transaction_slice = transactions.loc[start_idx:end_idx]\n",
    "        non_replenishment_transactions = transaction_slice[\n",
    "            (transaction_slice['transactionType'] != 'REPLENISHMENT') &\n",
    "            (transaction_slice['transactionType'] != 'ADDRESS_VERIFICATION') &\n",
    "            (transaction_slice['transactionType'] != 'REVERSAL')\n",
    "            ]\n",
    "\n",
    "        # Calculate the total amount spent between resets\n",
    "        total_spent = non_replenishment_transactions['transactionAmount'].sum()\n",
    "        credit_limit = transactions.loc[start_idx, 'creditLimit']\n",
    "\n",
    "        spent_percentage = abs((total_spent / credit_limit) * 100)\n",
    "        spent_percentages.append(spent_percentage)\n",
    "\n",
    "        # Calculate the number of days between the two resets\n",
    "        start_date = transactions.loc[start_idx, 'transactionDateTime']\n",
    "        end_date = transactions.loc[end_idx, 'transactionDateTime']\n",
    "        days_between = (end_date - start_date).days\n",
    "        days_between_resets.append(days_between)\n",
    "\n",
    "    # Normalize spent percentages and days between resets\n",
    "    norm_spent_percentages = dtUtils.min_max_normalize(spent_percentages)\n",
    "    norm_days_between_resets = dtUtils.min_max_normalize(days_between_resets)\n",
    "    # Calculate the average normalized values\n",
    "    avg_norm_spent_percentage = np.mean(norm_spent_percentages)\n",
    "    avg_norm_days_between_resets = np.mean(norm_days_between_resets)\n",
    "    # Stability ratio: higher values mean the customer is more stable\n",
    "    cdrs_ratio = 1 - (avg_norm_spent_percentage * avg_norm_days_between_resets)\n",
    "    stability_data.append({\n",
    "        'accountNumber': account,\n",
    "        'creditLimit': transactions.iloc[0].creditLimit,\n",
    "        'avg_norm_spent_percentage': avg_norm_spent_percentage,\n",
    "        'avg_norm_days_between_resets': avg_norm_days_between_resets,\n",
    "        'cdrs_ratio': cdrs_ratio\n",
    "    })\n",
    "\n",
    "def calculate_fraud_stats(df, stability_stats):\n",
    "    # Merge with the original DataFrame on accountNumber\n",
    "    df_merged = df[['accountNumber', 'isFraud']].drop_duplicates().merge(stability_stats, on='accountNumber',\n",
    "                                                                         how='left')\n",
    "    # Create bins for stability coefficient ranges\n",
    "    df_merged['cdrs_range'] = pd.cut(df_merged['cdrs_ratio'], bins=np.linspace(0, 1, 10))\n",
    "    # Calculate fraud percentage in each stability coefficient range\n",
    "    fraud_stats = df_merged.groupby('cdrs_range').agg(\n",
    "        fraud_count=('isFraud', lambda x: (x == True).sum()),\n",
    "        total_count=('isFraud', 'count')\n",
    "    )\n",
    "    fraud_stats['fraud_percentage'] = (fraud_stats['fraud_count'] / fraud_stats['total_count']) * 100\n",
    "    return fraud_stats\n",
    "\n",
    "def calculate_cdrs_ratio(df, credit_cover_threshold):\n",
    "    df = df.sort_values(['accountNumber', 'transactionDateTime'])\n",
    "\n",
    "    stability_data = []\n",
    "\n",
    "    # Loop through each account and calculate stability coefficient\n",
    "    for account, transactions in df.groupby('accountNumber'):\n",
    "        transactions = transactions.reset_index(drop=True)\n",
    "\n",
    "        # Find indices where credit limit is reset (repaid based on the X percent threshold)\n",
    "        reset_indices = transactions[\n",
    "            (transactions['transactionType'] == 'REPLENISHMENT') &\n",
    "            ((transactions['transactionAmount'] + transactions['availableMoney']) >= transactions[\n",
    "                'creditLimit'] * credit_cover_threshold)\n",
    "            ].index.tolist()\n",
    "\n",
    "        if len(reset_indices) < 2:\n",
    "            continue  # Skip accounts with insufficient data for calculation. Ratio for these account will be predicted by other model\n",
    "\n",
    "        calculate_account_stability_stats(account, transactions, reset_indices, stability_data)\n",
    "\n",
    "    # Create DataFrame with stability coefficients for each account\n",
    "    stability_stats = pd.DataFrame(stability_data)\n",
    "\n",
    "    fraud_stats = calculate_fraud_stats(df, stability_stats)\n",
    "\n",
    "    # Add stability coefficient to the original DataFrame\n",
    "    df = df.merge(stability_stats, on='accountNumber', how='left')\n",
    "\n",
    "    return df, fraud_stats, stability_stats\n",
    "\n",
    "df_with_stability, fraud_stats, tuned_stability_stats = stage_data_io_service.run_or_load_snapshot_data(\n",
    "    'calculate_cdrs_ratio',\n",
    "    calculate_cdrs_ratio,\n",
    "    df,\n",
    "    1,\n",
    "    recreate_snapshot=False\n",
    ")\n",
    "visualize_fraud_vs_cdrs_ratio(fraud_stats)"
   ]
  },
  {
   "cell_type": "code",
   "execution_count": 6,
   "id": "825b519b3714c970",
   "metadata": {
    "ExecuteTime": {
     "end_time": "2024-12-08T13:56:17.867123Z",
     "start_time": "2024-12-08T13:56:15.863198Z"
    },
    "execution": {
     "iopub.execute_input": "2024-12-08T14:37:56.293820Z",
     "iopub.status.busy": "2024-12-08T14:37:56.293820Z",
     "iopub.status.idle": "2024-12-08T14:37:58.406607Z",
     "shell.execute_reply": "2024-12-08T14:37:58.406607Z"
    },
    "papermill": {
     "duration": 2.124906,
     "end_time": "2024-12-08T14:37:58.407725",
     "exception": false,
     "start_time": "2024-12-08T14:37:56.282819",
     "status": "completed"
    },
    "tags": []
   },
   "outputs": [
    {
     "name": "stdout",
     "output_type": "stream",
     "text": [
      "Dimensions: 855029 rows, 25 columns\n",
      "Total NA's: 1157573\n",
      "There are no duplicates in this dataset!\n",
      "Column Name                            Data Type  Count Distinct  NA Values \n",
      "accountNumber                          object     5000            0         \n",
      "creditLimit_x                          float64    10              0         \n",
      "availableMoney                         float64    567314          0         \n",
      "transactionDateTime                    datetime64[ns] 844349          0         \n",
      "transactionAmount                      float64    106311          0         \n",
      "acqCountry                             object     4               0         \n",
      "merchantCountryCode                    object     4               0         \n",
      "posEntryMode                           object     5               0         \n",
      "posConditionCode                       object     3               0         \n",
      "merchantCategoryCode                   object     19              0         \n",
      "currentExpDate                         datetime64[ns] 165             0         \n",
      "accountOpenDate                        object     1820            0         \n",
      "dateOfLastAddressChange                datetime64[ns] 2184            0         \n",
      "cardCVV                                object     899             0         \n",
      "enteredCVV                             object     976             0         \n",
      "transactionType                        object     4               0         \n",
      "creditDebt                             float64    516581          0         \n",
      "cardPresent                            bool       2               0         \n",
      "expirationDateKeyInMatch               bool       2               0         \n",
      "isFraud                                bool       2               0         \n",
      "creditLimitRange                       object     4               0         \n",
      "creditLimit_y                          float64    10              287779    \n",
      "avg_norm_spent_percentage              float64    2167            289482    \n",
      "avg_norm_days_between_resets           float64    1728            290079    \n",
      "cdrs_ratio                             float64    2138            290233    \n"
     ]
    }
   ],
   "source": [
    "edaUtils.data_summary(df_with_stability)"
   ]
  },
  {
   "cell_type": "markdown",
   "id": "d3eb65a9d2205f31",
   "metadata": {
    "papermill": {
     "duration": 0.015758,
     "end_time": "2024-12-08T14:37:58.439496",
     "exception": false,
     "start_time": "2024-12-08T14:37:58.423738",
     "status": "completed"
    },
    "tags": []
   },
   "source": [
    "## Predicting CDRS ratio for account with insufficient replenishments according to threshold\n",
    "After calculating CDRS, we visualized the obtained values on the graph. It allowed\n",
    "to reveal an important regularity: the higher the stability coefficient, the lower it is\n",
    "the level of crime among customers, which confirms the correctness of our hypothesis.\n",
    "That is, increasing stability in debt repayment is associated with greater reliability\n",
    "client, which reduces the likelihood of his involvement in fraudulent activities.\n",
    "\n",
    "Visualization showed that higher values of the stability coefficient (CDRS) correlate with lower values\n",
    "fraud rates among users, confirming its usefulness coefficient for building the main model. So it can be concluded that \n",
    "this ratio can be an important tool to improve accuracy predicting fraud based on debt repayment stability.\n",
    "\n",
    "However, when adding a stability factor to the model, some can be observed problems that lead to gaps in the calculation of the coefficient and its subsequent visualization. Skips occur due to several factors:\n",
    "\n",
    "- High debt repayment threshold — if in the parameter credit_cover_threshold (credit debt coverage threshold) is set\n",
    "high value, some accounts may not have enough ranges between repayments to correctly calculate the stability factor. IN \n",
    "as a result, such accounts are skipped in the calculations because for them not enough replenishments will be identified \n",
    "to calculate stability;\n",
    "- Only one top-up range - if the account has only one range between refills, we calculate only one average percentage\n",
    "costs and only one value for the number of days between refills. IN the case where the normalization function receives only one value, it returns a result of 1 (the maximum value after normalization). This leads to the fact that when calculating the coefficient of stability NaN (non-numeric value) is formed, since the formula to calculate the coefficient includes the multiplication of normalized values, which cannot be done with a single value.\n",
    "\n",
    "### For filling N/A we will build sub-model based on features which being used for calculating CDRS:\n",
    "- The percentage of costs between repayments - this indicator helps to assess,\n",
    "what percentage of the credit limit does the customer use between\n",
    "replenishments;\n",
    "- The interval between repayments is an indicator that reflects the average\n",
    "time interval between credit top-ups;\n",
    "- The amount of the credit limit is the amount of the limit that was provided to the client for\n",
    "lending\n",
    "\n",
    "### Algorithm of actions\n",
    "- First, for all accounts we will calculate these variables, it is important to note that\n",
    "that we will not specify the debt repayment threshold, that is, there will be\n",
    "all debt repayment transactions are taken into account. For accounts for which\n",
    "coefficient has already been calculated, these values will be substituted without\n",
    "changes to the data set. And for accounts where the coefficient was omitted, these\n",
    "values will remain omitted;\n",
    "- After that, for the entire data set, we calculate the ranges of values coefficient (range). This allows you to determine in which range each calculated coefficient falls (for example, 0.1 - 0.2, 0.2 - 0.3\n",
    "etc.). This range will be used as a target (target variable) for predicting missing coefficients;\n",
    "- We create a machine learning model to predict these ranges based on calculated variables (percentage of costs, interval\n",
    "between repayments, the amount of the credit limit). The target variable will be precisely the range of the coefficient in which the accounts with the calculated fall coefficient;\n",
    "- When the model predicts the range for accounts with missing items coefficients, we will assign an average to each such account coefficient value among all accounts that fall into this projected range."
   ]
  },
  {
   "cell_type": "code",
   "execution_count": 7,
   "id": "5be1a6096cfaa9d4",
   "metadata": {
    "ExecuteTime": {
     "end_time": "2024-12-08T13:56:57.609394Z",
     "start_time": "2024-12-08T13:56:18.237779Z"
    },
    "execution": {
     "iopub.execute_input": "2024-12-08T14:37:58.473525Z",
     "iopub.status.busy": "2024-12-08T14:37:58.472544Z",
     "iopub.status.idle": "2024-12-08T14:38:36.238809Z",
     "shell.execute_reply": "2024-12-08T14:38:36.237800Z"
    },
    "papermill": {
     "duration": 37.792276,
     "end_time": "2024-12-08T14:38:36.252809",
     "exception": false,
     "start_time": "2024-12-08T14:37:58.460533",
     "status": "completed"
    },
    "tags": []
   },
   "outputs": [
    {
     "name": "stdout",
     "output_type": "stream",
     "text": [
      "Processing calculate_stability_stats_for_all_accounts...\n"
     ]
    },
    {
     "name": "stderr",
     "output_type": "stream",
     "text": [
      "C:\\ILLIA\\CODDING\\DATA_SCIENCE\\FTF-detector\\utils\\DataTransformationUtils.py:18: RuntimeWarning: invalid value encountered in divide\n",
      "  return (np.array(values) - min(values)) / (max(values) - min(values))\n"
     ]
    },
    {
     "data": {
      "text/html": [
       "<div>\n",
       "<style scoped>\n",
       "    .dataframe tbody tr th:only-of-type {\n",
       "        vertical-align: middle;\n",
       "    }\n",
       "\n",
       "    .dataframe tbody tr th {\n",
       "        vertical-align: top;\n",
       "    }\n",
       "\n",
       "    .dataframe thead th {\n",
       "        text-align: right;\n",
       "    }\n",
       "</style>\n",
       "<table border=\"1\" class=\"dataframe\">\n",
       "  <thead>\n",
       "    <tr style=\"text-align: right;\">\n",
       "      <th></th>\n",
       "      <th>accountNumber</th>\n",
       "      <th>creditLimit</th>\n",
       "      <th>avg_norm_spent_percentage</th>\n",
       "      <th>avg_norm_days_between_resets</th>\n",
       "      <th>cdrs_ratio</th>\n",
       "      <th>cdrs_range</th>\n",
       "    </tr>\n",
       "  </thead>\n",
       "  <tbody>\n",
       "    <tr>\n",
       "      <th>0</th>\n",
       "      <td>100088067</td>\n",
       "      <td>50000.0</td>\n",
       "      <td>0.271256</td>\n",
       "      <td>0.740260</td>\n",
       "      <td>0.799200</td>\n",
       "      <td>(0.778, 0.889]</td>\n",
       "    </tr>\n",
       "    <tr>\n",
       "      <th>1</th>\n",
       "      <td>100108752</td>\n",
       "      <td>5000.0</td>\n",
       "      <td>1.000000</td>\n",
       "      <td>1.000000</td>\n",
       "      <td>NaN</td>\n",
       "      <td>NaN</td>\n",
       "    </tr>\n",
       "    <tr>\n",
       "      <th>2</th>\n",
       "      <td>100328049</td>\n",
       "      <td>5000.0</td>\n",
       "      <td>0.488997</td>\n",
       "      <td>0.681818</td>\n",
       "      <td>0.666593</td>\n",
       "      <td>(0.556, 0.667]</td>\n",
       "    </tr>\n",
       "    <tr>\n",
       "      <th>3</th>\n",
       "      <td>100663626</td>\n",
       "      <td>20000.0</td>\n",
       "      <td>0.500000</td>\n",
       "      <td>0.500000</td>\n",
       "      <td>NaN</td>\n",
       "      <td>NaN</td>\n",
       "    </tr>\n",
       "    <tr>\n",
       "      <th>4</th>\n",
       "      <td>100737756</td>\n",
       "      <td>250.0</td>\n",
       "      <td>0.127899</td>\n",
       "      <td>0.121490</td>\n",
       "      <td>0.926386</td>\n",
       "      <td>(0.889, 1.0]</td>\n",
       "    </tr>\n",
       "    <tr>\n",
       "      <th>...</th>\n",
       "      <td>...</td>\n",
       "      <td>...</td>\n",
       "      <td>...</td>\n",
       "      <td>...</td>\n",
       "      <td>...</td>\n",
       "      <td>...</td>\n",
       "    </tr>\n",
       "    <tr>\n",
       "      <th>4995</th>\n",
       "      <td>999086814</td>\n",
       "      <td>10000.0</td>\n",
       "      <td>0.478531</td>\n",
       "      <td>0.380952</td>\n",
       "      <td>0.000000</td>\n",
       "      <td>NaN</td>\n",
       "    </tr>\n",
       "    <tr>\n",
       "      <th>4996</th>\n",
       "      <td>999257059</td>\n",
       "      <td>15000.0</td>\n",
       "      <td>0.375245</td>\n",
       "      <td>0.266667</td>\n",
       "      <td>0.899935</td>\n",
       "      <td>(0.889, 1.0]</td>\n",
       "    </tr>\n",
       "    <tr>\n",
       "      <th>4997</th>\n",
       "      <td>999258704</td>\n",
       "      <td>5000.0</td>\n",
       "      <td>0.442661</td>\n",
       "      <td>0.251220</td>\n",
       "      <td>0.888795</td>\n",
       "      <td>(0.778, 0.889]</td>\n",
       "    </tr>\n",
       "    <tr>\n",
       "      <th>4998</th>\n",
       "      <td>999283629</td>\n",
       "      <td>2500.0</td>\n",
       "      <td>0.534500</td>\n",
       "      <td>0.726790</td>\n",
       "      <td>0.712807</td>\n",
       "      <td>(0.667, 0.778]</td>\n",
       "    </tr>\n",
       "    <tr>\n",
       "      <th>4999</th>\n",
       "      <td>999389635</td>\n",
       "      <td>5000.0</td>\n",
       "      <td>0.307944</td>\n",
       "      <td>0.226994</td>\n",
       "      <td>NaN</td>\n",
       "      <td>NaN</td>\n",
       "    </tr>\n",
       "  </tbody>\n",
       "</table>\n",
       "<p>5000 rows × 6 columns</p>\n",
       "</div>"
      ],
      "text/plain": [
       "     accountNumber  creditLimit  avg_norm_spent_percentage  \\\n",
       "0        100088067      50000.0                   0.271256   \n",
       "1        100108752       5000.0                   1.000000   \n",
       "2        100328049       5000.0                   0.488997   \n",
       "3        100663626      20000.0                   0.500000   \n",
       "4        100737756        250.0                   0.127899   \n",
       "...            ...          ...                        ...   \n",
       "4995     999086814      10000.0                   0.478531   \n",
       "4996     999257059      15000.0                   0.375245   \n",
       "4997     999258704       5000.0                   0.442661   \n",
       "4998     999283629       2500.0                   0.534500   \n",
       "4999     999389635       5000.0                   0.307944   \n",
       "\n",
       "      avg_norm_days_between_resets  cdrs_ratio      cdrs_range  \n",
       "0                         0.740260    0.799200  (0.778, 0.889]  \n",
       "1                         1.000000         NaN             NaN  \n",
       "2                         0.681818    0.666593  (0.556, 0.667]  \n",
       "3                         0.500000         NaN             NaN  \n",
       "4                         0.121490    0.926386    (0.889, 1.0]  \n",
       "...                            ...         ...             ...  \n",
       "4995                      0.380952    0.000000             NaN  \n",
       "4996                      0.266667    0.899935    (0.889, 1.0]  \n",
       "4997                      0.251220    0.888795  (0.778, 0.889]  \n",
       "4998                      0.726790    0.712807  (0.667, 0.778]  \n",
       "4999                      0.226994         NaN             NaN  \n",
       "\n",
       "[5000 rows x 6 columns]"
      ]
     },
     "execution_count": 7,
     "metadata": {},
     "output_type": "execute_result"
    }
   ],
   "source": [
    "df = df.sort_values(['accountNumber', 'transactionDateTime'])\n",
    "\n",
    "\n",
    "def calculate_stability_stats_for_all_accounts(df):\n",
    "    stability_data = []\n",
    "    for account, transactions in df.groupby('accountNumber'):\n",
    "        transactions = transactions.reset_index(drop=True)\n",
    "\n",
    "        reset_indices = transactions[transactions['transactionType'] == 'REPLENISHMENT'].index.tolist()\n",
    "\n",
    "        if len(reset_indices) < 2:\n",
    "            reset_indices = [transactions.head(1).index.item(), transactions.tail(1).index.item()]\n",
    "\n",
    "        calculate_account_stability_stats(account, transactions, reset_indices, stability_data)\n",
    "    stability_stats_full = pd.DataFrame(stability_data)\n",
    "    stability_stats_full['cdrs_ratio'] = np.nan\n",
    "    merged_df = stability_stats_full[['accountNumber']].merge(\n",
    "        tuned_stability_stats[['accountNumber', 'cdrs_ratio']],\n",
    "        on='accountNumber',\n",
    "        how='left'\n",
    "    )\n",
    "    stability_stats_full['cdrs_ratio'] = merged_df['cdrs_ratio']\n",
    "    stability_stats_full['cdrs_range'] = pd.cut(stability_stats_full['cdrs_ratio'], bins=np.linspace(0, 1, 10))\n",
    "    return stability_stats_full\n",
    "\n",
    "\n",
    "stability_stats_full = stage_data_io_service.run_or_load_snapshot_data(\n",
    "    'calculate_stability_stats_for_all_accounts',\n",
    "    calculate_stability_stats_for_all_accounts,\n",
    "    df,\n",
    "    recreate_snapshot=False\n",
    ")\n",
    "stability_stats_full\n"
   ]
  },
  {
   "cell_type": "markdown",
   "id": "7e94f21a1207c939",
   "metadata": {
    "papermill": {
     "duration": 0.015187,
     "end_time": "2024-12-08T14:38:36.279993",
     "exception": false,
     "start_time": "2024-12-08T14:38:36.264806",
     "status": "completed"
    },
    "tags": []
   },
   "source": [
    "### Describe and make data summary for created dataset for CDRS ratio predicting model"
   ]
  },
  {
   "cell_type": "code",
   "execution_count": 8,
   "id": "8ccfb62aec9a4fa5",
   "metadata": {
    "ExecuteTime": {
     "end_time": "2024-12-08T13:56:58.074958Z",
     "start_time": "2024-12-08T13:56:58.056637Z"
    },
    "execution": {
     "iopub.execute_input": "2024-12-08T14:38:36.303430Z",
     "iopub.status.busy": "2024-12-08T14:38:36.302437Z",
     "iopub.status.idle": "2024-12-08T14:38:36.315353Z",
     "shell.execute_reply": "2024-12-08T14:38:36.314946Z"
    },
    "papermill": {
     "duration": 0.025442,
     "end_time": "2024-12-08T14:38:36.316359",
     "exception": false,
     "start_time": "2024-12-08T14:38:36.290917",
     "status": "completed"
    },
    "tags": []
   },
   "outputs": [
    {
     "data": {
      "text/html": [
       "<div>\n",
       "<style scoped>\n",
       "    .dataframe tbody tr th:only-of-type {\n",
       "        vertical-align: middle;\n",
       "    }\n",
       "\n",
       "    .dataframe tbody tr th {\n",
       "        vertical-align: top;\n",
       "    }\n",
       "\n",
       "    .dataframe thead th {\n",
       "        text-align: right;\n",
       "    }\n",
       "</style>\n",
       "<table border=\"1\" class=\"dataframe\">\n",
       "  <thead>\n",
       "    <tr style=\"text-align: right;\">\n",
       "      <th></th>\n",
       "      <th>creditLimit</th>\n",
       "      <th>avg_norm_spent_percentage</th>\n",
       "      <th>avg_norm_days_between_resets</th>\n",
       "      <th>cdrs_ratio</th>\n",
       "    </tr>\n",
       "  </thead>\n",
       "  <tbody>\n",
       "    <tr>\n",
       "      <th>count</th>\n",
       "      <td>5000.000000</td>\n",
       "      <td>4958.000000</td>\n",
       "      <td>4904.000000</td>\n",
       "      <td>2556.000000</td>\n",
       "    </tr>\n",
       "    <tr>\n",
       "      <th>mean</th>\n",
       "      <td>10149.150000</td>\n",
       "      <td>0.499695</td>\n",
       "      <td>0.498370</td>\n",
       "      <td>0.733309</td>\n",
       "    </tr>\n",
       "    <tr>\n",
       "      <th>std</th>\n",
       "      <td>10816.765564</td>\n",
       "      <td>0.245256</td>\n",
       "      <td>0.260187</td>\n",
       "      <td>0.283110</td>\n",
       "    </tr>\n",
       "    <tr>\n",
       "      <th>min</th>\n",
       "      <td>250.000000</td>\n",
       "      <td>0.090909</td>\n",
       "      <td>0.036424</td>\n",
       "      <td>0.000000</td>\n",
       "    </tr>\n",
       "    <tr>\n",
       "      <th>25%</th>\n",
       "      <td>5000.000000</td>\n",
       "      <td>0.340623</td>\n",
       "      <td>0.314394</td>\n",
       "      <td>0.738145</td>\n",
       "    </tr>\n",
       "    <tr>\n",
       "      <th>50%</th>\n",
       "      <td>7500.000000</td>\n",
       "      <td>0.435387</td>\n",
       "      <td>0.436352</td>\n",
       "      <td>0.829692</td>\n",
       "    </tr>\n",
       "    <tr>\n",
       "      <th>75%</th>\n",
       "      <td>15000.000000</td>\n",
       "      <td>0.536415</td>\n",
       "      <td>0.588745</td>\n",
       "      <td>0.896428</td>\n",
       "    </tr>\n",
       "    <tr>\n",
       "      <th>max</th>\n",
       "      <td>50000.000000</td>\n",
       "      <td>1.000000</td>\n",
       "      <td>1.000000</td>\n",
       "      <td>0.990000</td>\n",
       "    </tr>\n",
       "  </tbody>\n",
       "</table>\n",
       "</div>"
      ],
      "text/plain": [
       "        creditLimit  avg_norm_spent_percentage  avg_norm_days_between_resets  \\\n",
       "count   5000.000000                4958.000000                   4904.000000   \n",
       "mean   10149.150000                   0.499695                      0.498370   \n",
       "std    10816.765564                   0.245256                      0.260187   \n",
       "min      250.000000                   0.090909                      0.036424   \n",
       "25%     5000.000000                   0.340623                      0.314394   \n",
       "50%     7500.000000                   0.435387                      0.436352   \n",
       "75%    15000.000000                   0.536415                      0.588745   \n",
       "max    50000.000000                   1.000000                      1.000000   \n",
       "\n",
       "        cdrs_ratio  \n",
       "count  2556.000000  \n",
       "mean      0.733309  \n",
       "std       0.283110  \n",
       "min       0.000000  \n",
       "25%       0.738145  \n",
       "50%       0.829692  \n",
       "75%       0.896428  \n",
       "max       0.990000  "
      ]
     },
     "execution_count": 8,
     "metadata": {},
     "output_type": "execute_result"
    }
   ],
   "source": [
    "stability_stats_full.describe()"
   ]
  },
  {
   "cell_type": "code",
   "execution_count": 9,
   "id": "3a7fe4fb0dba5db7",
   "metadata": {
    "ExecuteTime": {
     "end_time": "2024-12-08T13:56:58.135783Z",
     "start_time": "2024-12-08T13:56:58.123578Z"
    },
    "execution": {
     "iopub.execute_input": "2024-12-08T14:38:36.348420Z",
     "iopub.status.busy": "2024-12-08T14:38:36.348420Z",
     "iopub.status.idle": "2024-12-08T14:38:36.358612Z",
     "shell.execute_reply": "2024-12-08T14:38:36.357606Z"
    },
    "papermill": {
     "duration": 0.025172,
     "end_time": "2024-12-08T14:38:36.359612",
     "exception": false,
     "start_time": "2024-12-08T14:38:36.334440",
     "status": "completed"
    },
    "tags": []
   },
   "outputs": [
    {
     "name": "stdout",
     "output_type": "stream",
     "text": [
      "Dimensions: 5000 rows, 6 columns\n",
      "Total NA's: 5328\n",
      "There are no duplicates in this dataset!\n",
      "Column Name                            Data Type  Count Distinct  NA Values \n",
      "accountNumber                          object     5000            0         \n",
      "creditLimit                            float64    10              0         \n",
      "avg_norm_spent_percentage              float64    3740            42        \n",
      "avg_norm_days_between_resets           float64    3133            96        \n",
      "cdrs_ratio                             float64    2138            2444      \n",
      "cdrs_range                             category   7               2746      \n"
     ]
    }
   ],
   "source": [
    "edaUtils.data_summary(stability_stats_full)"
   ]
  },
  {
   "cell_type": "markdown",
   "id": "7cc3aec2099f0dcd",
   "metadata": {
    "papermill": {
     "duration": 0.011006,
     "end_time": "2024-12-08T14:38:36.382616",
     "exception": false,
     "start_time": "2024-12-08T14:38:36.371610",
     "status": "completed"
    },
    "tags": []
   },
   "source": [
    "### Check correlation on data to predict coefficient"
   ]
  },
  {
   "cell_type": "code",
   "execution_count": 10,
   "id": "4976e15ed603cf35",
   "metadata": {
    "ExecuteTime": {
     "end_time": "2024-12-08T13:56:58.799438Z",
     "start_time": "2024-12-08T13:56:58.460390Z"
    },
    "execution": {
     "iopub.execute_input": "2024-12-08T14:38:36.415219Z",
     "iopub.status.busy": "2024-12-08T14:38:36.414207Z",
     "iopub.status.idle": "2024-12-08T14:38:36.601049Z",
     "shell.execute_reply": "2024-12-08T14:38:36.601049Z"
    },
    "papermill": {
     "duration": 0.20799,
     "end_time": "2024-12-08T14:38:36.602108",
     "exception": false,
     "start_time": "2024-12-08T14:38:36.394118",
     "status": "completed"
    },
    "tags": []
   },
   "outputs": [
    {
     "data": {
      "image/png": "[encoded data removed]",
      "text/plain": [
       "<Figure size 640x480 with 2 Axes>"
      ]
     },
     "metadata": {},
     "output_type": "display_data"
    }
   ],
   "source": [
    "pltUtils.plot_correlation_heatmap(stability_stats_full, ['creditLimit', 'cdrs_ratio', 'avg_norm_days_between_resets', 'avg_norm_spent_percentage'], cmap=\"Reds\")"
   ]
  },
  {
   "cell_type": "markdown",
   "id": "ea6048a8eb6a4fea",
   "metadata": {
    "papermill": {
     "duration": 0.013048,
     "end_time": "2024-12-08T14:38:36.631499",
     "exception": false,
     "start_time": "2024-12-08T14:38:36.618451",
     "status": "completed"
    },
    "tags": []
   },
   "source": [
    "### Check how many accounts where two key variables (`avg_norm_days_between_resets` and `avg_norm_spent_percentage`) are missing and also how many transactions these accounts have in the main dataset"
   ]
  },
  {
   "cell_type": "code",
   "execution_count": 11,
   "id": "17b9f2864fc0fbbe",
   "metadata": {
    "ExecuteTime": {
     "end_time": "2024-12-08T13:56:59.036555Z",
     "start_time": "2024-12-08T13:56:58.970220Z"
    },
    "execution": {
     "iopub.execute_input": "2024-12-08T14:38:36.655483Z",
     "iopub.status.busy": "2024-12-08T14:38:36.655483Z",
     "iopub.status.idle": "2024-12-08T14:38:36.700914Z",
     "shell.execute_reply": "2024-12-08T14:38:36.700570Z"
    },
    "papermill": {
     "duration": 0.059137,
     "end_time": "2024-12-08T14:38:36.701636",
     "exception": false,
     "start_time": "2024-12-08T14:38:36.642499",
     "status": "completed"
    },
    "tags": []
   },
   "outputs": [
    {
     "name": "stdout",
     "output_type": "stream",
     "text": [
      "Count of account transactions where both necessary params avg (spent percentage, avg days btw resets) is nan in stability stats: 573\n",
      "Number 573 is 0.06701527082707136% of 855029\n",
      "Count of frauds transactions in gen dataset by these account numbers: 0\n"
     ]
    }
   ],
   "source": [
    "both_avg_stats_is_na_accounts = stability_stats_full[(stability_stats_full['avg_norm_days_between_resets'].isnull()) & (\n",
    "    stability_stats_full['avg_norm_spent_percentage'].isnull())]['accountNumber']\n",
    "stab_df_both_avg_stats_is_na_accounts = stability_stats_full[\n",
    "    stability_stats_full['accountNumber'].isin(both_avg_stats_is_na_accounts)]\n",
    "\n",
    "gen_df_with_both_invalid_avg_stats = df[df['accountNumber'].isin(both_avg_stats_is_na_accounts)]\n",
    "print(\n",
    "    f'Count of account transactions where both necessary params avg (spent percentage, avg days btw resets) is nan in stability stats: {gen_df_with_both_invalid_avg_stats.shape[0]}')\n",
    "edaUtils.calculate_percentage(gen_df_with_both_invalid_avg_stats.shape[0], df.shape[0])\n",
    "print(\n",
    "    f'Count of frauds transactions in gen dataset by these account numbers: {gen_df_with_both_invalid_avg_stats[gen_df_with_both_invalid_avg_stats[\"isFraud\"] == True].shape[0]}')"
   ]
  },
  {
   "cell_type": "markdown",
   "id": "c3a8e62a1d9548a7",
   "metadata": {
    "papermill": {
     "duration": 0.021114,
     "end_time": "2024-12-08T14:38:36.734756",
     "exception": false,
     "start_time": "2024-12-08T14:38:36.713642",
     "status": "completed"
    },
    "tags": []
   },
   "source": [
    "### Remove accounts that are missing two key variables (`avg_norm_days_between_resets` and `avg_norm_spent_percentage`) from the dataset for the submodel for predicting the coefficient, as well as remove transactions of these accounts from the main dataset"
   ]
  },
  {
   "cell_type": "code",
   "execution_count": 12,
   "id": "b66301d118ddbb53",
   "metadata": {
    "ExecuteTime": {
     "end_time": "2024-12-08T13:56:59.384247Z",
     "start_time": "2024-12-08T13:56:59.176676Z"
    },
    "execution": {
     "iopub.execute_input": "2024-12-08T14:38:36.761727Z",
     "iopub.status.busy": "2024-12-08T14:38:36.761727Z",
     "iopub.status.idle": "2024-12-08T14:38:36.911833Z",
     "shell.execute_reply": "2024-12-08T14:38:36.911833Z"
    },
    "papermill": {
     "duration": 0.166166,
     "end_time": "2024-12-08T14:38:36.913842",
     "exception": false,
     "start_time": "2024-12-08T14:38:36.747676",
     "status": "completed"
    },
    "tags": []
   },
   "outputs": [
    {
     "name": "stdout",
     "output_type": "stream",
     "text": [
      "Dimensions: 4959 rows, 6 columns\n",
      "Total NA's: 5164\n",
      "There are no duplicates in this dataset!\n",
      "Column Name                            Data Type  Count Distinct  NA Values \n",
      "accountNumber                          object     4959            0         \n",
      "creditLimit                            float64    10              0         \n",
      "avg_norm_spent_percentage              float64    3740            1         \n",
      "avg_norm_days_between_resets           float64    3133            55        \n",
      "cdrs_ratio                             float64    2138            2403      \n",
      "cdrs_range                             category   7               2705      \n"
     ]
    }
   ],
   "source": [
    "df.drop(index=gen_df_with_both_invalid_avg_stats.index, inplace=True)\n",
    "stability_stats_full.drop(index=stab_df_both_avg_stats_is_na_accounts.index, inplace=True)\n",
    "edaUtils.data_summary(stability_stats_full)"
   ]
  },
  {
   "cell_type": "markdown",
   "id": "214a9f86b14664d3",
   "metadata": {
    "papermill": {
     "duration": 0.012001,
     "end_time": "2024-12-08T14:38:36.936838",
     "exception": false,
     "start_time": "2024-12-08T14:38:36.924837",
     "status": "completed"
    },
    "tags": []
   },
   "source": [
    "### Check how many accounts where two variable`avg_norm_spent_percentage` is missing and also how many transactions these accounts have in the main dataset"
   ]
  },
  {
   "cell_type": "code",
   "execution_count": 13,
   "id": "6cb09108ced15b38",
   "metadata": {
    "ExecuteTime": {
     "end_time": "2024-12-08T13:57:00.063155Z",
     "start_time": "2024-12-08T13:57:00.010866Z"
    },
    "execution": {
     "iopub.execute_input": "2024-12-08T14:38:36.983868Z",
     "iopub.status.busy": "2024-12-08T14:38:36.982866Z",
     "iopub.status.idle": "2024-12-08T14:38:37.013486Z",
     "shell.execute_reply": "2024-12-08T14:38:37.013486Z"
    },
    "papermill": {
     "duration": 0.051615,
     "end_time": "2024-12-08T14:38:37.015491",
     "exception": false,
     "start_time": "2024-12-08T14:38:36.963876",
     "status": "completed"
    },
    "tags": []
   },
   "outputs": [
    {
     "name": "stdout",
     "output_type": "stream",
     "text": [
      "Count of account transactions where avg spent percentage btw resets in nan in stability stats: 12\n",
      "Number 12 is 0.0014044023331804096% of 854456\n",
      "Count of frauds transactions in gen dataset by these account numbers: 0\n"
     ]
    }
   ],
   "source": [
    "stab_df_invalid_spent_avg_stats_is_na_accounts = \\\n",
    "    stability_stats_full[stability_stats_full['avg_norm_spent_percentage'].isnull()]['accountNumber']\n",
    "gen_df_with_invalid_spent_avg_stats = df[df['accountNumber'].isin(stab_df_invalid_spent_avg_stats_is_na_accounts)]\n",
    "\n",
    "print(\n",
    "    f'Count of account transactions where avg spent percentage btw resets in nan in stability stats: {gen_df_with_invalid_spent_avg_stats.shape[0]}')\n",
    "edaUtils.calculate_percentage(gen_df_with_invalid_spent_avg_stats.shape[0], df.shape[0])\n",
    "print(\n",
    "    f'Count of frauds transactions in gen dataset by these account numbers: {gen_df_with_invalid_spent_avg_stats[gen_df_with_invalid_spent_avg_stats[\"isFraud\"] == True].shape[0]}')"
   ]
  },
  {
   "cell_type": "code",
   "execution_count": 14,
   "id": "2a355cc0128bc7fe",
   "metadata": {
    "ExecuteTime": {
     "end_time": "2024-12-08T13:57:00.952117Z",
     "start_time": "2024-12-08T13:57:00.715386Z"
    },
    "execution": {
     "iopub.execute_input": "2024-12-08T14:38:37.053494Z",
     "iopub.status.busy": "2024-12-08T14:38:37.053494Z",
     "iopub.status.idle": "2024-12-08T14:38:37.128273Z",
     "shell.execute_reply": "2024-12-08T14:38:37.128273Z"
    },
    "papermill": {
     "duration": 0.099207,
     "end_time": "2024-12-08T14:38:37.131733",
     "exception": false,
     "start_time": "2024-12-08T14:38:37.032526",
     "status": "completed"
    },
    "tags": []
   },
   "outputs": [
    {
     "data": {
      "text/html": [
       "<div>\n",
       "<style scoped>\n",
       "    .dataframe tbody tr th:only-of-type {\n",
       "        vertical-align: middle;\n",
       "    }\n",
       "\n",
       "    .dataframe tbody tr th {\n",
       "        vertical-align: top;\n",
       "    }\n",
       "\n",
       "    .dataframe thead th {\n",
       "        text-align: right;\n",
       "    }\n",
       "</style>\n",
       "<table border=\"1\" class=\"dataframe\">\n",
       "  <thead>\n",
       "    <tr style=\"text-align: right;\">\n",
       "      <th></th>\n",
       "      <th>accountNumber</th>\n",
       "      <th>creditLimit</th>\n",
       "      <th>availableMoney</th>\n",
       "      <th>transactionDateTime</th>\n",
       "      <th>transactionAmount</th>\n",
       "      <th>acqCountry</th>\n",
       "      <th>merchantCountryCode</th>\n",
       "      <th>posEntryMode</th>\n",
       "      <th>posConditionCode</th>\n",
       "      <th>merchantCategoryCode</th>\n",
       "      <th>...</th>\n",
       "      <th>accountOpenDate</th>\n",
       "      <th>dateOfLastAddressChange</th>\n",
       "      <th>cardCVV</th>\n",
       "      <th>enteredCVV</th>\n",
       "      <th>transactionType</th>\n",
       "      <th>creditDebt</th>\n",
       "      <th>cardPresent</th>\n",
       "      <th>expirationDateKeyInMatch</th>\n",
       "      <th>isFraud</th>\n",
       "      <th>creditLimitRange</th>\n",
       "    </tr>\n",
       "  </thead>\n",
       "  <tbody>\n",
       "    <tr>\n",
       "      <th>154120</th>\n",
       "      <td>259711806</td>\n",
       "      <td>20000.0</td>\n",
       "      <td>20000.00</td>\n",
       "      <td>2016-09-13 09:44:41.000</td>\n",
       "      <td>20000.00</td>\n",
       "      <td>US</td>\n",
       "      <td>US</td>\n",
       "      <td>05</td>\n",
       "      <td>01</td>\n",
       "      <td>mobileapps</td>\n",
       "      <td>...</td>\n",
       "      <td>2010-05-10</td>\n",
       "      <td>2010-05-10</td>\n",
       "      <td>784</td>\n",
       "      <td>784</td>\n",
       "      <td>REPLENISHMENT</td>\n",
       "      <td>0.00</td>\n",
       "      <td>False</td>\n",
       "      <td>False</td>\n",
       "      <td>False</td>\n",
       "      <td>75-100%</td>\n",
       "    </tr>\n",
       "    <tr>\n",
       "      <th>154121</th>\n",
       "      <td>259711806</td>\n",
       "      <td>20000.0</td>\n",
       "      <td>20000.00</td>\n",
       "      <td>2016-09-14 09:44:41.000</td>\n",
       "      <td>6.58</td>\n",
       "      <td>US</td>\n",
       "      <td>US</td>\n",
       "      <td>05</td>\n",
       "      <td>01</td>\n",
       "      <td>mobileapps</td>\n",
       "      <td>...</td>\n",
       "      <td>2010-05-10</td>\n",
       "      <td>2010-05-10</td>\n",
       "      <td>784</td>\n",
       "      <td>784</td>\n",
       "      <td>PURCHASE</td>\n",
       "      <td>0.00</td>\n",
       "      <td>False</td>\n",
       "      <td>False</td>\n",
       "      <td>False</td>\n",
       "      <td>75-100%</td>\n",
       "    </tr>\n",
       "    <tr>\n",
       "      <th>154122</th>\n",
       "      <td>259711806</td>\n",
       "      <td>20000.0</td>\n",
       "      <td>19993.42</td>\n",
       "      <td>2016-09-16 22:04:48.000</td>\n",
       "      <td>10.80</td>\n",
       "      <td>US</td>\n",
       "      <td>US</td>\n",
       "      <td>05</td>\n",
       "      <td>01</td>\n",
       "      <td>online_subscriptions</td>\n",
       "      <td>...</td>\n",
       "      <td>2010-05-10</td>\n",
       "      <td>2010-05-10</td>\n",
       "      <td>784</td>\n",
       "      <td>787</td>\n",
       "      <td>PURCHASE</td>\n",
       "      <td>6.58</td>\n",
       "      <td>False</td>\n",
       "      <td>False</td>\n",
       "      <td>False</td>\n",
       "      <td>75-100%</td>\n",
       "    </tr>\n",
       "    <tr>\n",
       "      <th>154123</th>\n",
       "      <td>259711806</td>\n",
       "      <td>20000.0</td>\n",
       "      <td>19982.62</td>\n",
       "      <td>2016-10-01 10:43:33.500</td>\n",
       "      <td>17.38</td>\n",
       "      <td>US</td>\n",
       "      <td>US</td>\n",
       "      <td>05</td>\n",
       "      <td>01</td>\n",
       "      <td>online_subscriptions</td>\n",
       "      <td>...</td>\n",
       "      <td>2010-05-10</td>\n",
       "      <td>2010-05-10</td>\n",
       "      <td>784</td>\n",
       "      <td>784</td>\n",
       "      <td>REPLENISHMENT</td>\n",
       "      <td>17.38</td>\n",
       "      <td>False</td>\n",
       "      <td>False</td>\n",
       "      <td>False</td>\n",
       "      <td>75-100%</td>\n",
       "    </tr>\n",
       "    <tr>\n",
       "      <th>154124</th>\n",
       "      <td>259711806</td>\n",
       "      <td>20000.0</td>\n",
       "      <td>20000.00</td>\n",
       "      <td>2016-10-15 23:22:19.000</td>\n",
       "      <td>6.58</td>\n",
       "      <td>US</td>\n",
       "      <td>US</td>\n",
       "      <td>05</td>\n",
       "      <td>01</td>\n",
       "      <td>mobileapps</td>\n",
       "      <td>...</td>\n",
       "      <td>2010-05-10</td>\n",
       "      <td>2010-05-10</td>\n",
       "      <td>784</td>\n",
       "      <td>784</td>\n",
       "      <td>PURCHASE</td>\n",
       "      <td>0.00</td>\n",
       "      <td>False</td>\n",
       "      <td>False</td>\n",
       "      <td>False</td>\n",
       "      <td>75-100%</td>\n",
       "    </tr>\n",
       "    <tr>\n",
       "      <th>154125</th>\n",
       "      <td>259711806</td>\n",
       "      <td>20000.0</td>\n",
       "      <td>19993.42</td>\n",
       "      <td>2016-10-17 06:06:18.000</td>\n",
       "      <td>10.80</td>\n",
       "      <td>US</td>\n",
       "      <td>US</td>\n",
       "      <td>05</td>\n",
       "      <td>01</td>\n",
       "      <td>online_subscriptions</td>\n",
       "      <td>...</td>\n",
       "      <td>2010-05-10</td>\n",
       "      <td>2010-05-10</td>\n",
       "      <td>784</td>\n",
       "      <td>787</td>\n",
       "      <td>PURCHASE</td>\n",
       "      <td>6.58</td>\n",
       "      <td>False</td>\n",
       "      <td>False</td>\n",
       "      <td>False</td>\n",
       "      <td>75-100%</td>\n",
       "    </tr>\n",
       "    <tr>\n",
       "      <th>154126</th>\n",
       "      <td>259711806</td>\n",
       "      <td>20000.0</td>\n",
       "      <td>19982.62</td>\n",
       "      <td>2016-11-01 01:46:42.000</td>\n",
       "      <td>17.38</td>\n",
       "      <td>US</td>\n",
       "      <td>US</td>\n",
       "      <td>05</td>\n",
       "      <td>01</td>\n",
       "      <td>online_subscriptions</td>\n",
       "      <td>...</td>\n",
       "      <td>2010-05-10</td>\n",
       "      <td>2010-05-10</td>\n",
       "      <td>784</td>\n",
       "      <td>784</td>\n",
       "      <td>REPLENISHMENT</td>\n",
       "      <td>17.38</td>\n",
       "      <td>False</td>\n",
       "      <td>False</td>\n",
       "      <td>False</td>\n",
       "      <td>75-100%</td>\n",
       "    </tr>\n",
       "    <tr>\n",
       "      <th>154127</th>\n",
       "      <td>259711806</td>\n",
       "      <td>20000.0</td>\n",
       "      <td>20000.00</td>\n",
       "      <td>2016-11-15 21:27:06.000</td>\n",
       "      <td>6.58</td>\n",
       "      <td>US</td>\n",
       "      <td>US</td>\n",
       "      <td>05</td>\n",
       "      <td>01</td>\n",
       "      <td>mobileapps</td>\n",
       "      <td>...</td>\n",
       "      <td>2010-05-10</td>\n",
       "      <td>2010-05-10</td>\n",
       "      <td>784</td>\n",
       "      <td>784</td>\n",
       "      <td>PURCHASE</td>\n",
       "      <td>0.00</td>\n",
       "      <td>False</td>\n",
       "      <td>False</td>\n",
       "      <td>False</td>\n",
       "      <td>75-100%</td>\n",
       "    </tr>\n",
       "    <tr>\n",
       "      <th>154128</th>\n",
       "      <td>259711806</td>\n",
       "      <td>20000.0</td>\n",
       "      <td>19993.42</td>\n",
       "      <td>2016-11-16 08:33:18.000</td>\n",
       "      <td>10.80</td>\n",
       "      <td>US</td>\n",
       "      <td>US</td>\n",
       "      <td>05</td>\n",
       "      <td>01</td>\n",
       "      <td>online_subscriptions</td>\n",
       "      <td>...</td>\n",
       "      <td>2010-05-10</td>\n",
       "      <td>2010-05-10</td>\n",
       "      <td>784</td>\n",
       "      <td>787</td>\n",
       "      <td>PURCHASE</td>\n",
       "      <td>6.58</td>\n",
       "      <td>False</td>\n",
       "      <td>False</td>\n",
       "      <td>False</td>\n",
       "      <td>75-100%</td>\n",
       "    </tr>\n",
       "    <tr>\n",
       "      <th>154129</th>\n",
       "      <td>259711806</td>\n",
       "      <td>20000.0</td>\n",
       "      <td>19982.62</td>\n",
       "      <td>2016-12-01 21:12:57.000</td>\n",
       "      <td>17.38</td>\n",
       "      <td>US</td>\n",
       "      <td>US</td>\n",
       "      <td>05</td>\n",
       "      <td>01</td>\n",
       "      <td>online_subscriptions</td>\n",
       "      <td>...</td>\n",
       "      <td>2010-05-10</td>\n",
       "      <td>2010-05-10</td>\n",
       "      <td>784</td>\n",
       "      <td>784</td>\n",
       "      <td>REPLENISHMENT</td>\n",
       "      <td>17.38</td>\n",
       "      <td>False</td>\n",
       "      <td>False</td>\n",
       "      <td>False</td>\n",
       "      <td>75-100%</td>\n",
       "    </tr>\n",
       "    <tr>\n",
       "      <th>154130</th>\n",
       "      <td>259711806</td>\n",
       "      <td>20000.0</td>\n",
       "      <td>20000.00</td>\n",
       "      <td>2016-12-17 09:52:36.000</td>\n",
       "      <td>10.80</td>\n",
       "      <td>US</td>\n",
       "      <td>US</td>\n",
       "      <td>05</td>\n",
       "      <td>01</td>\n",
       "      <td>online_subscriptions</td>\n",
       "      <td>...</td>\n",
       "      <td>2010-05-10</td>\n",
       "      <td>2010-05-10</td>\n",
       "      <td>784</td>\n",
       "      <td>787</td>\n",
       "      <td>PURCHASE</td>\n",
       "      <td>0.00</td>\n",
       "      <td>False</td>\n",
       "      <td>False</td>\n",
       "      <td>False</td>\n",
       "      <td>75-100%</td>\n",
       "    </tr>\n",
       "    <tr>\n",
       "      <th>154131</th>\n",
       "      <td>259711806</td>\n",
       "      <td>20000.0</td>\n",
       "      <td>19989.20</td>\n",
       "      <td>2016-12-17 18:08:43.000</td>\n",
       "      <td>6.58</td>\n",
       "      <td>US</td>\n",
       "      <td>US</td>\n",
       "      <td>05</td>\n",
       "      <td>01</td>\n",
       "      <td>mobileapps</td>\n",
       "      <td>...</td>\n",
       "      <td>2010-05-10</td>\n",
       "      <td>2010-05-10</td>\n",
       "      <td>784</td>\n",
       "      <td>784</td>\n",
       "      <td>PURCHASE</td>\n",
       "      <td>10.80</td>\n",
       "      <td>False</td>\n",
       "      <td>False</td>\n",
       "      <td>False</td>\n",
       "      <td>75-100%</td>\n",
       "    </tr>\n",
       "  </tbody>\n",
       "</table>\n",
       "<p>12 rows × 21 columns</p>\n",
       "</div>"
      ],
      "text/plain": [
       "       accountNumber  creditLimit  availableMoney     transactionDateTime  \\\n",
       "154120     259711806      20000.0        20000.00 2016-09-13 09:44:41.000   \n",
       "154121     259711806      20000.0        20000.00 2016-09-14 09:44:41.000   \n",
       "154122     259711806      20000.0        19993.42 2016-09-16 22:04:48.000   \n",
       "154123     259711806      20000.0        19982.62 2016-10-01 10:43:33.500   \n",
       "154124     259711806      20000.0        20000.00 2016-10-15 23:22:19.000   \n",
       "154125     259711806      20000.0        19993.42 2016-10-17 06:06:18.000   \n",
       "154126     259711806      20000.0        19982.62 2016-11-01 01:46:42.000   \n",
       "154127     259711806      20000.0        20000.00 2016-11-15 21:27:06.000   \n",
       "154128     259711806      20000.0        19993.42 2016-11-16 08:33:18.000   \n",
       "154129     259711806      20000.0        19982.62 2016-12-01 21:12:57.000   \n",
       "154130     259711806      20000.0        20000.00 2016-12-17 09:52:36.000   \n",
       "154131     259711806      20000.0        19989.20 2016-12-17 18:08:43.000   \n",
       "\n",
       "        transactionAmount acqCountry merchantCountryCode posEntryMode  \\\n",
       "154120           20000.00         US                  US           05   \n",
       "154121               6.58         US                  US           05   \n",
       "154122              10.80         US                  US           05   \n",
       "154123              17.38         US                  US           05   \n",
       "154124               6.58         US                  US           05   \n",
       "154125              10.80         US                  US           05   \n",
       "154126              17.38         US                  US           05   \n",
       "154127               6.58         US                  US           05   \n",
       "154128              10.80         US                  US           05   \n",
       "154129              17.38         US                  US           05   \n",
       "154130              10.80         US                  US           05   \n",
       "154131               6.58         US                  US           05   \n",
       "\n",
       "       posConditionCode  merchantCategoryCode  ... accountOpenDate  \\\n",
       "154120               01            mobileapps  ...      2010-05-10   \n",
       "154121               01            mobileapps  ...      2010-05-10   \n",
       "154122               01  online_subscriptions  ...      2010-05-10   \n",
       "154123               01  online_subscriptions  ...      2010-05-10   \n",
       "154124               01            mobileapps  ...      2010-05-10   \n",
       "154125               01  online_subscriptions  ...      2010-05-10   \n",
       "154126               01  online_subscriptions  ...      2010-05-10   \n",
       "154127               01            mobileapps  ...      2010-05-10   \n",
       "154128               01  online_subscriptions  ...      2010-05-10   \n",
       "154129               01  online_subscriptions  ...      2010-05-10   \n",
       "154130               01  online_subscriptions  ...      2010-05-10   \n",
       "154131               01            mobileapps  ...      2010-05-10   \n",
       "\n",
       "       dateOfLastAddressChange cardCVV enteredCVV transactionType creditDebt  \\\n",
       "154120              2010-05-10     784        784   REPLENISHMENT       0.00   \n",
       "154121              2010-05-10     784        784        PURCHASE       0.00   \n",
       "154122              2010-05-10     784        787        PURCHASE       6.58   \n",
       "154123              2010-05-10     784        784   REPLENISHMENT      17.38   \n",
       "154124              2010-05-10     784        784        PURCHASE       0.00   \n",
       "154125              2010-05-10     784        787        PURCHASE       6.58   \n",
       "154126              2010-05-10     784        784   REPLENISHMENT      17.38   \n",
       "154127              2010-05-10     784        784        PURCHASE       0.00   \n",
       "154128              2010-05-10     784        787        PURCHASE       6.58   \n",
       "154129              2010-05-10     784        784   REPLENISHMENT      17.38   \n",
       "154130              2010-05-10     784        787        PURCHASE       0.00   \n",
       "154131              2010-05-10     784        784        PURCHASE      10.80   \n",
       "\n",
       "        cardPresent  expirationDateKeyInMatch  isFraud  creditLimitRange  \n",
       "154120        False                     False    False           75-100%  \n",
       "154121        False                     False    False           75-100%  \n",
       "154122        False                     False    False           75-100%  \n",
       "154123        False                     False    False           75-100%  \n",
       "154124        False                     False    False           75-100%  \n",
       "154125        False                     False    False           75-100%  \n",
       "154126        False                     False    False           75-100%  \n",
       "154127        False                     False    False           75-100%  \n",
       "154128        False                     False    False           75-100%  \n",
       "154129        False                     False    False           75-100%  \n",
       "154130        False                     False    False           75-100%  \n",
       "154131        False                     False    False           75-100%  \n",
       "\n",
       "[12 rows x 21 columns]"
      ]
     },
     "execution_count": 14,
     "metadata": {},
     "output_type": "execute_result"
    }
   ],
   "source": [
    "df[df['accountNumber'] == '259711806']"
   ]
  },
  {
   "cell_type": "markdown",
   "id": "78d9d3d13c75563e",
   "metadata": {
    "papermill": {
     "duration": 0.027401,
     "end_time": "2024-12-08T14:38:37.182355",
     "exception": false,
     "start_time": "2024-12-08T14:38:37.154954",
     "status": "completed"
    },
    "tags": []
   },
   "source": [
    "### Remove accounts that is missing key variable `avg_norm_spent_percentage` from the dataset for the submodel for predicting the coefficient, as well as remove transactions of these accounts from the main dataset"
   ]
  },
  {
   "cell_type": "code",
   "execution_count": 15,
   "id": "e02af108f3b7c5e6",
   "metadata": {
    "ExecuteTime": {
     "end_time": "2024-12-08T13:57:02.185946Z",
     "start_time": "2024-12-08T13:57:01.895864Z"
    },
    "execution": {
     "iopub.execute_input": "2024-12-08T14:38:37.219149Z",
     "iopub.status.busy": "2024-12-08T14:38:37.219149Z",
     "iopub.status.idle": "2024-12-08T14:38:37.415038Z",
     "shell.execute_reply": "2024-12-08T14:38:37.413511Z"
    },
    "papermill": {
     "duration": 0.216941,
     "end_time": "2024-12-08T14:38:37.418124",
     "exception": false,
     "start_time": "2024-12-08T14:38:37.201183",
     "status": "completed"
    },
    "tags": []
   },
   "outputs": [
    {
     "name": "stdout",
     "output_type": "stream",
     "text": [
      "Dimensions: 4958 rows, 6 columns\n",
      "Total NA's: 5161\n",
      "There are no duplicates in this dataset!\n",
      "Column Name                            Data Type  Count Distinct  NA Values \n",
      "accountNumber                          object     4958            0         \n",
      "creditLimit                            float64    10              0         \n",
      "avg_norm_spent_percentage              float64    3740            0         \n",
      "avg_norm_days_between_resets           float64    3133            55        \n",
      "cdrs_ratio                             float64    2138            2402      \n",
      "cdrs_range                             category   7               2704      \n"
     ]
    }
   ],
   "source": [
    "df.drop(index=gen_df_with_invalid_spent_avg_stats.index, inplace=True)\n",
    "stability_stats_full.drop(index=stab_df_invalid_spent_avg_stats_is_na_accounts.index, inplace=True)\n",
    "edaUtils.data_summary(stability_stats_full)"
   ]
  },
  {
   "cell_type": "markdown",
   "id": "d6fb70f94a25f3a7",
   "metadata": {
    "papermill": {
     "duration": 0.031986,
     "end_time": "2024-12-08T14:38:37.471087",
     "exception": false,
     "start_time": "2024-12-08T14:38:37.439101",
     "status": "completed"
    },
    "tags": []
   },
   "source": [
    "### Check how many accounts where two variable`avg_norm_days_between_resets` is missing and also how many transactions these accounts have in the main dataset"
   ]
  },
  {
   "cell_type": "code",
   "execution_count": 16,
   "id": "59535582ccaae728",
   "metadata": {
    "ExecuteTime": {
     "end_time": "2024-12-08T13:57:02.295072Z",
     "start_time": "2024-12-08T13:57:02.238979Z"
    },
    "execution": {
     "iopub.execute_input": "2024-12-08T14:38:37.527101Z",
     "iopub.status.busy": "2024-12-08T14:38:37.526009Z",
     "iopub.status.idle": "2024-12-08T14:38:37.569183Z",
     "shell.execute_reply": "2024-12-08T14:38:37.568171Z"
    },
    "papermill": {
     "duration": 0.070652,
     "end_time": "2024-12-08T14:38:37.572293",
     "exception": false,
     "start_time": "2024-12-08T14:38:37.501641",
     "status": "completed"
    },
    "tags": []
   },
   "outputs": [
    {
     "name": "stdout",
     "output_type": "stream",
     "text": [
      "Count of account transactions where avg days btw resets in nan in stability stats: 35127\n",
      "Number 35127 is 4.111094466108955% of 854444\n",
      "Count of frauds transactions in gen dataset by these account numbers: 787\n",
      "Number 787 is 6.3380848836272845% of 12417\n"
     ]
    }
   ],
   "source": [
    "days_avg_stat_is_na_accounts = stability_stats_full[stability_stats_full['avg_norm_days_between_resets'].isnull()][\n",
    "    'accountNumber']\n",
    "stab_df_days_avg_stats_is_na_accounts = stability_stats_full[\n",
    "    stability_stats_full['accountNumber'].isin(days_avg_stat_is_na_accounts)]\n",
    "\n",
    "gen_df_with_invalid_days_avg_stats = df[df['accountNumber'].isin(days_avg_stat_is_na_accounts)]\n",
    "print(\n",
    "    f'Count of account transactions where avg days btw resets in nan in stability stats: {gen_df_with_invalid_days_avg_stats.shape[0]}')\n",
    "edaUtils.calculate_percentage(gen_df_with_invalid_days_avg_stats.shape[0], df.shape[0])\n",
    "print(\n",
    "    f'Count of frauds transactions in gen dataset by these account numbers: {gen_df_with_invalid_days_avg_stats[gen_df_with_invalid_days_avg_stats[\"isFraud\"] == True].shape[0]}')\n",
    "\n",
    "edaUtils.calculate_percentage(gen_df_with_invalid_days_avg_stats[gen_df_with_invalid_days_avg_stats[\"isFraud\"] == True].shape[0], df[df['isFraud'] == True].shape[0])"
   ]
  },
  {
   "cell_type": "code",
   "execution_count": 17,
   "id": "c6f1fda68b4a94d5",
   "metadata": {
    "ExecuteTime": {
     "end_time": "2024-12-08T13:57:02.462230Z",
     "start_time": "2024-12-08T13:57:02.354739Z"
    },
    "execution": {
     "iopub.execute_input": "2024-12-08T14:38:37.616049Z",
     "iopub.status.busy": "2024-12-08T14:38:37.615047Z",
     "iopub.status.idle": "2024-12-08T14:38:37.691086Z",
     "shell.execute_reply": "2024-12-08T14:38:37.691086Z"
    },
    "papermill": {
     "duration": 0.101871,
     "end_time": "2024-12-08T14:38:37.693171",
     "exception": false,
     "start_time": "2024-12-08T14:38:37.591300",
     "status": "completed"
    },
    "tags": []
   },
   "outputs": [
    {
     "data": {
      "text/html": [
       "<div>\n",
       "<style scoped>\n",
       "    .dataframe tbody tr th:only-of-type {\n",
       "        vertical-align: middle;\n",
       "    }\n",
       "\n",
       "    .dataframe tbody tr th {\n",
       "        vertical-align: top;\n",
       "    }\n",
       "\n",
       "    .dataframe thead th {\n",
       "        text-align: right;\n",
       "    }\n",
       "</style>\n",
       "<table border=\"1\" class=\"dataframe\">\n",
       "  <thead>\n",
       "    <tr style=\"text-align: right;\">\n",
       "      <th></th>\n",
       "      <th>accountNumber</th>\n",
       "      <th>creditLimit</th>\n",
       "      <th>availableMoney</th>\n",
       "      <th>transactionDateTime</th>\n",
       "      <th>transactionAmount</th>\n",
       "      <th>acqCountry</th>\n",
       "      <th>merchantCountryCode</th>\n",
       "      <th>posEntryMode</th>\n",
       "      <th>posConditionCode</th>\n",
       "      <th>merchantCategoryCode</th>\n",
       "      <th>...</th>\n",
       "      <th>accountOpenDate</th>\n",
       "      <th>dateOfLastAddressChange</th>\n",
       "      <th>cardCVV</th>\n",
       "      <th>enteredCVV</th>\n",
       "      <th>transactionType</th>\n",
       "      <th>creditDebt</th>\n",
       "      <th>cardPresent</th>\n",
       "      <th>expirationDateKeyInMatch</th>\n",
       "      <th>isFraud</th>\n",
       "      <th>creditLimitRange</th>\n",
       "    </tr>\n",
       "  </thead>\n",
       "  <tbody>\n",
       "    <tr>\n",
       "      <th>51651</th>\n",
       "      <td>155977598</td>\n",
       "      <td>5000.0</td>\n",
       "      <td>5000.00</td>\n",
       "      <td>2016-02-27 15:29:21.000</td>\n",
       "      <td>5000.00</td>\n",
       "      <td>US</td>\n",
       "      <td>US</td>\n",
       "      <td>05</td>\n",
       "      <td>01</td>\n",
       "      <td>online_subscriptions</td>\n",
       "      <td>...</td>\n",
       "      <td>2012-08-12</td>\n",
       "      <td>2012-08-12</td>\n",
       "      <td>424</td>\n",
       "      <td>424</td>\n",
       "      <td>REPLENISHMENT</td>\n",
       "      <td>0.00</td>\n",
       "      <td>False</td>\n",
       "      <td>False</td>\n",
       "      <td>False</td>\n",
       "      <td>0-25%</td>\n",
       "    </tr>\n",
       "    <tr>\n",
       "      <th>51652</th>\n",
       "      <td>155977598</td>\n",
       "      <td>5000.0</td>\n",
       "      <td>5000.00</td>\n",
       "      <td>2016-02-28 15:29:21.000</td>\n",
       "      <td>22.35</td>\n",
       "      <td>US</td>\n",
       "      <td>US</td>\n",
       "      <td>05</td>\n",
       "      <td>01</td>\n",
       "      <td>online_subscriptions</td>\n",
       "      <td>...</td>\n",
       "      <td>2012-08-12</td>\n",
       "      <td>2012-08-12</td>\n",
       "      <td>424</td>\n",
       "      <td>424</td>\n",
       "      <td>PURCHASE</td>\n",
       "      <td>0.00</td>\n",
       "      <td>False</td>\n",
       "      <td>False</td>\n",
       "      <td>False</td>\n",
       "      <td>0-25%</td>\n",
       "    </tr>\n",
       "    <tr>\n",
       "      <th>51653</th>\n",
       "      <td>155977598</td>\n",
       "      <td>5000.0</td>\n",
       "      <td>4977.65</td>\n",
       "      <td>2016-03-14 20:19:49.500</td>\n",
       "      <td>22.35</td>\n",
       "      <td>US</td>\n",
       "      <td>US</td>\n",
       "      <td>05</td>\n",
       "      <td>01</td>\n",
       "      <td>online_subscriptions</td>\n",
       "      <td>...</td>\n",
       "      <td>2012-08-12</td>\n",
       "      <td>2012-08-12</td>\n",
       "      <td>424</td>\n",
       "      <td>424</td>\n",
       "      <td>REPLENISHMENT</td>\n",
       "      <td>22.35</td>\n",
       "      <td>False</td>\n",
       "      <td>False</td>\n",
       "      <td>False</td>\n",
       "      <td>0-25%</td>\n",
       "    </tr>\n",
       "    <tr>\n",
       "      <th>51654</th>\n",
       "      <td>155977598</td>\n",
       "      <td>5000.0</td>\n",
       "      <td>5000.00</td>\n",
       "      <td>2016-03-30 01:10:18.000</td>\n",
       "      <td>22.35</td>\n",
       "      <td>US</td>\n",
       "      <td>US</td>\n",
       "      <td>05</td>\n",
       "      <td>01</td>\n",
       "      <td>online_subscriptions</td>\n",
       "      <td>...</td>\n",
       "      <td>2012-08-12</td>\n",
       "      <td>2012-08-12</td>\n",
       "      <td>424</td>\n",
       "      <td>424</td>\n",
       "      <td>PURCHASE</td>\n",
       "      <td>0.00</td>\n",
       "      <td>False</td>\n",
       "      <td>False</td>\n",
       "      <td>False</td>\n",
       "      <td>0-25%</td>\n",
       "    </tr>\n",
       "    <tr>\n",
       "      <th>51655</th>\n",
       "      <td>155977598</td>\n",
       "      <td>5000.0</td>\n",
       "      <td>4977.65</td>\n",
       "      <td>2016-04-14 13:23:21.500</td>\n",
       "      <td>22.35</td>\n",
       "      <td>US</td>\n",
       "      <td>US</td>\n",
       "      <td>05</td>\n",
       "      <td>01</td>\n",
       "      <td>online_subscriptions</td>\n",
       "      <td>...</td>\n",
       "      <td>2012-08-12</td>\n",
       "      <td>2012-08-12</td>\n",
       "      <td>424</td>\n",
       "      <td>424</td>\n",
       "      <td>REPLENISHMENT</td>\n",
       "      <td>22.35</td>\n",
       "      <td>False</td>\n",
       "      <td>False</td>\n",
       "      <td>False</td>\n",
       "      <td>0-25%</td>\n",
       "    </tr>\n",
       "    <tr>\n",
       "      <th>51656</th>\n",
       "      <td>155977598</td>\n",
       "      <td>5000.0</td>\n",
       "      <td>5000.00</td>\n",
       "      <td>2016-04-30 01:36:25.000</td>\n",
       "      <td>22.35</td>\n",
       "      <td>US</td>\n",
       "      <td>US</td>\n",
       "      <td>05</td>\n",
       "      <td>01</td>\n",
       "      <td>online_subscriptions</td>\n",
       "      <td>...</td>\n",
       "      <td>2012-08-12</td>\n",
       "      <td>2012-08-12</td>\n",
       "      <td>424</td>\n",
       "      <td>424</td>\n",
       "      <td>PURCHASE</td>\n",
       "      <td>0.00</td>\n",
       "      <td>False</td>\n",
       "      <td>False</td>\n",
       "      <td>False</td>\n",
       "      <td>0-25%</td>\n",
       "    </tr>\n",
       "    <tr>\n",
       "      <th>51657</th>\n",
       "      <td>155977598</td>\n",
       "      <td>5000.0</td>\n",
       "      <td>4977.65</td>\n",
       "      <td>2016-05-15 10:36:07.500</td>\n",
       "      <td>22.35</td>\n",
       "      <td>US</td>\n",
       "      <td>US</td>\n",
       "      <td>05</td>\n",
       "      <td>01</td>\n",
       "      <td>online_subscriptions</td>\n",
       "      <td>...</td>\n",
       "      <td>2012-08-12</td>\n",
       "      <td>2012-08-12</td>\n",
       "      <td>424</td>\n",
       "      <td>424</td>\n",
       "      <td>REPLENISHMENT</td>\n",
       "      <td>22.35</td>\n",
       "      <td>False</td>\n",
       "      <td>False</td>\n",
       "      <td>False</td>\n",
       "      <td>0-25%</td>\n",
       "    </tr>\n",
       "    <tr>\n",
       "      <th>51658</th>\n",
       "      <td>155977598</td>\n",
       "      <td>5000.0</td>\n",
       "      <td>5000.00</td>\n",
       "      <td>2016-05-30 19:35:50.000</td>\n",
       "      <td>22.35</td>\n",
       "      <td>US</td>\n",
       "      <td>US</td>\n",
       "      <td>05</td>\n",
       "      <td>01</td>\n",
       "      <td>online_subscriptions</td>\n",
       "      <td>...</td>\n",
       "      <td>2012-08-12</td>\n",
       "      <td>2012-08-12</td>\n",
       "      <td>424</td>\n",
       "      <td>424</td>\n",
       "      <td>PURCHASE</td>\n",
       "      <td>0.00</td>\n",
       "      <td>False</td>\n",
       "      <td>False</td>\n",
       "      <td>False</td>\n",
       "      <td>0-25%</td>\n",
       "    </tr>\n",
       "    <tr>\n",
       "      <th>51659</th>\n",
       "      <td>155977598</td>\n",
       "      <td>5000.0</td>\n",
       "      <td>4977.65</td>\n",
       "      <td>2016-06-14 15:05:05.500</td>\n",
       "      <td>22.35</td>\n",
       "      <td>US</td>\n",
       "      <td>US</td>\n",
       "      <td>05</td>\n",
       "      <td>01</td>\n",
       "      <td>online_subscriptions</td>\n",
       "      <td>...</td>\n",
       "      <td>2012-08-12</td>\n",
       "      <td>2012-08-12</td>\n",
       "      <td>424</td>\n",
       "      <td>424</td>\n",
       "      <td>REPLENISHMENT</td>\n",
       "      <td>22.35</td>\n",
       "      <td>False</td>\n",
       "      <td>False</td>\n",
       "      <td>False</td>\n",
       "      <td>0-25%</td>\n",
       "    </tr>\n",
       "    <tr>\n",
       "      <th>51660</th>\n",
       "      <td>155977598</td>\n",
       "      <td>5000.0</td>\n",
       "      <td>5000.00</td>\n",
       "      <td>2016-06-29 10:34:21.000</td>\n",
       "      <td>34.55</td>\n",
       "      <td>US</td>\n",
       "      <td>US</td>\n",
       "      <td>02</td>\n",
       "      <td>08</td>\n",
       "      <td>food</td>\n",
       "      <td>...</td>\n",
       "      <td>2012-08-12</td>\n",
       "      <td>2012-08-12</td>\n",
       "      <td>424</td>\n",
       "      <td>424</td>\n",
       "      <td>PURCHASE</td>\n",
       "      <td>0.00</td>\n",
       "      <td>True</td>\n",
       "      <td>False</td>\n",
       "      <td>False</td>\n",
       "      <td>0-25%</td>\n",
       "    </tr>\n",
       "    <tr>\n",
       "      <th>51661</th>\n",
       "      <td>155977598</td>\n",
       "      <td>5000.0</td>\n",
       "      <td>4965.45</td>\n",
       "      <td>2016-06-30 07:35:16.000</td>\n",
       "      <td>22.35</td>\n",
       "      <td>US</td>\n",
       "      <td>US</td>\n",
       "      <td>05</td>\n",
       "      <td>01</td>\n",
       "      <td>online_subscriptions</td>\n",
       "      <td>...</td>\n",
       "      <td>2012-08-12</td>\n",
       "      <td>2012-08-12</td>\n",
       "      <td>424</td>\n",
       "      <td>424</td>\n",
       "      <td>PURCHASE</td>\n",
       "      <td>34.55</td>\n",
       "      <td>False</td>\n",
       "      <td>False</td>\n",
       "      <td>False</td>\n",
       "      <td>0-25%</td>\n",
       "    </tr>\n",
       "    <tr>\n",
       "      <th>51662</th>\n",
       "      <td>155977598</td>\n",
       "      <td>5000.0</td>\n",
       "      <td>4943.10</td>\n",
       "      <td>2016-07-15 16:10:46.000</td>\n",
       "      <td>25.00</td>\n",
       "      <td>US</td>\n",
       "      <td>US</td>\n",
       "      <td>05</td>\n",
       "      <td>01</td>\n",
       "      <td>online_subscriptions</td>\n",
       "      <td>...</td>\n",
       "      <td>2012-08-12</td>\n",
       "      <td>2012-08-12</td>\n",
       "      <td>424</td>\n",
       "      <td>424</td>\n",
       "      <td>REPLENISHMENT</td>\n",
       "      <td>56.90</td>\n",
       "      <td>False</td>\n",
       "      <td>False</td>\n",
       "      <td>False</td>\n",
       "      <td>0-25%</td>\n",
       "    </tr>\n",
       "    <tr>\n",
       "      <th>51663</th>\n",
       "      <td>155977598</td>\n",
       "      <td>5000.0</td>\n",
       "      <td>4968.10</td>\n",
       "      <td>2016-07-31 00:46:16.000</td>\n",
       "      <td>22.35</td>\n",
       "      <td>US</td>\n",
       "      <td>US</td>\n",
       "      <td>05</td>\n",
       "      <td>01</td>\n",
       "      <td>online_subscriptions</td>\n",
       "      <td>...</td>\n",
       "      <td>2012-08-12</td>\n",
       "      <td>2012-08-12</td>\n",
       "      <td>424</td>\n",
       "      <td>424</td>\n",
       "      <td>PURCHASE</td>\n",
       "      <td>31.90</td>\n",
       "      <td>False</td>\n",
       "      <td>False</td>\n",
       "      <td>False</td>\n",
       "      <td>0-25%</td>\n",
       "    </tr>\n",
       "    <tr>\n",
       "      <th>51664</th>\n",
       "      <td>155977598</td>\n",
       "      <td>5000.0</td>\n",
       "      <td>4945.75</td>\n",
       "      <td>2016-08-15 15:47:27.000</td>\n",
       "      <td>25.00</td>\n",
       "      <td>US</td>\n",
       "      <td>US</td>\n",
       "      <td>05</td>\n",
       "      <td>01</td>\n",
       "      <td>online_subscriptions</td>\n",
       "      <td>...</td>\n",
       "      <td>2012-08-12</td>\n",
       "      <td>2012-08-12</td>\n",
       "      <td>424</td>\n",
       "      <td>424</td>\n",
       "      <td>REPLENISHMENT</td>\n",
       "      <td>54.25</td>\n",
       "      <td>False</td>\n",
       "      <td>False</td>\n",
       "      <td>False</td>\n",
       "      <td>0-25%</td>\n",
       "    </tr>\n",
       "    <tr>\n",
       "      <th>51665</th>\n",
       "      <td>155977598</td>\n",
       "      <td>5000.0</td>\n",
       "      <td>4970.75</td>\n",
       "      <td>2016-08-31 06:48:38.000</td>\n",
       "      <td>22.35</td>\n",
       "      <td>US</td>\n",
       "      <td>US</td>\n",
       "      <td>05</td>\n",
       "      <td>01</td>\n",
       "      <td>online_subscriptions</td>\n",
       "      <td>...</td>\n",
       "      <td>2012-08-12</td>\n",
       "      <td>2012-08-12</td>\n",
       "      <td>424</td>\n",
       "      <td>424</td>\n",
       "      <td>PURCHASE</td>\n",
       "      <td>29.25</td>\n",
       "      <td>False</td>\n",
       "      <td>False</td>\n",
       "      <td>False</td>\n",
       "      <td>0-25%</td>\n",
       "    </tr>\n",
       "    <tr>\n",
       "      <th>51666</th>\n",
       "      <td>155977598</td>\n",
       "      <td>5000.0</td>\n",
       "      <td>4948.40</td>\n",
       "      <td>2016-09-15 08:20:28.500</td>\n",
       "      <td>25.00</td>\n",
       "      <td>US</td>\n",
       "      <td>US</td>\n",
       "      <td>05</td>\n",
       "      <td>01</td>\n",
       "      <td>online_subscriptions</td>\n",
       "      <td>...</td>\n",
       "      <td>2012-08-12</td>\n",
       "      <td>2012-08-12</td>\n",
       "      <td>424</td>\n",
       "      <td>424</td>\n",
       "      <td>REPLENISHMENT</td>\n",
       "      <td>51.60</td>\n",
       "      <td>False</td>\n",
       "      <td>False</td>\n",
       "      <td>False</td>\n",
       "      <td>0-25%</td>\n",
       "    </tr>\n",
       "    <tr>\n",
       "      <th>51667</th>\n",
       "      <td>155977598</td>\n",
       "      <td>5000.0</td>\n",
       "      <td>4973.40</td>\n",
       "      <td>2016-09-30 09:52:19.000</td>\n",
       "      <td>22.35</td>\n",
       "      <td>US</td>\n",
       "      <td>US</td>\n",
       "      <td>05</td>\n",
       "      <td>01</td>\n",
       "      <td>online_subscriptions</td>\n",
       "      <td>...</td>\n",
       "      <td>2012-08-12</td>\n",
       "      <td>2012-08-12</td>\n",
       "      <td>424</td>\n",
       "      <td>424</td>\n",
       "      <td>PURCHASE</td>\n",
       "      <td>26.60</td>\n",
       "      <td>False</td>\n",
       "      <td>False</td>\n",
       "      <td>False</td>\n",
       "      <td>0-25%</td>\n",
       "    </tr>\n",
       "    <tr>\n",
       "      <th>51668</th>\n",
       "      <td>155977598</td>\n",
       "      <td>5000.0</td>\n",
       "      <td>4951.05</td>\n",
       "      <td>2016-10-15 15:40:47.000</td>\n",
       "      <td>25.00</td>\n",
       "      <td>US</td>\n",
       "      <td>US</td>\n",
       "      <td>05</td>\n",
       "      <td>01</td>\n",
       "      <td>online_subscriptions</td>\n",
       "      <td>...</td>\n",
       "      <td>2012-08-12</td>\n",
       "      <td>2012-08-12</td>\n",
       "      <td>424</td>\n",
       "      <td>424</td>\n",
       "      <td>REPLENISHMENT</td>\n",
       "      <td>48.95</td>\n",
       "      <td>False</td>\n",
       "      <td>False</td>\n",
       "      <td>False</td>\n",
       "      <td>0-25%</td>\n",
       "    </tr>\n",
       "    <tr>\n",
       "      <th>51669</th>\n",
       "      <td>155977598</td>\n",
       "      <td>5000.0</td>\n",
       "      <td>4976.05</td>\n",
       "      <td>2016-10-30 21:29:15.000</td>\n",
       "      <td>22.35</td>\n",
       "      <td>US</td>\n",
       "      <td>US</td>\n",
       "      <td>05</td>\n",
       "      <td>01</td>\n",
       "      <td>online_subscriptions</td>\n",
       "      <td>...</td>\n",
       "      <td>2012-08-12</td>\n",
       "      <td>2012-08-12</td>\n",
       "      <td>424</td>\n",
       "      <td>424</td>\n",
       "      <td>PURCHASE</td>\n",
       "      <td>23.95</td>\n",
       "      <td>False</td>\n",
       "      <td>False</td>\n",
       "      <td>False</td>\n",
       "      <td>0-25%</td>\n",
       "    </tr>\n",
       "    <tr>\n",
       "      <th>51670</th>\n",
       "      <td>155977598</td>\n",
       "      <td>5000.0</td>\n",
       "      <td>4953.70</td>\n",
       "      <td>2016-11-15 06:43:05.500</td>\n",
       "      <td>25.00</td>\n",
       "      <td>US</td>\n",
       "      <td>US</td>\n",
       "      <td>05</td>\n",
       "      <td>01</td>\n",
       "      <td>online_subscriptions</td>\n",
       "      <td>...</td>\n",
       "      <td>2012-08-12</td>\n",
       "      <td>2012-08-12</td>\n",
       "      <td>424</td>\n",
       "      <td>424</td>\n",
       "      <td>REPLENISHMENT</td>\n",
       "      <td>46.30</td>\n",
       "      <td>False</td>\n",
       "      <td>False</td>\n",
       "      <td>False</td>\n",
       "      <td>0-25%</td>\n",
       "    </tr>\n",
       "    <tr>\n",
       "      <th>51671</th>\n",
       "      <td>155977598</td>\n",
       "      <td>5000.0</td>\n",
       "      <td>4978.70</td>\n",
       "      <td>2016-11-30 15:56:56.000</td>\n",
       "      <td>22.35</td>\n",
       "      <td>US</td>\n",
       "      <td>US</td>\n",
       "      <td>05</td>\n",
       "      <td>01</td>\n",
       "      <td>online_subscriptions</td>\n",
       "      <td>...</td>\n",
       "      <td>2012-08-12</td>\n",
       "      <td>2012-08-12</td>\n",
       "      <td>424</td>\n",
       "      <td>424</td>\n",
       "      <td>PURCHASE</td>\n",
       "      <td>21.30</td>\n",
       "      <td>False</td>\n",
       "      <td>False</td>\n",
       "      <td>False</td>\n",
       "      <td>0-25%</td>\n",
       "    </tr>\n",
       "    <tr>\n",
       "      <th>51672</th>\n",
       "      <td>155977598</td>\n",
       "      <td>5000.0</td>\n",
       "      <td>4956.35</td>\n",
       "      <td>2016-12-15 18:10:59.500</td>\n",
       "      <td>25.00</td>\n",
       "      <td>US</td>\n",
       "      <td>US</td>\n",
       "      <td>05</td>\n",
       "      <td>01</td>\n",
       "      <td>online_subscriptions</td>\n",
       "      <td>...</td>\n",
       "      <td>2012-08-12</td>\n",
       "      <td>2012-08-12</td>\n",
       "      <td>424</td>\n",
       "      <td>424</td>\n",
       "      <td>REPLENISHMENT</td>\n",
       "      <td>43.65</td>\n",
       "      <td>False</td>\n",
       "      <td>False</td>\n",
       "      <td>False</td>\n",
       "      <td>0-25%</td>\n",
       "    </tr>\n",
       "    <tr>\n",
       "      <th>51673</th>\n",
       "      <td>155977598</td>\n",
       "      <td>5000.0</td>\n",
       "      <td>4981.35</td>\n",
       "      <td>2016-12-30 20:25:03.000</td>\n",
       "      <td>22.35</td>\n",
       "      <td>US</td>\n",
       "      <td>US</td>\n",
       "      <td>05</td>\n",
       "      <td>01</td>\n",
       "      <td>online_subscriptions</td>\n",
       "      <td>...</td>\n",
       "      <td>2012-08-12</td>\n",
       "      <td>2012-08-12</td>\n",
       "      <td>424</td>\n",
       "      <td>424</td>\n",
       "      <td>PURCHASE</td>\n",
       "      <td>18.65</td>\n",
       "      <td>False</td>\n",
       "      <td>False</td>\n",
       "      <td>False</td>\n",
       "      <td>0-25%</td>\n",
       "    </tr>\n",
       "  </tbody>\n",
       "</table>\n",
       "<p>23 rows × 21 columns</p>\n",
       "</div>"
      ],
      "text/plain": [
       "      accountNumber  creditLimit  availableMoney     transactionDateTime  \\\n",
       "51651     155977598       5000.0         5000.00 2016-02-27 15:29:21.000   \n",
       "51652     155977598       5000.0         5000.00 2016-02-28 15:29:21.000   \n",
       "51653     155977598       5000.0         4977.65 2016-03-14 20:19:49.500   \n",
       "51654     155977598       5000.0         5000.00 2016-03-30 01:10:18.000   \n",
       "51655     155977598       5000.0         4977.65 2016-04-14 13:23:21.500   \n",
       "51656     155977598       5000.0         5000.00 2016-04-30 01:36:25.000   \n",
       "51657     155977598       5000.0         4977.65 2016-05-15 10:36:07.500   \n",
       "51658     155977598       5000.0         5000.00 2016-05-30 19:35:50.000   \n",
       "51659     155977598       5000.0         4977.65 2016-06-14 15:05:05.500   \n",
       "51660     155977598       5000.0         5000.00 2016-06-29 10:34:21.000   \n",
       "51661     155977598       5000.0         4965.45 2016-06-30 07:35:16.000   \n",
       "51662     155977598       5000.0         4943.10 2016-07-15 16:10:46.000   \n",
       "51663     155977598       5000.0         4968.10 2016-07-31 00:46:16.000   \n",
       "51664     155977598       5000.0         4945.75 2016-08-15 15:47:27.000   \n",
       "51665     155977598       5000.0         4970.75 2016-08-31 06:48:38.000   \n",
       "51666     155977598       5000.0         4948.40 2016-09-15 08:20:28.500   \n",
       "51667     155977598       5000.0         4973.40 2016-09-30 09:52:19.000   \n",
       "51668     155977598       5000.0         4951.05 2016-10-15 15:40:47.000   \n",
       "51669     155977598       5000.0         4976.05 2016-10-30 21:29:15.000   \n",
       "51670     155977598       5000.0         4953.70 2016-11-15 06:43:05.500   \n",
       "51671     155977598       5000.0         4978.70 2016-11-30 15:56:56.000   \n",
       "51672     155977598       5000.0         4956.35 2016-12-15 18:10:59.500   \n",
       "51673     155977598       5000.0         4981.35 2016-12-30 20:25:03.000   \n",
       "\n",
       "       transactionAmount acqCountry merchantCountryCode posEntryMode  \\\n",
       "51651            5000.00         US                  US           05   \n",
       "51652              22.35         US                  US           05   \n",
       "51653              22.35         US                  US           05   \n",
       "51654              22.35         US                  US           05   \n",
       "51655              22.35         US                  US           05   \n",
       "51656              22.35         US                  US           05   \n",
       "51657              22.35         US                  US           05   \n",
       "51658              22.35         US                  US           05   \n",
       "51659              22.35         US                  US           05   \n",
       "51660              34.55         US                  US           02   \n",
       "51661              22.35         US                  US           05   \n",
       "51662              25.00         US                  US           05   \n",
       "51663              22.35         US                  US           05   \n",
       "51664              25.00         US                  US           05   \n",
       "51665              22.35         US                  US           05   \n",
       "51666              25.00         US                  US           05   \n",
       "51667              22.35         US                  US           05   \n",
       "51668              25.00         US                  US           05   \n",
       "51669              22.35         US                  US           05   \n",
       "51670              25.00         US                  US           05   \n",
       "51671              22.35         US                  US           05   \n",
       "51672              25.00         US                  US           05   \n",
       "51673              22.35         US                  US           05   \n",
       "\n",
       "      posConditionCode  merchantCategoryCode  ... accountOpenDate  \\\n",
       "51651               01  online_subscriptions  ...      2012-08-12   \n",
       "51652               01  online_subscriptions  ...      2012-08-12   \n",
       "51653               01  online_subscriptions  ...      2012-08-12   \n",
       "51654               01  online_subscriptions  ...      2012-08-12   \n",
       "51655               01  online_subscriptions  ...      2012-08-12   \n",
       "51656               01  online_subscriptions  ...      2012-08-12   \n",
       "51657               01  online_subscriptions  ...      2012-08-12   \n",
       "51658               01  online_subscriptions  ...      2012-08-12   \n",
       "51659               01  online_subscriptions  ...      2012-08-12   \n",
       "51660               08                  food  ...      2012-08-12   \n",
       "51661               01  online_subscriptions  ...      2012-08-12   \n",
       "51662               01  online_subscriptions  ...      2012-08-12   \n",
       "51663               01  online_subscriptions  ...      2012-08-12   \n",
       "51664               01  online_subscriptions  ...      2012-08-12   \n",
       "51665               01  online_subscriptions  ...      2012-08-12   \n",
       "51666               01  online_subscriptions  ...      2012-08-12   \n",
       "51667               01  online_subscriptions  ...      2012-08-12   \n",
       "51668               01  online_subscriptions  ...      2012-08-12   \n",
       "51669               01  online_subscriptions  ...      2012-08-12   \n",
       "51670               01  online_subscriptions  ...      2012-08-12   \n",
       "51671               01  online_subscriptions  ...      2012-08-12   \n",
       "51672               01  online_subscriptions  ...      2012-08-12   \n",
       "51673               01  online_subscriptions  ...      2012-08-12   \n",
       "\n",
       "      dateOfLastAddressChange cardCVV enteredCVV transactionType creditDebt  \\\n",
       "51651              2012-08-12     424        424   REPLENISHMENT       0.00   \n",
       "51652              2012-08-12     424        424        PURCHASE       0.00   \n",
       "51653              2012-08-12     424        424   REPLENISHMENT      22.35   \n",
       "51654              2012-08-12     424        424        PURCHASE       0.00   \n",
       "51655              2012-08-12     424        424   REPLENISHMENT      22.35   \n",
       "51656              2012-08-12     424        424        PURCHASE       0.00   \n",
       "51657              2012-08-12     424        424   REPLENISHMENT      22.35   \n",
       "51658              2012-08-12     424        424        PURCHASE       0.00   \n",
       "51659              2012-08-12     424        424   REPLENISHMENT      22.35   \n",
       "51660              2012-08-12     424        424        PURCHASE       0.00   \n",
       "51661              2012-08-12     424        424        PURCHASE      34.55   \n",
       "51662              2012-08-12     424        424   REPLENISHMENT      56.90   \n",
       "51663              2012-08-12     424        424        PURCHASE      31.90   \n",
       "51664              2012-08-12     424        424   REPLENISHMENT      54.25   \n",
       "51665              2012-08-12     424        424        PURCHASE      29.25   \n",
       "51666              2012-08-12     424        424   REPLENISHMENT      51.60   \n",
       "51667              2012-08-12     424        424        PURCHASE      26.60   \n",
       "51668              2012-08-12     424        424   REPLENISHMENT      48.95   \n",
       "51669              2012-08-12     424        424        PURCHASE      23.95   \n",
       "51670              2012-08-12     424        424   REPLENISHMENT      46.30   \n",
       "51671              2012-08-12     424        424        PURCHASE      21.30   \n",
       "51672              2012-08-12     424        424   REPLENISHMENT      43.65   \n",
       "51673              2012-08-12     424        424        PURCHASE      18.65   \n",
       "\n",
       "       cardPresent  expirationDateKeyInMatch  isFraud  creditLimitRange  \n",
       "51651        False                     False    False             0-25%  \n",
       "51652        False                     False    False             0-25%  \n",
       "51653        False                     False    False             0-25%  \n",
       "51654        False                     False    False             0-25%  \n",
       "51655        False                     False    False             0-25%  \n",
       "51656        False                     False    False             0-25%  \n",
       "51657        False                     False    False             0-25%  \n",
       "51658        False                     False    False             0-25%  \n",
       "51659        False                     False    False             0-25%  \n",
       "51660         True                     False    False             0-25%  \n",
       "51661        False                     False    False             0-25%  \n",
       "51662        False                     False    False             0-25%  \n",
       "51663        False                     False    False             0-25%  \n",
       "51664        False                     False    False             0-25%  \n",
       "51665        False                     False    False             0-25%  \n",
       "51666        False                     False    False             0-25%  \n",
       "51667        False                     False    False             0-25%  \n",
       "51668        False                     False    False             0-25%  \n",
       "51669        False                     False    False             0-25%  \n",
       "51670        False                     False    False             0-25%  \n",
       "51671        False                     False    False             0-25%  \n",
       "51672        False                     False    False             0-25%  \n",
       "51673        False                     False    False             0-25%  \n",
       "\n",
       "[23 rows x 21 columns]"
      ]
     },
     "execution_count": 17,
     "metadata": {},
     "output_type": "execute_result"
    }
   ],
   "source": [
    "df[df['accountNumber'] == '155977598']"
   ]
  },
  {
   "cell_type": "markdown",
   "id": "22300c3a855edd29",
   "metadata": {
    "papermill": {
     "duration": 0.016006,
     "end_time": "2024-12-08T14:38:37.730029",
     "exception": false,
     "start_time": "2024-12-08T14:38:37.714023",
     "status": "completed"
    },
    "tags": []
   },
   "source": [
    "### Remove accounts that is missing key variable `avg_norm_days_between_resets` from the dataset for the submodel for predicting the coefficient, as well as remove transactions of these accounts from the main dataset"
   ]
  },
  {
   "cell_type": "code",
   "execution_count": 18,
   "id": "c354a09b937c1a5a",
   "metadata": {
    "ExecuteTime": {
     "end_time": "2024-12-08T13:57:03.671385Z",
     "start_time": "2024-12-08T13:57:03.405147Z"
    },
    "execution": {
     "iopub.execute_input": "2024-12-08T14:38:37.765104Z",
     "iopub.status.busy": "2024-12-08T14:38:37.764108Z",
     "iopub.status.idle": "2024-12-08T14:38:37.936834Z",
     "shell.execute_reply": "2024-12-08T14:38:37.936834Z"
    },
    "papermill": {
     "duration": 0.188806,
     "end_time": "2024-12-08T14:38:37.938917",
     "exception": false,
     "start_time": "2024-12-08T14:38:37.750111",
     "status": "completed"
    },
    "tags": []
   },
   "outputs": [
    {
     "name": "stdout",
     "output_type": "stream",
     "text": [
      "Dimensions: 4903 rows, 6 columns\n",
      "Total NA's: 5000\n",
      "There are no duplicates in this dataset!\n",
      "Column Name                            Data Type  Count Distinct  NA Values \n",
      "accountNumber                          object     4903            0         \n",
      "creditLimit                            float64    10              0         \n",
      "avg_norm_spent_percentage              float64    3711            0         \n",
      "avg_norm_days_between_resets           float64    3133            0         \n",
      "cdrs_ratio                             float64    2137            2349      \n",
      "cdrs_range                             category   7               2651      \n"
     ]
    }
   ],
   "source": [
    "df.drop(index=gen_df_with_invalid_days_avg_stats.index, inplace=True)\n",
    "stability_stats_full.drop(index=stab_df_days_avg_stats_is_na_accounts.index, inplace=True)\n",
    "edaUtils.data_summary(stability_stats_full)"
   ]
  },
  {
   "cell_type": "markdown",
   "id": "c10885f5eb5473c1",
   "metadata": {
    "papermill": {
     "duration": 0.013097,
     "end_time": "2024-12-08T14:38:37.965938",
     "exception": false,
     "start_time": "2024-12-08T14:38:37.952841",
     "status": "completed"
    },
    "tags": []
   },
   "source": [
    "### Check how many accounts where `cdrs_ratio` equals `0` and also how many transactions these accounts have in the main dataset"
   ]
  },
  {
   "cell_type": "code",
   "execution_count": 19,
   "id": "a3acbffbd96ec418",
   "metadata": {
    "ExecuteTime": {
     "end_time": "2024-12-08T13:57:03.819825Z",
     "start_time": "2024-12-08T13:57:03.742095Z"
    },
    "execution": {
     "iopub.execute_input": "2024-12-08T14:38:37.995324Z",
     "iopub.status.busy": "2024-12-08T14:38:37.993808Z",
     "iopub.status.idle": "2024-12-08T14:38:38.062169Z",
     "shell.execute_reply": "2024-12-08T14:38:38.061936Z"
    },
    "papermill": {
     "duration": 0.084386,
     "end_time": "2024-12-08T14:38:38.063175",
     "exception": false,
     "start_time": "2024-12-08T14:38:37.978789",
     "status": "completed"
    },
    "tags": []
   },
   "outputs": [
    {
     "name": "stdout",
     "output_type": "stream",
     "text": [
      "Count of account transactions where cdrs ratio is 0 in stability stats: 70503\n",
      "Number 70503 is 8.605094243131779% of 819317\n",
      "Count of frauds transactions in gen dataset by these account numbers: 1011\n",
      "Number 1011 is 8.693035253654342% of 11630\n"
     ]
    }
   ],
   "source": [
    "cdrs_ratio_is_0_accounts = stability_stats_full[stability_stats_full['cdrs_ratio'] == 0]['accountNumber']\n",
    "stab_df_cdrs_ratio_is_0 = stability_stats_full[stability_stats_full['accountNumber'].isin(cdrs_ratio_is_0_accounts)]\n",
    "\n",
    "gen_df_cdrs_ratio_is_0 = df[df['accountNumber'].isin(cdrs_ratio_is_0_accounts)]\n",
    "print(f'Count of account transactions where cdrs ratio is 0 in stability stats: {gen_df_cdrs_ratio_is_0.shape[0]}')\n",
    "edaUtils.calculate_percentage(gen_df_cdrs_ratio_is_0.shape[0], df.shape[0])\n",
    "print(\n",
    "    f'Count of frauds transactions in gen dataset by these account numbers: {gen_df_cdrs_ratio_is_0[gen_df_cdrs_ratio_is_0[\"isFraud\"] == True].shape[0]}')\n",
    "\n",
    "edaUtils.calculate_percentage(gen_df_cdrs_ratio_is_0[gen_df_cdrs_ratio_is_0[\"isFraud\"] == True].shape[0],\n",
    "                              df[df['isFraud'] == True].shape[0])"
   ]
  },
  {
   "cell_type": "markdown",
   "id": "12065e2fe1542dcf",
   "metadata": {
    "papermill": {
     "duration": 0.01244,
     "end_time": "2024-12-08T14:38:38.087616",
     "exception": false,
     "start_time": "2024-12-08T14:38:38.075176",
     "status": "completed"
    },
    "tags": []
   },
   "source": [
    "### Remove accounts that is `cdrs_ratio` equals `0` from the dataset for the submodel for predicting the coefficient, as well as remove transactions of these accounts from the main dataset"
   ]
  },
  {
   "cell_type": "code",
   "execution_count": 20,
   "id": "dcd865a4be7a5a8a",
   "metadata": {
    "ExecuteTime": {
     "end_time": "2024-12-08T13:57:04.201697Z",
     "start_time": "2024-12-08T13:57:03.986276Z"
    },
    "execution": {
     "iopub.execute_input": "2024-12-08T14:38:38.117325Z",
     "iopub.status.busy": "2024-12-08T14:38:38.117325Z",
     "iopub.status.idle": "2024-12-08T14:38:38.287193Z",
     "shell.execute_reply": "2024-12-08T14:38:38.286176Z"
    },
    "papermill": {
     "duration": 0.185858,
     "end_time": "2024-12-08T14:38:38.289199",
     "exception": false,
     "start_time": "2024-12-08T14:38:38.103341",
     "status": "completed"
    },
    "tags": []
   },
   "outputs": [
    {
     "name": "stdout",
     "output_type": "stream",
     "text": [
      "Dimensions: 4601 rows, 6 columns\n",
      "Total NA's: 4698\n",
      "There are no duplicates in this dataset!\n",
      "Column Name                            Data Type  Count Distinct  NA Values \n",
      "accountNumber                          object     4601            0         \n",
      "creditLimit                            float64    10              0         \n",
      "avg_norm_spent_percentage              float64    3505            0         \n",
      "avg_norm_days_between_resets           float64    2965            0         \n",
      "cdrs_ratio                             float64    2136            2349      \n",
      "cdrs_range                             category   7               2349      \n"
     ]
    }
   ],
   "source": [
    "df.drop(index=gen_df_cdrs_ratio_is_0.index, inplace=True)\n",
    "stability_stats_full.drop(index=cdrs_ratio_is_0_accounts.index, inplace=True)\n",
    "edaUtils.data_summary(stability_stats_full)"
   ]
  },
  {
   "cell_type": "markdown",
   "id": "5e55fc4d0b2b409d",
   "metadata": {
    "papermill": {
     "duration": 0.013917,
     "end_time": "2024-12-08T14:38:38.324579",
     "exception": false,
     "start_time": "2024-12-08T14:38:38.310662",
     "status": "completed"
    },
    "tags": []
   },
   "source": [
    "### Encode target feature for out submodel - `cdrs_range`"
   ]
  },
  {
   "cell_type": "code",
   "execution_count": 21,
   "id": "479e2f959e5683bf",
   "metadata": {
    "ExecuteTime": {
     "end_time": "2024-12-08T13:57:04.990695Z",
     "start_time": "2024-12-08T13:57:04.927417Z"
    },
    "execution": {
     "iopub.execute_input": "2024-12-08T14:38:38.358686Z",
     "iopub.status.busy": "2024-12-08T14:38:38.357764Z",
     "iopub.status.idle": "2024-12-08T14:38:38.372282Z",
     "shell.execute_reply": "2024-12-08T14:38:38.372282Z"
    },
    "papermill": {
     "duration": 0.031634,
     "end_time": "2024-12-08T14:38:38.374308",
     "exception": false,
     "start_time": "2024-12-08T14:38:38.342674",
     "status": "completed"
    },
    "tags": []
   },
   "outputs": [
    {
     "name": "stdout",
     "output_type": "stream",
     "text": [
      "Dimensions: 2252 rows, 7 columns\n",
      "Total NA's: 0\n",
      "There are no duplicates in this dataset!\n",
      "Column Name                            Data Type  Count Distinct  NA Values \n",
      "accountNumber                          object     2252            0         \n",
      "creditLimit                            float64    10              0         \n",
      "avg_norm_spent_percentage              float64    2221            0         \n",
      "avg_norm_days_between_resets           float64    1848            0         \n",
      "cdrs_ratio                             float64    2136            0         \n",
      "cdrs_range                             category   7               0         \n",
      "cdrs_range_encoded                     int32      7               0         \n"
     ]
    }
   ],
   "source": [
    "stability_stats_full_test_pred_df = stability_stats_full.copy()\n",
    "stability_stats_full_test_pred_df.dropna(inplace=True)\n",
    "cdrs_range_encoder = LabelEncoder()\n",
    "\n",
    "stability_stats_full_test_pred_df['cdrs_range_encoded'] = cdrs_range_encoder.fit_transform(\n",
    "    stability_stats_full_test_pred_df['cdrs_range'])\n",
    "edaUtils.data_summary(stability_stats_full_test_pred_df)\n"
   ]
  },
  {
   "cell_type": "markdown",
   "id": "3eb71b04f70f59be",
   "metadata": {
    "papermill": {
     "duration": 0.019512,
     "end_time": "2024-12-08T14:38:38.408922",
     "exception": false,
     "start_time": "2024-12-08T14:38:38.389410",
     "status": "completed"
    },
    "tags": []
   },
   "source": [
    "### Split data for cdrs-predicting submodel"
   ]
  },
  {
   "cell_type": "code",
   "execution_count": 22,
   "id": "954e128e47493de8",
   "metadata": {
    "ExecuteTime": {
     "end_time": "2024-12-08T13:57:05.573591Z",
     "start_time": "2024-12-08T13:57:05.564461Z"
    },
    "execution": {
     "iopub.execute_input": "2024-12-08T14:38:38.437090Z",
     "iopub.status.busy": "2024-12-08T14:38:38.436172Z",
     "iopub.status.idle": "2024-12-08T14:38:38.450131Z",
     "shell.execute_reply": "2024-12-08T14:38:38.449122Z"
    },
    "papermill": {
     "duration": 0.032236,
     "end_time": "2024-12-08T14:38:38.453245",
     "exception": false,
     "start_time": "2024-12-08T14:38:38.421009",
     "status": "completed"
    },
    "tags": []
   },
   "outputs": [],
   "source": [
    "X_stats_full = stability_stats_full_test_pred_df.drop(\n",
    "    columns=['cdrs_range', 'cdrs_range_encoded', 'cdrs_ratio', 'accountNumber'])\n",
    "Y_stats_full = stability_stats_full_test_pred_df['cdrs_range_encoded']\n",
    "\n",
    "X_stats_full_train, X_stats_full_test, Y_stats_full_train, Y_stats_full_test = train_test_split(X_stats_full,\n",
    "                                                                                                Y_stats_full,\n",
    "                                                                                                test_size=0.2,\n",
    "                                                                                                random_state=101)"
   ]
  },
  {
   "cell_type": "markdown",
   "id": "3fb28d08b5166258",
   "metadata": {
    "papermill": {
     "duration": 0.015029,
     "end_time": "2024-12-08T14:38:38.491241",
     "exception": false,
     "start_time": "2024-12-08T14:38:38.476212",
     "status": "completed"
    },
    "tags": []
   },
   "source": [
    "### Check data balance for cdrs-predicting submodel"
   ]
  },
  {
   "cell_type": "code",
   "execution_count": 23,
   "id": "51223d39eb443cc0",
   "metadata": {
    "ExecuteTime": {
     "end_time": "2024-12-08T13:57:06.187342Z",
     "start_time": "2024-12-08T13:57:06.176951Z"
    },
    "execution": {
     "iopub.execute_input": "2024-12-08T14:38:38.528887Z",
     "iopub.status.busy": "2024-12-08T14:38:38.528887Z",
     "iopub.status.idle": "2024-12-08T14:38:38.535187Z",
     "shell.execute_reply": "2024-12-08T14:38:38.534085Z"
    },
    "papermill": {
     "duration": 0.022269,
     "end_time": "2024-12-08T14:38:38.537183",
     "exception": false,
     "start_time": "2024-12-08T14:38:38.514914",
     "status": "completed"
    },
    "tags": []
   },
   "outputs": [
    {
     "name": "stdout",
     "output_type": "stream",
     "text": [
      "Cdrs range distribution weights in train dataset [18.37755102  0.62752613  0.35684565  0.44901521  3.38533835 64.32142857\n",
      " 85.76190476]\n"
     ]
    }
   ],
   "source": [
    "cdrs_range_encoded_weights = compute_class_weight('balanced', classes=Y_stats_full_train.unique(), y=Y_stats_full_train)\n",
    "print(f'Cdrs range distribution weights in train dataset {cdrs_range_encoded_weights}')"
   ]
  },
  {
   "cell_type": "markdown",
   "id": "64bd45f29a39ff22",
   "metadata": {
    "papermill": {
     "duration": 0.029139,
     "end_time": "2024-12-08T14:38:38.587322",
     "exception": false,
     "start_time": "2024-12-08T14:38:38.558183",
     "status": "completed"
    },
    "tags": []
   },
   "source": [
    "### Train CDRS-ratio predicting model"
   ]
  },
  {
   "cell_type": "code",
   "execution_count": 24,
   "id": "536d69517c82966",
   "metadata": {
    "ExecuteTime": {
     "end_time": "2024-12-08T13:58:22.185325Z",
     "start_time": "2024-12-08T13:57:06.788997Z"
    },
    "execution": {
     "iopub.execute_input": "2024-12-08T14:38:38.622052Z",
     "iopub.status.busy": "2024-12-08T14:38:38.622052Z",
     "iopub.status.idle": "2024-12-08T14:39:54.747932Z",
     "shell.execute_reply": "2024-12-08T14:39:54.746845Z"
    },
    "papermill": {
     "duration": 76.142803,
     "end_time": "2024-12-08T14:39:54.749949",
     "exception": false,
     "start_time": "2024-12-08T14:38:38.607146",
     "status": "completed"
    },
    "tags": []
   },
   "outputs": [
    {
     "name": "stdout",
     "output_type": "stream",
     "text": [
      "------------------------------\n",
      "Starting tuning for model: LogisticRegression\n"
     ]
    },
    {
     "name": "stderr",
     "output_type": "stream",
     "text": [
      "C:\\Users\\gorba\\anaconda3\\Lib\\site-packages\\sklearn\\model_selection\\_split.py:737: UserWarning: The least populated class in y has only 3 members, which is less than n_splits=5.\n",
      "  warnings.warn(\n"
     ]
    },
    {
     "name": "stderr",
     "output_type": "stream",
     "text": [
      "C:\\Users\\gorba\\anaconda3\\Lib\\site-packages\\sklearn\\utils\\optimize.py:246: ConvergenceWarning: newton-cg failed to converge. Increase the number of iterations.\n",
      "  warnings.warn(\n",
      "C:\\Users\\gorba\\anaconda3\\Lib\\site-packages\\sklearn\\linear_model\\_logistic.py:469: ConvergenceWarning: lbfgs failed to converge (status=1):\n",
      "STOP: TOTAL NO. of ITERATIONS REACHED LIMIT.\n",
      "\n",
      "Increase the number of iterations (max_iter) or scale the data as shown in:\n",
      "    https://scikit-learn.org/stable/modules/preprocessing.html\n",
      "Please also refer to the documentation for alternative solver options:\n",
      "    https://scikit-learn.org/stable/modules/linear_model.html#logistic-regression\n",
      "  n_iter_i = _check_optimize_result(\n",
      "C:\\Users\\gorba\\anaconda3\\Lib\\site-packages\\sklearn\\linear_model\\_logistic.py:469: ConvergenceWarning: lbfgs failed to converge (status=1):\n",
      "STOP: TOTAL NO. of ITERATIONS REACHED LIMIT.\n",
      "\n",
      "Increase the number of iterations (max_iter) or scale the data as shown in:\n",
      "    https://scikit-learn.org/stable/modules/preprocessing.html\n",
      "Please also refer to the documentation for alternative solver options:\n",
      "    https://scikit-learn.org/stable/modules/linear_model.html#logistic-regression\n",
      "  n_iter_i = _check_optimize_result(\n",
      "C:\\Users\\gorba\\anaconda3\\Lib\\site-packages\\sklearn\\linear_model\\_logistic.py:469: ConvergenceWarning: lbfgs failed to converge (status=1):\n",
      "STOP: TOTAL NO. of ITERATIONS REACHED LIMIT.\n",
      "\n",
      "Increase the number of iterations (max_iter) or scale the data as shown in:\n",
      "    https://scikit-learn.org/stable/modules/preprocessing.html\n",
      "Please also refer to the documentation for alternative solver options:\n",
      "    https://scikit-learn.org/stable/modules/linear_model.html#logistic-regression\n",
      "  n_iter_i = _check_optimize_result(\n",
      "C:\\Users\\gorba\\anaconda3\\Lib\\site-packages\\sklearn\\linear_model\\_logistic.py:469: ConvergenceWarning: lbfgs failed to converge (status=1):\n",
      "STOP: TOTAL NO. of ITERATIONS REACHED LIMIT.\n",
      "\n",
      "Increase the number of iterations (max_iter) or scale the data as shown in:\n",
      "    https://scikit-learn.org/stable/modules/preprocessing.html\n",
      "Please also refer to the documentation for alternative solver options:\n",
      "    https://scikit-learn.org/stable/modules/linear_model.html#logistic-regression\n",
      "  n_iter_i = _check_optimize_result(\n",
      "C:\\Users\\gorba\\anaconda3\\Lib\\site-packages\\sklearn\\linear_model\\_logistic.py:469: ConvergenceWarning: lbfgs failed to converge (status=1):\n",
      "STOP: TOTAL NO. of ITERATIONS REACHED LIMIT.\n",
      "\n",
      "Increase the number of iterations (max_iter) or scale the data as shown in:\n",
      "    https://scikit-learn.org/stable/modules/preprocessing.html\n",
      "Please also refer to the documentation for alternative solver options:\n",
      "    https://scikit-learn.org/stable/modules/linear_model.html#logistic-regression\n",
      "  n_iter_i = _check_optimize_result(\n"
     ]
    },
    {
     "name": "stderr",
     "output_type": "stream",
     "text": [
      "C:\\Users\\gorba\\anaconda3\\Lib\\site-packages\\sklearn\\utils\\optimize.py:246: ConvergenceWarning: newton-cg failed to converge. Increase the number of iterations.\n",
      "  warnings.warn(\n"
     ]
    },
    {
     "name": "stderr",
     "output_type": "stream",
     "text": [
      "C:\\Users\\gorba\\anaconda3\\Lib\\site-packages\\sklearn\\utils\\optimize.py:246: ConvergenceWarning: newton-cg failed to converge. Increase the number of iterations.\n",
      "  warnings.warn(\n"
     ]
    },
    {
     "name": "stderr",
     "output_type": "stream",
     "text": [
      "C:\\Users\\gorba\\anaconda3\\Lib\\site-packages\\sklearn\\utils\\optimize.py:246: ConvergenceWarning: newton-cg failed to converge. Increase the number of iterations.\n",
      "  warnings.warn(\n"
     ]
    },
    {
     "name": "stderr",
     "output_type": "stream",
     "text": [
      "C:\\Users\\gorba\\anaconda3\\Lib\\site-packages\\sklearn\\utils\\optimize.py:246: ConvergenceWarning: newton-cg failed to converge. Increase the number of iterations.\n",
      "  warnings.warn(\n",
      "C:\\Users\\gorba\\anaconda3\\Lib\\site-packages\\sklearn\\linear_model\\_logistic.py:469: ConvergenceWarning: lbfgs failed to converge (status=1):\n",
      "STOP: TOTAL NO. of ITERATIONS REACHED LIMIT.\n",
      "\n",
      "Increase the number of iterations (max_iter) or scale the data as shown in:\n",
      "    https://scikit-learn.org/stable/modules/preprocessing.html\n",
      "Please also refer to the documentation for alternative solver options:\n",
      "    https://scikit-learn.org/stable/modules/linear_model.html#logistic-regression\n",
      "  n_iter_i = _check_optimize_result(\n",
      "C:\\Users\\gorba\\anaconda3\\Lib\\site-packages\\sklearn\\linear_model\\_logistic.py:469: ConvergenceWarning: lbfgs failed to converge (status=1):\n",
      "STOP: TOTAL NO. of ITERATIONS REACHED LIMIT.\n",
      "\n",
      "Increase the number of iterations (max_iter) or scale the data as shown in:\n",
      "    https://scikit-learn.org/stable/modules/preprocessing.html\n",
      "Please also refer to the documentation for alternative solver options:\n",
      "    https://scikit-learn.org/stable/modules/linear_model.html#logistic-regression\n",
      "  n_iter_i = _check_optimize_result(\n",
      "C:\\Users\\gorba\\anaconda3\\Lib\\site-packages\\sklearn\\linear_model\\_logistic.py:469: ConvergenceWarning: lbfgs failed to converge (status=1):\n",
      "STOP: TOTAL NO. of ITERATIONS REACHED LIMIT.\n",
      "\n",
      "Increase the number of iterations (max_iter) or scale the data as shown in:\n",
      "    https://scikit-learn.org/stable/modules/preprocessing.html\n",
      "Please also refer to the documentation for alternative solver options:\n",
      "    https://scikit-learn.org/stable/modules/linear_model.html#logistic-regression\n",
      "  n_iter_i = _check_optimize_result(\n",
      "C:\\Users\\gorba\\anaconda3\\Lib\\site-packages\\sklearn\\linear_model\\_logistic.py:469: ConvergenceWarning: lbfgs failed to converge (status=1):\n",
      "STOP: TOTAL NO. of ITERATIONS REACHED LIMIT.\n",
      "\n",
      "Increase the number of iterations (max_iter) or scale the data as shown in:\n",
      "    https://scikit-learn.org/stable/modules/preprocessing.html\n",
      "Please also refer to the documentation for alternative solver options:\n",
      "    https://scikit-learn.org/stable/modules/linear_model.html#logistic-regression\n",
      "  n_iter_i = _check_optimize_result(\n"
     ]
    },
    {
     "name": "stderr",
     "output_type": "stream",
     "text": [
      "C:\\Users\\gorba\\anaconda3\\Lib\\site-packages\\sklearn\\linear_model\\_logistic.py:469: ConvergenceWarning: lbfgs failed to converge (status=1):\n",
      "STOP: TOTAL NO. of ITERATIONS REACHED LIMIT.\n",
      "\n",
      "Increase the number of iterations (max_iter) or scale the data as shown in:\n",
      "    https://scikit-learn.org/stable/modules/preprocessing.html\n",
      "Please also refer to the documentation for alternative solver options:\n",
      "    https://scikit-learn.org/stable/modules/linear_model.html#logistic-regression\n",
      "  n_iter_i = _check_optimize_result(\n"
     ]
    },
    {
     "name": "stderr",
     "output_type": "stream",
     "text": [
      "C:\\Users\\gorba\\anaconda3\\Lib\\site-packages\\sklearn\\utils\\optimize.py:246: ConvergenceWarning: newton-cg failed to converge. Increase the number of iterations.\n",
      "  warnings.warn(\n"
     ]
    },
    {
     "name": "stderr",
     "output_type": "stream",
     "text": [
      "C:\\Users\\gorba\\anaconda3\\Lib\\site-packages\\sklearn\\utils\\optimize.py:246: ConvergenceWarning: newton-cg failed to converge. Increase the number of iterations.\n",
      "  warnings.warn(\n"
     ]
    },
    {
     "name": "stderr",
     "output_type": "stream",
     "text": [
      "C:\\Users\\gorba\\anaconda3\\Lib\\site-packages\\sklearn\\utils\\optimize.py:246: ConvergenceWarning: newton-cg failed to converge. Increase the number of iterations.\n",
      "  warnings.warn(\n"
     ]
    },
    {
     "name": "stderr",
     "output_type": "stream",
     "text": [
      "C:\\Users\\gorba\\anaconda3\\Lib\\site-packages\\sklearn\\utils\\optimize.py:246: ConvergenceWarning: newton-cg failed to converge. Increase the number of iterations.\n",
      "  warnings.warn(\n"
     ]
    },
    {
     "name": "stderr",
     "output_type": "stream",
     "text": [
      "C:\\Users\\gorba\\anaconda3\\Lib\\site-packages\\sklearn\\utils\\optimize.py:246: ConvergenceWarning: newton-cg failed to converge. Increase the number of iterations.\n",
      "  warnings.warn(\n",
      "C:\\Users\\gorba\\anaconda3\\Lib\\site-packages\\sklearn\\linear_model\\_logistic.py:469: ConvergenceWarning: lbfgs failed to converge (status=1):\n",
      "STOP: TOTAL NO. of ITERATIONS REACHED LIMIT.\n",
      "\n",
      "Increase the number of iterations (max_iter) or scale the data as shown in:\n",
      "    https://scikit-learn.org/stable/modules/preprocessing.html\n",
      "Please also refer to the documentation for alternative solver options:\n",
      "    https://scikit-learn.org/stable/modules/linear_model.html#logistic-regression\n",
      "  n_iter_i = _check_optimize_result(\n",
      "C:\\Users\\gorba\\anaconda3\\Lib\\site-packages\\sklearn\\linear_model\\_logistic.py:469: ConvergenceWarning: lbfgs failed to converge (status=1):\n",
      "STOP: TOTAL NO. of ITERATIONS REACHED LIMIT.\n",
      "\n",
      "Increase the number of iterations (max_iter) or scale the data as shown in:\n",
      "    https://scikit-learn.org/stable/modules/preprocessing.html\n",
      "Please also refer to the documentation for alternative solver options:\n",
      "    https://scikit-learn.org/stable/modules/linear_model.html#logistic-regression\n",
      "  n_iter_i = _check_optimize_result(\n",
      "C:\\Users\\gorba\\anaconda3\\Lib\\site-packages\\sklearn\\linear_model\\_logistic.py:469: ConvergenceWarning: lbfgs failed to converge (status=1):\n",
      "STOP: TOTAL NO. of ITERATIONS REACHED LIMIT.\n",
      "\n",
      "Increase the number of iterations (max_iter) or scale the data as shown in:\n",
      "    https://scikit-learn.org/stable/modules/preprocessing.html\n",
      "Please also refer to the documentation for alternative solver options:\n",
      "    https://scikit-learn.org/stable/modules/linear_model.html#logistic-regression\n",
      "  n_iter_i = _check_optimize_result(\n",
      "C:\\Users\\gorba\\anaconda3\\Lib\\site-packages\\sklearn\\linear_model\\_logistic.py:469: ConvergenceWarning: lbfgs failed to converge (status=1):\n",
      "STOP: TOTAL NO. of ITERATIONS REACHED LIMIT.\n",
      "\n",
      "Increase the number of iterations (max_iter) or scale the data as shown in:\n",
      "    https://scikit-learn.org/stable/modules/preprocessing.html\n",
      "Please also refer to the documentation for alternative solver options:\n",
      "    https://scikit-learn.org/stable/modules/linear_model.html#logistic-regression\n",
      "  n_iter_i = _check_optimize_result(\n",
      "C:\\Users\\gorba\\anaconda3\\Lib\\site-packages\\sklearn\\linear_model\\_logistic.py:469: ConvergenceWarning: lbfgs failed to converge (status=1):\n",
      "STOP: TOTAL NO. of ITERATIONS REACHED LIMIT.\n",
      "\n",
      "Increase the number of iterations (max_iter) or scale the data as shown in:\n",
      "    https://scikit-learn.org/stable/modules/preprocessing.html\n",
      "Please also refer to the documentation for alternative solver options:\n",
      "    https://scikit-learn.org/stable/modules/linear_model.html#logistic-regression\n",
      "  n_iter_i = _check_optimize_result(\n"
     ]
    },
    {
     "name": "stderr",
     "output_type": "stream",
     "text": [
      "C:\\Users\\gorba\\anaconda3\\Lib\\site-packages\\sklearn\\utils\\optimize.py:246: ConvergenceWarning: newton-cg failed to converge. Increase the number of iterations.\n",
      "  warnings.warn(\n",
      "C:\\Users\\gorba\\anaconda3\\Lib\\site-packages\\sklearn\\model_selection\\_split.py:737: UserWarning: The least populated class in y has only 3 members, which is less than n_splits=5.\n",
      "  warnings.warn(\n",
      "C:\\Users\\gorba\\anaconda3\\Lib\\site-packages\\sklearn\\model_selection\\_split.py:737: UserWarning: The least populated class in y has only 3 members, which is less than n_splits=5.\n",
      "  warnings.warn(\n"
     ]
    },
    {
     "name": "stdout",
     "output_type": "stream",
     "text": [
      "Model LogisticRegression has been fitted!\n",
      "Predictions made for LogisticRegression!\n",
      "Best parameters for LogisticRegression: {'C': 10, 'solver': 'newton-cg'}\n",
      "Accuracy for LogisticRegression: 74.72%\n",
      "Model tuning time for LogisticRegression: 4.90 seconds\n",
      "------------------------------\n",
      "Starting tuning for model: GaussianNB\n",
      "Model GaussianNB has been fitted!\n",
      "Predictions made for GaussianNB!\n",
      "Best parameters for GaussianNB: {'var_smoothing': 1e-09}\n",
      "Accuracy for GaussianNB: 47.67%\n",
      "Model tuning time for GaussianNB: 0.08 seconds\n",
      "------------------------------\n",
      "Starting tuning for model: KNeighborsClassifier\n"
     ]
    },
    {
     "name": "stdout",
     "output_type": "stream",
     "text": [
      "Model KNeighborsClassifier has been fitted!\n",
      "Predictions made for KNeighborsClassifier!\n",
      "Best parameters for KNeighborsClassifier: {'metric': 'euclidean', 'n_neighbors': 9, 'weights': 'distance'}\n",
      "Accuracy for KNeighborsClassifier: 78.27%\n",
      "Model tuning time for KNeighborsClassifier: 1.08 seconds\n",
      "------------------------------\n",
      "Starting tuning for model: RandomForest\n"
     ]
    },
    {
     "name": "stderr",
     "output_type": "stream",
     "text": [
      "C:\\Users\\gorba\\anaconda3\\Lib\\site-packages\\sklearn\\model_selection\\_split.py:737: UserWarning: The least populated class in y has only 3 members, which is less than n_splits=5.\n",
      "  warnings.warn(\n"
     ]
    },
    {
     "name": "stdout",
     "output_type": "stream",
     "text": [
      "Model RandomForest has been fitted!\n",
      "Predictions made for RandomForest!\n",
      "Best parameters for RandomForest: {'max_depth': 10, 'min_samples_split': 10, 'n_estimators': 100}\n",
      "Accuracy for RandomForest: 80.71%\n",
      "Model tuning time for RandomForest: 43.63 seconds\n",
      "------------------------------\n",
      "Starting tuning for model: DecisionTreeClassifier\n"
     ]
    },
    {
     "name": "stderr",
     "output_type": "stream",
     "text": [
      "C:\\Users\\gorba\\anaconda3\\Lib\\site-packages\\sklearn\\model_selection\\_split.py:737: UserWarning: The least populated class in y has only 3 members, which is less than n_splits=5.\n",
      "  warnings.warn(\n"
     ]
    },
    {
     "name": "stdout",
     "output_type": "stream",
     "text": [
      "Model DecisionTreeClassifier has been fitted!\n",
      "Predictions made for DecisionTreeClassifier!\n",
      "Best parameters for DecisionTreeClassifier: {'criterion': 'entropy', 'max_depth': 8, 'min_samples_leaf': 6}\n",
      "Accuracy for DecisionTreeClassifier: 77.16%\n",
      "Model tuning time for DecisionTreeClassifier: 26.38 seconds\n",
      "Model storage folder created or already exists: ../../model/saved/cdrs_ratio_predictor\n",
      "Objects successfully serialized into ../../model/saved/cdrs_ratio_predictor\\cdrs_ratio_predictor_best.pkl\n",
      "Objects successfully serialized into ../../model/saved/cdrs_ratio_predictor\\cdrs_ratio_predictor_all.pkl\n",
      "Models for cdrs_ratio_predictor saved successfully.\n",
      "Best model is RandomForest with an accuracy of 80.71%\n",
      "Total hyper-parameter tuning time: 76.12 seconds for all models\n"
     ]
    }
   ],
   "source": [
    "cdrs_range_best_model, cdrs_trained_models = mteUtils.load_or_tune_and_evaluate_models('cdrs_ratio_predictor', mteUtils.models_dictionary, X_stats_full_train, X_stats_full_test, Y_stats_full_train, Y_stats_full_test, re_train=False)"
   ]
  },
  {
   "cell_type": "markdown",
   "id": "83b7d3f6721fe70",
   "metadata": {
    "papermill": {
     "duration": 0.015979,
     "end_time": "2024-12-08T14:39:54.788856",
     "exception": false,
     "start_time": "2024-12-08T14:39:54.772877",
     "status": "completed"
    },
    "tags": []
   },
   "source": [
    "### Evaluate CDRS-ratio predicting model"
   ]
  },
  {
   "cell_type": "code",
   "execution_count": 25,
   "id": "1c727bb07303aac7",
   "metadata": {
    "ExecuteTime": {
     "end_time": "2024-12-08T13:58:22.678154Z",
     "start_time": "2024-12-08T13:58:22.635755Z"
    },
    "execution": {
     "iopub.execute_input": "2024-12-08T14:39:54.821928Z",
     "iopub.status.busy": "2024-12-08T14:39:54.820855Z",
     "iopub.status.idle": "2024-12-08T14:39:54.861130Z",
     "shell.execute_reply": "2024-12-08T14:39:54.861130Z"
    },
    "papermill": {
     "duration": 0.055543,
     "end_time": "2024-12-08T14:39:54.862396",
     "exception": false,
     "start_time": "2024-12-08T14:39:54.806853",
     "status": "completed"
    },
    "tags": []
   },
   "outputs": [
    {
     "name": "stderr",
     "output_type": "stream",
     "text": [
      "ERROR:utils.ModelTrainingAndEvaluationUtils:[LogisticRegression] Error calculating ROC AUC: axis 1 is out of bounds for array of dimension 1\n"
     ]
    },
    {
     "name": "stderr",
     "output_type": "stream",
     "text": [
      "C:\\Users\\gorba\\anaconda3\\Lib\\site-packages\\sklearn\\metrics\\_classification.py:1509: UndefinedMetricWarning: Precision is ill-defined and being set to 0.0 in labels with no predicted samples. Use `zero_division` parameter to control this behavior.\n",
      "  _warn_prf(average, modifier, f\"{metric.capitalize()} is\", len(result))\n",
      "ERROR:utils.ModelTrainingAndEvaluationUtils:[GaussianNB] Error calculating ROC AUC: axis 1 is out of bounds for array of dimension 1\n"
     ]
    },
    {
     "name": "stderr",
     "output_type": "stream",
     "text": [
      "C:\\Users\\gorba\\anaconda3\\Lib\\site-packages\\sklearn\\metrics\\_classification.py:1509: UndefinedMetricWarning: Precision is ill-defined and being set to 0.0 in labels with no predicted samples. Use `zero_division` parameter to control this behavior.\n",
      "  _warn_prf(average, modifier, f\"{metric.capitalize()} is\", len(result))\n",
      "ERROR:utils.ModelTrainingAndEvaluationUtils:[KNeighborsClassifier] Error calculating ROC AUC: axis 1 is out of bounds for array of dimension 1\n"
     ]
    },
    {
     "name": "stderr",
     "output_type": "stream",
     "text": [
      "C:\\Users\\gorba\\anaconda3\\Lib\\site-packages\\sklearn\\metrics\\_classification.py:1509: UndefinedMetricWarning: Precision is ill-defined and being set to 0.0 in labels with no predicted samples. Use `zero_division` parameter to control this behavior.\n",
      "  _warn_prf(average, modifier, f\"{metric.capitalize()} is\", len(result))\n",
      "ERROR:utils.ModelTrainingAndEvaluationUtils:[RandomForest] Error calculating ROC AUC: axis 1 is out of bounds for array of dimension 1\n"
     ]
    },
    {
     "name": "stderr",
     "output_type": "stream",
     "text": [
      "C:\\Users\\gorba\\anaconda3\\Lib\\site-packages\\sklearn\\metrics\\_classification.py:1509: UndefinedMetricWarning: Precision is ill-defined and being set to 0.0 in labels with no predicted samples. Use `zero_division` parameter to control this behavior.\n",
      "  _warn_prf(average, modifier, f\"{metric.capitalize()} is\", len(result))\n",
      "ERROR:utils.ModelTrainingAndEvaluationUtils:[DecisionTreeClassifier] Error calculating ROC AUC: axis 1 is out of bounds for array of dimension 1\n"
     ]
    },
    {
     "name": "stdout",
     "output_type": "stream",
     "text": [
      "Model Name           Accuracy   ROC AUC    Precision  Recall     F1 Score  \n",
      "======================================================================\n",
      "LogisticRegression   0.75       N/A        0.71       0.75       0.72      \n",
      "GaussianNB           0.48       N/A        0.46       0.48       0.39      \n",
      "KNeighborsClassifier 0.78       N/A        0.78       0.78       0.77      \n",
      "RandomForest         0.81       N/A        0.81       0.81       0.80      \n",
      "DecisionTreeClassifier 0.77       N/A        0.77       0.77       0.77      \n"
     ]
    },
    {
     "name": "stderr",
     "output_type": "stream",
     "text": [
      "C:\\Users\\gorba\\anaconda3\\Lib\\site-packages\\sklearn\\metrics\\_classification.py:1509: UndefinedMetricWarning: Precision is ill-defined and being set to 0.0 in labels with no predicted samples. Use `zero_division` parameter to control this behavior.\n",
      "  _warn_prf(average, modifier, f\"{metric.capitalize()} is\", len(result))\n"
     ]
    }
   ],
   "source": [
    "mteUtils.evaluate_models(cdrs_trained_models, Y_stats_full_test)"
   ]
  },
  {
   "cell_type": "markdown",
   "id": "3e1fb4151f29975e",
   "metadata": {
    "papermill": {
     "duration": 0.021883,
     "end_time": "2024-12-08T14:39:54.898346",
     "exception": false,
     "start_time": "2024-12-08T14:39:54.876463",
     "status": "completed"
    },
    "tags": []
   },
   "source": [
    "### Show confusion matrix for CDRS-ratio predicting model"
   ]
  },
  {
   "cell_type": "code",
   "execution_count": 26,
   "id": "b55f7f80696dab50",
   "metadata": {
    "ExecuteTime": {
     "end_time": "2024-12-08T13:58:24.217303Z",
     "start_time": "2024-12-08T13:58:23.123073Z"
    },
    "execution": {
     "iopub.execute_input": "2024-12-08T14:39:54.930440Z",
     "iopub.status.busy": "2024-12-08T14:39:54.930440Z",
     "iopub.status.idle": "2024-12-08T14:39:55.750293Z",
     "shell.execute_reply": "2024-12-08T14:39:55.749232Z"
    },
    "papermill": {
     "duration": 0.838008,
     "end_time": "2024-12-08T14:39:55.752351",
     "exception": false,
     "start_time": "2024-12-08T14:39:54.914343",
     "status": "completed"
    },
    "tags": []
   },
   "outputs": [
    {
     "data": {
      "image/png": "[encoded data removed]",
      "text/plain": [
       "<Figure size 600x600 with 2 Axes>"
      ]
     },
     "metadata": {},
     "output_type": "display_data"
    },
    {
     "data": {
      "image/png": "[encoded data removed]",
      "text/plain": [
       "<Figure size 600x600 with 2 Axes>"
      ]
     },
     "metadata": {},
     "output_type": "display_data"
    },
    {
     "data": {
      "image/png": "[encoded data removed]",
      "text/plain": [
       "<Figure size 600x600 with 2 Axes>"
      ]
     },
     "metadata": {},
     "output_type": "display_data"
    },
    {
     "data": {
      "image/png": "[encoded data removed]",
      "text/plain": [
       "<Figure size 600x600 with 2 Axes>"
      ]
     },
     "metadata": {},
     "output_type": "display_data"
    },
    {
     "data": {
      "image/png": "[encoded data removed]",
      "text/plain": [
       "<Figure size 600x600 with 2 Axes>"
      ]
     },
     "metadata": {},
     "output_type": "display_data"
    }
   ],
   "source": [
    "pltUtils.plot_confusion_matrix_models(models=cdrs_trained_models, X_test=X_stats_full_test, Y_test=Y_stats_full_test)"
   ]
  },
  {
   "cell_type": "markdown",
   "id": "33568a3f51428da",
   "metadata": {
    "papermill": {
     "duration": 0.017971,
     "end_time": "2024-12-08T14:39:55.796248",
     "exception": false,
     "start_time": "2024-12-08T14:39:55.778277",
     "status": "completed"
    },
    "tags": []
   },
   "source": [
    "### Show feature importance matrix for CDRS-ratio predicting model"
   ]
  },
  {
   "cell_type": "code",
   "execution_count": 27,
   "id": "3aa955be5cd12e75",
   "metadata": {
    "ExecuteTime": {
     "end_time": "2024-12-08T13:58:25.074013Z",
     "start_time": "2024-12-08T13:58:24.739961Z"
    },
    "execution": {
     "iopub.execute_input": "2024-12-08T14:39:55.840531Z",
     "iopub.status.busy": "2024-12-08T14:39:55.840531Z",
     "iopub.status.idle": "2024-12-08T14:39:56.060125Z",
     "shell.execute_reply": "2024-12-08T14:39:56.059581Z"
    },
    "papermill": {
     "duration": 0.247807,
     "end_time": "2024-12-08T14:39:56.061132",
     "exception": false,
     "start_time": "2024-12-08T14:39:55.813325",
     "status": "completed"
    },
    "tags": []
   },
   "outputs": [
    {
     "name": "stdout",
     "output_type": "stream",
     "text": [
      "The model 'LogisticRegression' does not support feature importance plotting.\n",
      "The model 'GaussianNB' does not support feature importance plotting.\n",
      "The model 'KNeighborsClassifier' does not support feature importance plotting.\n"
     ]
    },
    {
     "data": {
      "image/png": "[encoded data removed]",
      "text/plain": [
       "<Figure size 1000x600 with 1 Axes>"
      ]
     },
     "metadata": {},
     "output_type": "display_data"
    },
    {
     "data": {
      "image/png": "[encoded data removed]",
      "text/plain": [
       "<Figure size 1000x600 with 1 Axes>"
      ]
     },
     "metadata": {},
     "output_type": "display_data"
    }
   ],
   "source": [
    "pltUtils.plot_feature_importances(models=cdrs_trained_models, feature_names=list(X_stats_full_test.columns))"
   ]
  },
  {
   "cell_type": "markdown",
   "id": "b7f77baa201ce3d",
   "metadata": {
    "papermill": {
     "duration": 0.020999,
     "end_time": "2024-12-08T14:39:56.101131",
     "exception": false,
     "start_time": "2024-12-08T14:39:56.080132",
     "status": "completed"
    },
    "tags": []
   },
   "source": [
    "### Check N/A values in dataset for CDRS-ratio predicting model"
   ]
  },
  {
   "cell_type": "code",
   "execution_count": 28,
   "id": "77a8e455520e2384",
   "metadata": {
    "ExecuteTime": {
     "end_time": "2024-12-08T13:58:25.566553Z",
     "start_time": "2024-12-08T13:58:25.556046Z"
    },
    "execution": {
     "iopub.execute_input": "2024-12-08T14:39:56.137647Z",
     "iopub.status.busy": "2024-12-08T14:39:56.137647Z",
     "iopub.status.idle": "2024-12-08T14:39:56.146219Z",
     "shell.execute_reply": "2024-12-08T14:39:56.146219Z"
    },
    "papermill": {
     "duration": 0.030179,
     "end_time": "2024-12-08T14:39:56.148312",
     "exception": false,
     "start_time": "2024-12-08T14:39:56.118133",
     "status": "completed"
    },
    "tags": []
   },
   "outputs": [
    {
     "name": "stdout",
     "output_type": "stream",
     "text": [
      "Dimensions: 4601 rows, 6 columns\n",
      "Total NA's: 4698\n",
      "There are no duplicates in this dataset!\n",
      "Column Name                            Data Type  Count Distinct  NA Values \n",
      "accountNumber                          object     4601            0         \n",
      "creditLimit                            float64    10              0         \n",
      "avg_norm_spent_percentage              float64    3505            0         \n",
      "avg_norm_days_between_resets           float64    2965            0         \n",
      "cdrs_ratio                             float64    2136            2349      \n",
      "cdrs_range                             category   7               2349      \n"
     ]
    }
   ],
   "source": [
    "edaUtils.data_summary(stability_stats_full)"
   ]
  },
  {
   "cell_type": "markdown",
   "id": "f85be61ea1d63f86",
   "metadata": {
    "papermill": {
     "duration": 0.018002,
     "end_time": "2024-12-08T14:39:56.184309",
     "exception": false,
     "start_time": "2024-12-08T14:39:56.166307",
     "status": "completed"
    },
    "tags": []
   },
   "source": [
    "### Fill skipped CDRS ratio by predicted value by out submodel\n",
    "Fill in the missing values of the coefficient ranges for each account with the values that were predicted by our submodel. And the coefficient itself is filled in this way, the value of the predicted range is taken, across the entire data set the average number for those accounts with the same range is taken and assigned to the coefficient column."
   ]
  },
  {
   "cell_type": "code",
   "execution_count": 29,
   "id": "2b396c2ebd1eca2e",
   "metadata": {
    "ExecuteTime": {
     "end_time": "2024-12-08T14:01:19.392479Z",
     "start_time": "2024-12-08T14:01:19.234613Z"
    },
    "execution": {
     "iopub.execute_input": "2024-12-08T14:39:56.232427Z",
     "iopub.status.busy": "2024-12-08T14:39:56.231416Z",
     "iopub.status.idle": "2024-12-08T14:39:56.363595Z",
     "shell.execute_reply": "2024-12-08T14:39:56.363595Z"
    },
    "papermill": {
     "duration": 0.153338,
     "end_time": "2024-12-08T14:39:56.364600",
     "exception": false,
     "start_time": "2024-12-08T14:39:56.211262",
     "status": "completed"
    },
    "tags": []
   },
   "outputs": [
    {
     "name": "stderr",
     "output_type": "stream",
     "text": [
      "C:\\Users\\gorba\\AppData\\Local\\Temp\\ipykernel_18580\\2594833477.py:4: SettingWithCopyWarning: \n",
      "A value is trying to be set on a copy of a slice from a DataFrame.\n",
      "Try using .loc[row_indexer,col_indexer] = value instead\n",
      "\n",
      "See the caveats in the documentation: https://pandas.pydata.org/pandas-docs/stable/user_guide/indexing.html#returning-a-view-versus-a-copy\n",
      "  empty_cdrs_ratio_accounts['cdrs_range'] = cdrs_range_encoder.inverse_transform(encoded_predicted_cdrs_range)\n",
      "C:\\Users\\gorba\\AppData\\Local\\Temp\\ipykernel_18580\\2594833477.py:6: FutureWarning: The default of observed=False is deprecated and will be changed to True in a future version of pandas. Pass observed=False to retain current behavior or observed=True to adopt the future default and silence this warning.\n",
      "  mean_cdrs_ratio_per_range = stability_stats_full[stability_stats_full['cdrs_range'].notna()].groupby('cdrs_range')['cdrs_ratio'].mean()\n",
      "C:\\Users\\gorba\\AppData\\Local\\Temp\\ipykernel_18580\\2594833477.py:13: SettingWithCopyWarning: \n",
      "A value is trying to be set on a copy of a slice from a DataFrame.\n",
      "Try using .loc[row_indexer,col_indexer] = value instead\n",
      "\n",
      "See the caveats in the documentation: https://pandas.pydata.org/pandas-docs/stable/user_guide/indexing.html#returning-a-view-versus-a-copy\n",
      "  empty_cdrs_ratio_accounts['cdrs_ratio'] = empty_cdrs_ratio_accounts.apply(fill_na_with_mean, axis=1)\n"
     ]
    },
    {
     "data": {
      "text/html": [
       "<div>\n",
       "<style scoped>\n",
       "    .dataframe tbody tr th:only-of-type {\n",
       "        vertical-align: middle;\n",
       "    }\n",
       "\n",
       "    .dataframe tbody tr th {\n",
       "        vertical-align: top;\n",
       "    }\n",
       "\n",
       "    .dataframe thead th {\n",
       "        text-align: right;\n",
       "    }\n",
       "</style>\n",
       "<table border=\"1\" class=\"dataframe\">\n",
       "  <thead>\n",
       "    <tr style=\"text-align: right;\">\n",
       "      <th></th>\n",
       "      <th>accountNumber</th>\n",
       "      <th>creditLimit</th>\n",
       "      <th>avg_norm_spent_percentage</th>\n",
       "      <th>avg_norm_days_between_resets</th>\n",
       "      <th>cdrs_ratio</th>\n",
       "      <th>cdrs_range</th>\n",
       "    </tr>\n",
       "  </thead>\n",
       "  <tbody>\n",
       "    <tr>\n",
       "      <th>0</th>\n",
       "      <td>100088067</td>\n",
       "      <td>50000.0</td>\n",
       "      <td>0.271256</td>\n",
       "      <td>0.740260</td>\n",
       "      <td>0.799200</td>\n",
       "      <td>(0.778, 0.889]</td>\n",
       "    </tr>\n",
       "    <tr>\n",
       "      <th>1</th>\n",
       "      <td>100108752</td>\n",
       "      <td>5000.0</td>\n",
       "      <td>1.000000</td>\n",
       "      <td>1.000000</td>\n",
       "      <td>0.504463</td>\n",
       "      <td>(0.444, 0.556]</td>\n",
       "    </tr>\n",
       "    <tr>\n",
       "      <th>2</th>\n",
       "      <td>100328049</td>\n",
       "      <td>5000.0</td>\n",
       "      <td>0.488997</td>\n",
       "      <td>0.681818</td>\n",
       "      <td>0.666593</td>\n",
       "      <td>(0.556, 0.667]</td>\n",
       "    </tr>\n",
       "    <tr>\n",
       "      <th>3</th>\n",
       "      <td>100663626</td>\n",
       "      <td>20000.0</td>\n",
       "      <td>0.500000</td>\n",
       "      <td>0.500000</td>\n",
       "      <td>0.734987</td>\n",
       "      <td>(0.667, 0.778]</td>\n",
       "    </tr>\n",
       "    <tr>\n",
       "      <th>4</th>\n",
       "      <td>100737756</td>\n",
       "      <td>250.0</td>\n",
       "      <td>0.127899</td>\n",
       "      <td>0.121490</td>\n",
       "      <td>0.926386</td>\n",
       "      <td>(0.889, 1.0]</td>\n",
       "    </tr>\n",
       "    <tr>\n",
       "      <th>...</th>\n",
       "      <td>...</td>\n",
       "      <td>...</td>\n",
       "      <td>...</td>\n",
       "      <td>...</td>\n",
       "      <td>...</td>\n",
       "      <td>...</td>\n",
       "    </tr>\n",
       "    <tr>\n",
       "      <th>4994</th>\n",
       "      <td>998869994</td>\n",
       "      <td>7500.0</td>\n",
       "      <td>1.000000</td>\n",
       "      <td>1.000000</td>\n",
       "      <td>0.504463</td>\n",
       "      <td>(0.444, 0.556]</td>\n",
       "    </tr>\n",
       "    <tr>\n",
       "      <th>4996</th>\n",
       "      <td>999257059</td>\n",
       "      <td>15000.0</td>\n",
       "      <td>0.375245</td>\n",
       "      <td>0.266667</td>\n",
       "      <td>0.899935</td>\n",
       "      <td>(0.889, 1.0]</td>\n",
       "    </tr>\n",
       "    <tr>\n",
       "      <th>4997</th>\n",
       "      <td>999258704</td>\n",
       "      <td>5000.0</td>\n",
       "      <td>0.442661</td>\n",
       "      <td>0.251220</td>\n",
       "      <td>0.888795</td>\n",
       "      <td>(0.778, 0.889]</td>\n",
       "    </tr>\n",
       "    <tr>\n",
       "      <th>4998</th>\n",
       "      <td>999283629</td>\n",
       "      <td>2500.0</td>\n",
       "      <td>0.534500</td>\n",
       "      <td>0.726790</td>\n",
       "      <td>0.712807</td>\n",
       "      <td>(0.667, 0.778]</td>\n",
       "    </tr>\n",
       "    <tr>\n",
       "      <th>4999</th>\n",
       "      <td>999389635</td>\n",
       "      <td>5000.0</td>\n",
       "      <td>0.307944</td>\n",
       "      <td>0.226994</td>\n",
       "      <td>0.928505</td>\n",
       "      <td>(0.889, 1.0]</td>\n",
       "    </tr>\n",
       "  </tbody>\n",
       "</table>\n",
       "<p>4601 rows × 6 columns</p>\n",
       "</div>"
      ],
      "text/plain": [
       "     accountNumber  creditLimit  avg_norm_spent_percentage  \\\n",
       "0        100088067      50000.0                   0.271256   \n",
       "1        100108752       5000.0                   1.000000   \n",
       "2        100328049       5000.0                   0.488997   \n",
       "3        100663626      20000.0                   0.500000   \n",
       "4        100737756        250.0                   0.127899   \n",
       "...            ...          ...                        ...   \n",
       "4994     998869994       7500.0                   1.000000   \n",
       "4996     999257059      15000.0                   0.375245   \n",
       "4997     999258704       5000.0                   0.442661   \n",
       "4998     999283629       2500.0                   0.534500   \n",
       "4999     999389635       5000.0                   0.307944   \n",
       "\n",
       "      avg_norm_days_between_resets  cdrs_ratio      cdrs_range  \n",
       "0                         0.740260    0.799200  (0.778, 0.889]  \n",
       "1                         1.000000    0.504463  (0.444, 0.556]  \n",
       "2                         0.681818    0.666593  (0.556, 0.667]  \n",
       "3                         0.500000    0.734987  (0.667, 0.778]  \n",
       "4                         0.121490    0.926386    (0.889, 1.0]  \n",
       "...                            ...         ...             ...  \n",
       "4994                      1.000000    0.504463  (0.444, 0.556]  \n",
       "4996                      0.266667    0.899935    (0.889, 1.0]  \n",
       "4997                      0.251220    0.888795  (0.778, 0.889]  \n",
       "4998                      0.726790    0.712807  (0.667, 0.778]  \n",
       "4999                      0.226994    0.928505    (0.889, 1.0]  \n",
       "\n",
       "[4601 rows x 6 columns]"
      ]
     },
     "execution_count": 29,
     "metadata": {},
     "output_type": "execute_result"
    }
   ],
   "source": [
    "empty_cdrs_ratio_accounts = stability_stats_full[stability_stats_full['cdrs_range'].isnull()]\n",
    "data_for_cdrs_range_prediction = empty_cdrs_ratio_accounts.drop(columns=['cdrs_ratio', 'cdrs_range', 'accountNumber'])\n",
    "encoded_predicted_cdrs_range = cdrs_range_best_model.predict(data_for_cdrs_range_prediction)\n",
    "empty_cdrs_ratio_accounts['cdrs_range'] = cdrs_range_encoder.inverse_transform(encoded_predicted_cdrs_range)\n",
    "\n",
    "mean_cdrs_ratio_per_range = stability_stats_full[stability_stats_full['cdrs_range'].notna()].groupby('cdrs_range')['cdrs_ratio'].mean()\n",
    "def fill_na_with_mean(row):\n",
    "    if pd.isna(row['cdrs_ratio']):\n",
    "        return mean_cdrs_ratio_per_range[row['cdrs_range']]\n",
    "    else:\n",
    "        return row['cdrs_ratio']\n",
    "\n",
    "empty_cdrs_ratio_accounts['cdrs_ratio'] = empty_cdrs_ratio_accounts.apply(fill_na_with_mean, axis=1)\n",
    "\n",
    "stability_stats_full.loc[\n",
    "    stability_stats_full['accountNumber'].isin(empty_cdrs_ratio_accounts['accountNumber']),\n",
    "    ['cdrs_range', 'cdrs_ratio']\n",
    "] = empty_cdrs_ratio_accounts[['cdrs_range', 'cdrs_ratio']].values\n",
    "\n",
    "stability_stats_full\n"
   ]
  },
  {
   "cell_type": "markdown",
   "id": "a84cb9ef1b2438de",
   "metadata": {
    "papermill": {
     "duration": 0.018001,
     "end_time": "2024-12-08T14:39:56.401685",
     "exception": false,
     "start_time": "2024-12-08T14:39:56.383684",
     "status": "completed"
    },
    "tags": []
   },
   "source": [
    "### Final data summary for our submodel with the data already filled in"
   ]
  },
  {
   "cell_type": "code",
   "execution_count": 30,
   "id": "acf53c9cca6fe0ae",
   "metadata": {
    "ExecuteTime": {
     "end_time": "2024-12-08T14:01:29.379268Z",
     "start_time": "2024-12-08T14:01:29.368185Z"
    },
    "execution": {
     "iopub.execute_input": "2024-12-08T14:39:56.447580Z",
     "iopub.status.busy": "2024-12-08T14:39:56.447580Z",
     "iopub.status.idle": "2024-12-08T14:39:56.461195Z",
     "shell.execute_reply": "2024-12-08T14:39:56.461195Z"
    },
    "papermill": {
     "duration": 0.039427,
     "end_time": "2024-12-08T14:39:56.462306",
     "exception": false,
     "start_time": "2024-12-08T14:39:56.422879",
     "status": "completed"
    },
    "tags": []
   },
   "outputs": [
    {
     "name": "stdout",
     "output_type": "stream",
     "text": [
      "Dimensions: 4601 rows, 6 columns\n",
      "Total NA's: 0\n",
      "There are no duplicates in this dataset!\n",
      "Column Name                            Data Type  Count Distinct  NA Values \n",
      "accountNumber                          object     4601            0         \n",
      "creditLimit                            float64    10              0         \n",
      "avg_norm_spent_percentage              float64    3505            0         \n",
      "avg_norm_days_between_resets           float64    2965            0         \n",
      "cdrs_ratio                             float64    2141            0         \n",
      "cdrs_range                             category   7               0         \n"
     ]
    }
   ],
   "source": [
    "edaUtils.data_summary(stability_stats_full)"
   ]
  },
  {
   "cell_type": "code",
   "execution_count": 31,
   "id": "67f297d7ccf4cbac",
   "metadata": {
    "ExecuteTime": {
     "end_time": "2024-12-08T14:01:32.015753Z",
     "start_time": "2024-12-08T14:01:31.781963Z"
    },
    "execution": {
     "iopub.execute_input": "2024-12-08T14:39:56.503289Z",
     "iopub.status.busy": "2024-12-08T14:39:56.503289Z",
     "iopub.status.idle": "2024-12-08T14:39:56.742279Z",
     "shell.execute_reply": "2024-12-08T14:39:56.741183Z"
    },
    "papermill": {
     "duration": 0.261891,
     "end_time": "2024-12-08T14:39:56.744190",
     "exception": false,
     "start_time": "2024-12-08T14:39:56.482299",
     "status": "completed"
    },
    "tags": []
   },
   "outputs": [
    {
     "name": "stderr",
     "output_type": "stream",
     "text": [
      "C:\\Users\\gorba\\AppData\\Local\\Temp\\ipykernel_18580\\3747772818.py:72: FutureWarning: The default of observed=False is deprecated and will be changed to True in a future version of pandas. Pass observed=False to retain current behavior or observed=True to adopt the future default and silence this warning.\n",
      "  fraud_stats = df_merged.groupby('cdrs_range').agg(\n"
     ]
    },
    {
     "data": {
      "image/png": "[encoded data removed]",
      "text/plain": [
       "<Figure size 1000x600 with 1 Axes>"
      ]
     },
     "metadata": {},
     "output_type": "display_data"
    }
   ],
   "source": [
    "visualize_fraud_vs_cdrs_ratio(calculate_fraud_stats(df, stability_stats_full))"
   ]
  },
  {
   "cell_type": "markdown",
   "id": "1b4ed3d257e86d41",
   "metadata": {
    "papermill": {
     "duration": 0.033025,
     "end_time": "2024-12-08T14:39:56.800324",
     "exception": false,
     "start_time": "2024-12-08T14:39:56.767299",
     "status": "completed"
    },
    "tags": []
   },
   "source": [
    "#### Add cdrs ratio and range to general dataset and drop synthetic replenishment transactions"
   ]
  },
  {
   "cell_type": "code",
   "execution_count": 32,
   "id": "286a3615940218f9",
   "metadata": {
    "ExecuteTime": {
     "end_time": "2024-12-08T14:01:35.799388Z",
     "start_time": "2024-12-08T14:01:35.483557Z"
    },
    "execution": {
     "iopub.execute_input": "2024-12-08T14:39:56.839654Z",
     "iopub.status.busy": "2024-12-08T14:39:56.838657Z",
     "iopub.status.idle": "2024-12-08T14:39:57.214397Z",
     "shell.execute_reply": "2024-12-08T14:39:57.213910Z"
    },
    "papermill": {
     "duration": 0.396104,
     "end_time": "2024-12-08T14:39:57.215404",
     "exception": false,
     "start_time": "2024-12-08T14:39:56.819300",
     "status": "completed"
    },
    "tags": []
   },
   "outputs": [
    {
     "data": {
      "text/html": [
       "<div>\n",
       "<style scoped>\n",
       "    .dataframe tbody tr th:only-of-type {\n",
       "        vertical-align: middle;\n",
       "    }\n",
       "\n",
       "    .dataframe tbody tr th {\n",
       "        vertical-align: top;\n",
       "    }\n",
       "\n",
       "    .dataframe thead th {\n",
       "        text-align: right;\n",
       "    }\n",
       "</style>\n",
       "<table border=\"1\" class=\"dataframe\">\n",
       "  <thead>\n",
       "    <tr style=\"text-align: right;\">\n",
       "      <th></th>\n",
       "      <th>accountNumber</th>\n",
       "      <th>creditLimit</th>\n",
       "      <th>availableMoney</th>\n",
       "      <th>transactionDateTime</th>\n",
       "      <th>transactionAmount</th>\n",
       "      <th>acqCountry</th>\n",
       "      <th>merchantCountryCode</th>\n",
       "      <th>posEntryMode</th>\n",
       "      <th>posConditionCode</th>\n",
       "      <th>merchantCategoryCode</th>\n",
       "      <th>...</th>\n",
       "      <th>cardCVV</th>\n",
       "      <th>enteredCVV</th>\n",
       "      <th>transactionType</th>\n",
       "      <th>creditDebt</th>\n",
       "      <th>cardPresent</th>\n",
       "      <th>expirationDateKeyInMatch</th>\n",
       "      <th>isFraud</th>\n",
       "      <th>creditLimitRange</th>\n",
       "      <th>cdrs_ratio</th>\n",
       "      <th>cdrs_range</th>\n",
       "    </tr>\n",
       "  </thead>\n",
       "  <tbody>\n",
       "    <tr>\n",
       "      <th>1</th>\n",
       "      <td>100088067</td>\n",
       "      <td>50000.0</td>\n",
       "      <td>50000.00</td>\n",
       "      <td>2016-01-12 00:59:52</td>\n",
       "      <td>205.13</td>\n",
       "      <td>US</td>\n",
       "      <td>US</td>\n",
       "      <td>02</td>\n",
       "      <td>01</td>\n",
       "      <td>entertainment</td>\n",
       "      <td>...</td>\n",
       "      <td>546</td>\n",
       "      <td>546</td>\n",
       "      <td>PURCHASE</td>\n",
       "      <td>0.00</td>\n",
       "      <td>True</td>\n",
       "      <td>False</td>\n",
       "      <td>False</td>\n",
       "      <td>75-100%</td>\n",
       "      <td>0.7992</td>\n",
       "      <td>(0.778, 0.889]</td>\n",
       "    </tr>\n",
       "    <tr>\n",
       "      <th>2</th>\n",
       "      <td>100088067</td>\n",
       "      <td>50000.0</td>\n",
       "      <td>49794.87</td>\n",
       "      <td>2016-01-12 19:49:41</td>\n",
       "      <td>46.43</td>\n",
       "      <td>US</td>\n",
       "      <td>US</td>\n",
       "      <td>05</td>\n",
       "      <td>01</td>\n",
       "      <td>food</td>\n",
       "      <td>...</td>\n",
       "      <td>546</td>\n",
       "      <td>546</td>\n",
       "      <td>PURCHASE</td>\n",
       "      <td>205.13</td>\n",
       "      <td>True</td>\n",
       "      <td>False</td>\n",
       "      <td>False</td>\n",
       "      <td>75-100%</td>\n",
       "      <td>0.7992</td>\n",
       "      <td>(0.778, 0.889]</td>\n",
       "    </tr>\n",
       "    <tr>\n",
       "      <th>3</th>\n",
       "      <td>100088067</td>\n",
       "      <td>50000.0</td>\n",
       "      <td>49748.44</td>\n",
       "      <td>2016-01-17 15:41:46</td>\n",
       "      <td>378.67</td>\n",
       "      <td>US</td>\n",
       "      <td>US</td>\n",
       "      <td>05</td>\n",
       "      <td>01</td>\n",
       "      <td>online_gifts</td>\n",
       "      <td>...</td>\n",
       "      <td>402</td>\n",
       "      <td>402</td>\n",
       "      <td>PURCHASE</td>\n",
       "      <td>251.56</td>\n",
       "      <td>False</td>\n",
       "      <td>False</td>\n",
       "      <td>False</td>\n",
       "      <td>75-100%</td>\n",
       "      <td>0.7992</td>\n",
       "      <td>(0.778, 0.889]</td>\n",
       "    </tr>\n",
       "    <tr>\n",
       "      <th>5</th>\n",
       "      <td>100088067</td>\n",
       "      <td>50000.0</td>\n",
       "      <td>50000.00</td>\n",
       "      <td>2016-02-02 19:57:18</td>\n",
       "      <td>66.07</td>\n",
       "      <td>US</td>\n",
       "      <td>US</td>\n",
       "      <td>02</td>\n",
       "      <td>01</td>\n",
       "      <td>entertainment</td>\n",
       "      <td>...</td>\n",
       "      <td>546</td>\n",
       "      <td>546</td>\n",
       "      <td>PURCHASE</td>\n",
       "      <td>0.00</td>\n",
       "      <td>True</td>\n",
       "      <td>False</td>\n",
       "      <td>False</td>\n",
       "      <td>75-100%</td>\n",
       "      <td>0.7992</td>\n",
       "      <td>(0.778, 0.889]</td>\n",
       "    </tr>\n",
       "    <tr>\n",
       "      <th>6</th>\n",
       "      <td>100088067</td>\n",
       "      <td>50000.0</td>\n",
       "      <td>49933.93</td>\n",
       "      <td>2016-02-03 04:48:54</td>\n",
       "      <td>141.60</td>\n",
       "      <td>US</td>\n",
       "      <td>US</td>\n",
       "      <td>09</td>\n",
       "      <td>08</td>\n",
       "      <td>food</td>\n",
       "      <td>...</td>\n",
       "      <td>546</td>\n",
       "      <td>546</td>\n",
       "      <td>PURCHASE</td>\n",
       "      <td>66.07</td>\n",
       "      <td>True</td>\n",
       "      <td>False</td>\n",
       "      <td>False</td>\n",
       "      <td>75-100%</td>\n",
       "      <td>0.7992</td>\n",
       "      <td>(0.778, 0.889]</td>\n",
       "    </tr>\n",
       "  </tbody>\n",
       "</table>\n",
       "<p>5 rows × 23 columns</p>\n",
       "</div>"
      ],
      "text/plain": [
       "  accountNumber  creditLimit  availableMoney transactionDateTime  \\\n",
       "1     100088067      50000.0        50000.00 2016-01-12 00:59:52   \n",
       "2     100088067      50000.0        49794.87 2016-01-12 19:49:41   \n",
       "3     100088067      50000.0        49748.44 2016-01-17 15:41:46   \n",
       "5     100088067      50000.0        50000.00 2016-02-02 19:57:18   \n",
       "6     100088067      50000.0        49933.93 2016-02-03 04:48:54   \n",
       "\n",
       "   transactionAmount acqCountry merchantCountryCode posEntryMode  \\\n",
       "1             205.13         US                  US           02   \n",
       "2              46.43         US                  US           05   \n",
       "3             378.67         US                  US           05   \n",
       "5              66.07         US                  US           02   \n",
       "6             141.60         US                  US           09   \n",
       "\n",
       "  posConditionCode merchantCategoryCode  ... cardCVV enteredCVV  \\\n",
       "1               01        entertainment  ...     546        546   \n",
       "2               01                 food  ...     546        546   \n",
       "3               01         online_gifts  ...     402        402   \n",
       "5               01        entertainment  ...     546        546   \n",
       "6               08                 food  ...     546        546   \n",
       "\n",
       "  transactionType creditDebt cardPresent expirationDateKeyInMatch  isFraud  \\\n",
       "1        PURCHASE       0.00        True                    False    False   \n",
       "2        PURCHASE     205.13        True                    False    False   \n",
       "3        PURCHASE     251.56       False                    False    False   \n",
       "5        PURCHASE       0.00        True                    False    False   \n",
       "6        PURCHASE      66.07        True                    False    False   \n",
       "\n",
       "   creditLimitRange  cdrs_ratio      cdrs_range  \n",
       "1           75-100%      0.7992  (0.778, 0.889]  \n",
       "2           75-100%      0.7992  (0.778, 0.889]  \n",
       "3           75-100%      0.7992  (0.778, 0.889]  \n",
       "5           75-100%      0.7992  (0.778, 0.889]  \n",
       "6           75-100%      0.7992  (0.778, 0.889]  \n",
       "\n",
       "[5 rows x 23 columns]"
      ]
     },
     "execution_count": 32,
     "metadata": {},
     "output_type": "execute_result"
    }
   ],
   "source": [
    "cdrs_ratio_data = stability_stats_full[['accountNumber', 'cdrs_ratio', 'cdrs_range']]\n",
    "df = df.merge(cdrs_ratio_data, on='accountNumber', how='left')\n",
    "df = df[df['transactionType'] != 'REPLENISHMENT']\n",
    "df.head()"
   ]
  },
  {
   "cell_type": "code",
   "execution_count": 33,
   "id": "c9ce507dcfcc4fe8",
   "metadata": {
    "ExecuteTime": {
     "end_time": "2024-12-08T14:01:39.076091Z",
     "start_time": "2024-12-08T14:01:37.651437Z"
    },
    "execution": {
     "iopub.execute_input": "2024-12-08T14:39:57.262293Z",
     "iopub.status.busy": "2024-12-08T14:39:57.262293Z",
     "iopub.status.idle": "2024-12-08T14:39:58.847136Z",
     "shell.execute_reply": "2024-12-08T14:39:58.847136Z"
    },
    "papermill": {
     "duration": 1.614834,
     "end_time": "2024-12-08T14:39:58.850245",
     "exception": false,
     "start_time": "2024-12-08T14:39:57.235411",
     "status": "completed"
    },
    "tags": []
   },
   "outputs": [
    {
     "name": "stdout",
     "output_type": "stream",
     "text": [
      "Dimensions: 685917 rows, 23 columns\n",
      "Total NA's: 0\n",
      "There are no duplicates in this dataset!\n",
      "Column Name                            Data Type  Count Distinct  NA Values \n",
      "accountNumber                          object     4601            0         \n",
      "creditLimit                            float64    10              0         \n",
      "availableMoney                         float64    475773          0         \n",
      "transactionDateTime                    datetime64[ns] 678509          0         \n",
      "transactionAmount                      float64    63846           0         \n",
      "acqCountry                             object     4               0         \n",
      "merchantCountryCode                    object     4               0         \n",
      "posEntryMode                           object     5               0         \n",
      "posConditionCode                       object     3               0         \n",
      "merchantCategoryCode                   object     19              0         \n",
      "currentExpDate                         datetime64[ns] 165             0         \n",
      "accountOpenDate                        object     1752            0         \n",
      "dateOfLastAddressChange                datetime64[ns] 2115            0         \n",
      "cardCVV                                object     898             0         \n",
      "enteredCVV                             object     974             0         \n",
      "transactionType                        object     3               0         \n",
      "creditDebt                             float64    434828          0         \n",
      "cardPresent                            bool       2               0         \n",
      "expirationDateKeyInMatch               bool       2               0         \n",
      "isFraud                                bool       2               0         \n",
      "creditLimitRange                       object     4               0         \n",
      "cdrs_ratio                             float64    2141            0         \n",
      "cdrs_range                             category   7               0         \n"
     ]
    }
   ],
   "source": [
    "edaUtils.data_summary(df)"
   ]
  },
  {
   "cell_type": "markdown",
   "id": "5822c5b313c463ca",
   "metadata": {
    "papermill": {
     "duration": 0.017922,
     "end_time": "2024-12-08T14:39:58.892148",
     "exception": false,
     "start_time": "2024-12-08T14:39:58.874226",
     "status": "completed"
    },
    "tags": []
   },
   "source": [
    "### Creating a new feature (MATCH ENTERED CVV OR NOT)"
   ]
  },
  {
   "cell_type": "code",
   "execution_count": 34,
   "id": "ee5b957c7233fa45",
   "metadata": {
    "ExecuteTime": {
     "end_time": "2024-12-08T14:01:43.696193Z",
     "start_time": "2024-12-08T14:01:41.770244Z"
    },
    "execution": {
     "iopub.execute_input": "2024-12-08T14:39:58.938312Z",
     "iopub.status.busy": "2024-12-08T14:39:58.937272Z",
     "iopub.status.idle": "2024-12-08T14:40:01.963860Z",
     "shell.execute_reply": "2024-12-08T14:40:01.962762Z"
    },
    "papermill": {
     "duration": 3.049554,
     "end_time": "2024-12-08T14:40:01.966788",
     "exception": false,
     "start_time": "2024-12-08T14:39:58.917234",
     "status": "completed"
    },
    "tags": []
   },
   "outputs": [
    {
     "name": "stdout",
     "output_type": "stream",
     "text": [
      "Dimensions: 685917 rows, 22 columns\n",
      "Total NA's: 0\n",
      "There are no duplicates in this dataset!\n",
      "Column Name                            Data Type  Count Distinct  NA Values \n",
      "accountNumber                          object     4601            0         \n",
      "creditLimit                            float64    10              0         \n",
      "availableMoney                         float64    475773          0         \n",
      "transactionDateTime                    datetime64[ns] 678509          0         \n",
      "transactionAmount                      float64    63846           0         \n",
      "acqCountry                             object     4               0         \n",
      "merchantCountryCode                    object     4               0         \n",
      "posEntryMode                           object     5               0         \n",
      "posConditionCode                       object     3               0         \n",
      "merchantCategoryCode                   object     19              0         \n",
      "currentExpDate                         datetime64[ns] 165             0         \n",
      "accountOpenDate                        object     1752            0         \n",
      "dateOfLastAddressChange                datetime64[ns] 2115            0         \n",
      "transactionType                        object     3               0         \n",
      "creditDebt                             float64    434828          0         \n",
      "cardPresent                            bool       2               0         \n",
      "expirationDateKeyInMatch               bool       2               0         \n",
      "isFraud                                bool       2               0         \n",
      "creditLimitRange                       object     4               0         \n",
      "cdrs_ratio                             float64    2141            0         \n",
      "cdrs_range                             category   7               0         \n",
      "cvv_matched_status                     bool       2               0         \n"
     ]
    }
   ],
   "source": [
    "df['cvv_matched_status'] = [True if actual_cvv == entered_cvv else False for actual_cvv, entered_cvv in zip(df['cardCVV'], df['enteredCVV'])]\n",
    "df.drop(columns=['cardCVV', 'enteredCVV'], inplace=True)\n",
    "edaUtils.data_summary(df)"
   ]
  },
  {
   "cell_type": "markdown",
   "id": "20dc334667c059e2",
   "metadata": {
    "papermill": {
     "duration": 0.031003,
     "end_time": "2024-12-08T14:40:02.026135",
     "exception": false,
     "start_time": "2024-12-08T14:40:01.995132",
     "status": "completed"
    },
    "tags": []
   },
   "source": [
    "### Creating a new feature (Address change count)"
   ]
  },
  {
   "cell_type": "code",
   "execution_count": 35,
   "id": "a00121aa83655d4a",
   "metadata": {
    "ExecuteTime": {
     "end_time": "2024-12-08T14:01:46.675600Z",
     "start_time": "2024-12-08T14:01:46.669600Z"
    },
    "execution": {
     "iopub.execute_input": "2024-12-08T14:40:02.085698Z",
     "iopub.status.busy": "2024-12-08T14:40:02.084689Z",
     "iopub.status.idle": "2024-12-08T14:40:02.091675Z",
     "shell.execute_reply": "2024-12-08T14:40:02.091675Z"
    },
    "papermill": {
     "duration": 0.034457,
     "end_time": "2024-12-08T14:40:02.094047",
     "exception": false,
     "start_time": "2024-12-08T14:40:02.059590",
     "status": "completed"
    },
    "tags": []
   },
   "outputs": [],
   "source": [
    "def add_address_change_count_column(df):\n",
    "    \"\"\"\n",
    "    Adds a new column 'addressChangeCount' to the DataFrame with the number of address changes\n",
    "    per account up to the time of each transaction.\n",
    "\n",
    "    Parameters:\n",
    "    df (pd.DataFrame): The dataset containing transactions.\n",
    "\n",
    "    Returns:\n",
    "    pd.DataFrame: Updated DataFrame with the new 'addressChangeCount' column.\n",
    "    \"\"\"\n",
    "    # Convert columns with dates to datetime format\n",
    "    df['dateOfLastAddressChange'] = pd.to_datetime(df['dateOfLastAddressChange'])\n",
    "    df['transactionDateTime'] = pd.to_datetime(df['transactionDateTime'])\n",
    "\n",
    "    # Sort by accountNumber and transactionDateTime to ensure correct order\n",
    "    df = df.sort_values(by=['accountNumber', 'transactionDateTime'])\n",
    "\n",
    "    # Initialize a new column for address change count\n",
    "    df['addressChangeCount'] = 0\n",
    "\n",
    "    # Group by account number to process each account's transactions individually\n",
    "    for account, group in df.groupby('accountNumber'):\n",
    "        address_changes = 0\n",
    "        last_change_date = None\n",
    "\n",
    "        # Iterate through each transaction for the account\n",
    "        for idx, row in group.iterrows():\n",
    "            # Check if the current transaction date is after the last address change\n",
    "            if last_change_date is None or row['dateOfLastAddressChange'] > last_change_date:\n",
    "                address_changes += 1\n",
    "                last_change_date = row['dateOfLastAddressChange']\n",
    "\n",
    "            # Set the count of address changes up to the current transaction\n",
    "            df.at[idx, 'addressChangeCount'] = address_changes - 1\n",
    "\n",
    "    return df"
   ]
  },
  {
   "cell_type": "code",
   "execution_count": 36,
   "id": "ac3cef2b639256d0",
   "metadata": {
    "ExecuteTime": {
     "end_time": "2024-12-08T14:02:26.116391Z",
     "start_time": "2024-12-08T14:01:49.002408Z"
    },
    "execution": {
     "iopub.execute_input": "2024-12-08T14:40:02.156269Z",
     "iopub.status.busy": "2024-12-08T14:40:02.155272Z",
     "iopub.status.idle": "2024-12-08T14:40:58.744823Z",
     "shell.execute_reply": "2024-12-08T14:40:58.744823Z"
    },
    "papermill": {
     "duration": 56.626867,
     "end_time": "2024-12-08T14:40:58.747917",
     "exception": false,
     "start_time": "2024-12-08T14:40:02.121050",
     "status": "completed"
    },
    "tags": []
   },
   "outputs": [
    {
     "name": "stdout",
     "output_type": "stream",
     "text": [
      "Processing add_address_change_count_column...\n"
     ]
    }
   ],
   "source": [
    "df = stage_data_io_service.run_or_load_snapshot_data('add_address_change_count_column', add_address_change_count_column, df, recreate_snapshot=False)"
   ]
  },
  {
   "cell_type": "code",
   "execution_count": 37,
   "id": "4e6f3cdaaefd980b",
   "metadata": {
    "ExecuteTime": {
     "end_time": "2024-12-08T14:02:52.529172Z",
     "start_time": "2024-12-08T14:02:50.871175Z"
    },
    "execution": {
     "iopub.execute_input": "2024-12-08T14:40:58.794473Z",
     "iopub.status.busy": "2024-12-08T14:40:58.794473Z",
     "iopub.status.idle": "2024-12-08T14:41:00.210473Z",
     "shell.execute_reply": "2024-12-08T14:41:00.210473Z"
    },
    "papermill": {
     "duration": 1.440192,
     "end_time": "2024-12-08T14:41:00.213583",
     "exception": false,
     "start_time": "2024-12-08T14:40:58.773391",
     "status": "completed"
    },
    "tags": []
   },
   "outputs": [
    {
     "name": "stdout",
     "output_type": "stream",
     "text": [
      "Dimensions: 685917 rows, 23 columns\n",
      "Total NA's: 0\n",
      "There are no duplicates in this dataset!\n",
      "Column Name                            Data Type  Count Distinct  NA Values \n",
      "accountNumber                          object     4601            0         \n",
      "creditLimit                            float64    10              0         \n",
      "availableMoney                         float64    475773          0         \n",
      "transactionDateTime                    datetime64[ns] 678509          0         \n",
      "transactionAmount                      float64    63846           0         \n",
      "acqCountry                             object     4               0         \n",
      "merchantCountryCode                    object     4               0         \n",
      "posEntryMode                           object     5               0         \n",
      "posConditionCode                       object     3               0         \n",
      "merchantCategoryCode                   object     19              0         \n",
      "currentExpDate                         datetime64[ns] 165             0         \n",
      "accountOpenDate                        object     1752            0         \n",
      "dateOfLastAddressChange                datetime64[ns] 2115            0         \n",
      "transactionType                        object     3               0         \n",
      "creditDebt                             float64    434828          0         \n",
      "cardPresent                            bool       2               0         \n",
      "expirationDateKeyInMatch               bool       2               0         \n",
      "isFraud                                bool       2               0         \n",
      "creditLimitRange                       object     4               0         \n",
      "cdrs_ratio                             float64    2141            0         \n",
      "cdrs_range                             category   7               0         \n",
      "cvv_matched_status                     bool       2               0         \n",
      "addressChangeCount                     int64      43              0         \n"
     ]
    }
   ],
   "source": [
    "edaUtils.data_summary(df)"
   ]
  },
  {
   "cell_type": "markdown",
   "id": "502a4018030135a1",
   "metadata": {
    "papermill": {
     "duration": 0.023428,
     "end_time": "2024-12-08T14:41:00.258713",
     "exception": false,
     "start_time": "2024-12-08T14:41:00.235285",
     "status": "completed"
    },
    "tags": []
   },
   "source": [
    "### Creating a new feature (Suspicious transaction flag)"
   ]
  },
  {
   "cell_type": "code",
   "execution_count": 38,
   "id": "980e9ca9d0463ace",
   "metadata": {
    "ExecuteTime": {
     "end_time": "2024-12-08T14:02:55.120601Z",
     "start_time": "2024-12-08T14:02:55.116009Z"
    },
    "execution": {
     "iopub.execute_input": "2024-12-08T14:41:00.297726Z",
     "iopub.status.busy": "2024-12-08T14:41:00.297726Z",
     "iopub.status.idle": "2024-12-08T14:41:00.303516Z",
     "shell.execute_reply": "2024-12-08T14:41:00.302502Z"
    },
    "papermill": {
     "duration": 0.028796,
     "end_time": "2024-12-08T14:41:00.305510",
     "exception": false,
     "start_time": "2024-12-08T14:41:00.276714",
     "status": "completed"
    },
    "tags": []
   },
   "outputs": [],
   "source": [
    "def find_suspicious_transactions(df, time_threshold_milliseconds):\n",
    "    \"\"\"\n",
    "    Identify suspicious transactions within a specified time threshold.\n",
    "\n",
    "    Parameters:\n",
    "    df (pd.DataFrame): The transaction dataset, which includes 'accountNumber', 'transactionDateTime', and 'transactionAmount'.\n",
    "    time_threshold_milliseconds (int): The time window in milliseconds within which multiple transactions of the same amount are flagged as suspicious.\n",
    "\n",
    "    Returns:\n",
    "    pd.DataFrame: The original DataFrame with an additional 'is_suspicious' column.\n",
    "    \"\"\"\n",
    "    # Sort by 'accountNumber' and 'transactionDateTime' to arrange transactions chronologically by account\n",
    "    df = df.sort_values(['accountNumber', 'transactionDateTime']).reset_index(drop=True)\n",
    "    \n",
    "    # Check for duplicate transaction amounts for each account using `transform` to maintain DataFrame shape\n",
    "    is_duplicate_amount = df.groupby('accountNumber')['transactionAmount'].transform(lambda x: x.duplicated())\n",
    "    \n",
    "    # Calculate time difference between consecutive transactions for each account in milliseconds\n",
    "    is_within_time_threshold = df.groupby('accountNumber')['transactionDateTime'].diff() <= pd.Timedelta(time_threshold_milliseconds, unit='milliseconds')\n",
    "    \n",
    "    # Combine conditions: duplicate amount and time difference within threshold\n",
    "    df[\"is_suspicious\"] = is_duplicate_amount & is_within_time_threshold\n",
    "    \n",
    "    return df"
   ]
  },
  {
   "cell_type": "code",
   "execution_count": 39,
   "id": "362cb80a4d953c88",
   "metadata": {
    "ExecuteTime": {
     "end_time": "2024-12-08T14:02:59.931828Z",
     "start_time": "2024-12-08T14:02:57.291754Z"
    },
    "execution": {
     "iopub.execute_input": "2024-12-08T14:41:00.348131Z",
     "iopub.status.busy": "2024-12-08T14:41:00.348131Z",
     "iopub.status.idle": "2024-12-08T14:41:02.917295Z",
     "shell.execute_reply": "2024-12-08T14:41:02.916181Z"
    },
    "papermill": {
     "duration": 2.59317,
     "end_time": "2024-12-08T14:41:02.918276",
     "exception": false,
     "start_time": "2024-12-08T14:41:00.325106",
     "status": "completed"
    },
    "tags": []
   },
   "outputs": [
    {
     "name": "stdout",
     "output_type": "stream",
     "text": [
      "Total number of suspicious transactions: 12325\n",
      "Total transaction amount of suspicious transactions: 1722028.56$\n"
     ]
    },
    {
     "name": "stdout",
     "output_type": "stream",
     "text": [
      "Dimensions: 685917 rows, 24 columns\n",
      "Total NA's: 0\n",
      "There are no duplicates in this dataset!\n",
      "Column Name                            Data Type  Count Distinct  NA Values \n",
      "accountNumber                          object     4601            0         \n",
      "creditLimit                            float64    10              0         \n",
      "availableMoney                         float64    475773          0         \n",
      "transactionDateTime                    datetime64[ns] 678509          0         \n",
      "transactionAmount                      float64    63846           0         \n",
      "acqCountry                             object     4               0         \n",
      "merchantCountryCode                    object     4               0         \n",
      "posEntryMode                           object     5               0         \n",
      "posConditionCode                       object     3               0         \n",
      "merchantCategoryCode                   object     19              0         \n",
      "currentExpDate                         datetime64[ns] 165             0         \n",
      "accountOpenDate                        object     1752            0         \n",
      "dateOfLastAddressChange                datetime64[ns] 2115            0         \n",
      "transactionType                        object     3               0         \n",
      "creditDebt                             float64    434828          0         \n",
      "cardPresent                            bool       2               0         \n",
      "expirationDateKeyInMatch               bool       2               0         \n",
      "isFraud                                bool       2               0         \n",
      "creditLimitRange                       object     4               0         \n",
      "cdrs_ratio                             float64    2141            0         \n",
      "cdrs_range                             category   7               0         \n",
      "cvv_matched_status                     bool       2               0         \n",
      "addressChangeCount                     int64      43              0         \n",
      "is_suspicious                          bool       2               0         \n"
     ]
    }
   ],
   "source": [
    "df = find_suspicious_transactions(df, time_threshold_milliseconds=3 * 60 * 1000)\n",
    "suspicious_df = df[df['is_suspicious'] == True]\n",
    "\n",
    "print(\"Total number of suspicious transactions: {}\".format(suspicious_df.shape[0]))\n",
    "print(\"Total transaction amount of suspicious transactions: {}$\".format(round(suspicious_df['transactionAmount'].sum(), 2)))\n",
    "edaUtils.data_summary(df)"
   ]
  },
  {
   "cell_type": "markdown",
   "id": "c02c6de558519d04",
   "metadata": {
    "papermill": {
     "duration": 0.019002,
     "end_time": "2024-12-08T14:41:02.967448",
     "exception": false,
     "start_time": "2024-12-08T14:41:02.948446",
     "status": "completed"
    },
    "tags": []
   },
   "source": [
    "## Preparing df for Model building"
   ]
  },
  {
   "cell_type": "markdown",
   "id": "27b37bec47219537",
   "metadata": {
    "papermill": {
     "duration": 0.018071,
     "end_time": "2024-12-08T14:41:03.008607",
     "exception": false,
     "start_time": "2024-12-08T14:41:02.990536",
     "status": "completed"
    },
    "tags": []
   },
   "source": [
    "### Select necessary features for model"
   ]
  },
  {
   "cell_type": "code",
   "execution_count": 40,
   "id": "46d5309e1184575e",
   "metadata": {
    "ExecuteTime": {
     "end_time": "2024-12-08T14:03:02.912477Z",
     "start_time": "2024-12-08T14:03:02.854859Z"
    },
    "execution": {
     "iopub.execute_input": "2024-12-08T14:41:03.050466Z",
     "iopub.status.busy": "2024-12-08T14:41:03.049470Z",
     "iopub.status.idle": "2024-12-08T14:41:03.119425Z",
     "shell.execute_reply": "2024-12-08T14:41:03.119056Z"
    },
    "papermill": {
     "duration": 0.093535,
     "end_time": "2024-12-08T14:41:03.121088",
     "exception": false,
     "start_time": "2024-12-08T14:41:03.027553",
     "status": "completed"
    },
    "tags": []
   },
   "outputs": [
    {
     "data": {
      "text/plain": [
       "Index(['creditLimit', 'availableMoney', 'transactionAmount', 'acqCountry',\n",
       "       'merchantCountryCode', 'posEntryMode', 'posConditionCode',\n",
       "       'merchantCategoryCode', 'transactionType', 'creditDebt', 'cardPresent',\n",
       "       'expirationDateKeyInMatch', 'isFraud', 'creditLimitRange', 'cdrs_ratio',\n",
       "       'cdrs_range', 'cvv_matched_status', 'addressChangeCount',\n",
       "       'is_suspicious'],\n",
       "      dtype='object')"
      ]
     },
     "execution_count": 40,
     "metadata": {},
     "output_type": "execute_result"
    }
   ],
   "source": [
    "fraud_modelling_df = df.drop(columns=[\n",
    "    'accountNumber',\n",
    "    'transactionDateTime',\n",
    "    'currentExpDate',\n",
    "    'accountOpenDate',\n",
    "    'dateOfLastAddressChange'\n",
    "])\n",
    "fraud_modelling_df.columns"
   ]
  },
  {
   "cell_type": "markdown",
   "id": "209bddde2bca0f3c",
   "metadata": {
    "papermill": {
     "duration": 0.037583,
     "end_time": "2024-12-08T14:41:03.178671",
     "exception": false,
     "start_time": "2024-12-08T14:41:03.141088",
     "status": "completed"
    },
    "tags": []
   },
   "source": [
    "### Encode categorical features"
   ]
  },
  {
   "cell_type": "code",
   "execution_count": 41,
   "id": "44891f303eeaa80",
   "metadata": {
    "ExecuteTime": {
     "end_time": "2024-12-08T14:03:08.164265Z",
     "start_time": "2024-12-08T14:03:05.985713Z"
    },
    "execution": {
     "iopub.execute_input": "2024-12-08T14:41:03.223290Z",
     "iopub.status.busy": "2024-12-08T14:41:03.223290Z",
     "iopub.status.idle": "2024-12-08T14:41:05.126714Z",
     "shell.execute_reply": "2024-12-08T14:41:05.126209Z"
    },
    "papermill": {
     "duration": 1.926048,
     "end_time": "2024-12-08T14:41:05.128720",
     "exception": false,
     "start_time": "2024-12-08T14:41:03.202672",
     "status": "completed"
    },
    "tags": []
   },
   "outputs": [],
   "source": [
    "fraud_modelling_df, encoders = dtUtils.encode_categorical_columns(fraud_modelling_df, [\n",
    "    'acqCountry', 'merchantCountryCode', 'posEntryMode', 'posConditionCode', 'merchantCategoryCode', 'transactionType', 'creditLimitRange', 'cdrs_range'\n",
    "])"
   ]
  },
  {
   "cell_type": "markdown",
   "id": "e39ca3fb82a30ad2",
   "metadata": {
    "papermill": {
     "duration": 0.028092,
     "end_time": "2024-12-08T14:41:05.182811",
     "exception": false,
     "start_time": "2024-12-08T14:41:05.154719",
     "status": "completed"
    },
    "tags": []
   },
   "source": [
    "### Transform boolean features to numeric"
   ]
  },
  {
   "cell_type": "code",
   "execution_count": 42,
   "id": "77d6eaa7193fb3ff",
   "metadata": {
    "ExecuteTime": {
     "end_time": "2024-12-08T14:03:10.937208Z",
     "start_time": "2024-12-08T14:03:10.925041Z"
    },
    "execution": {
     "iopub.execute_input": "2024-12-08T14:41:05.250204Z",
     "iopub.status.busy": "2024-12-08T14:41:05.248891Z",
     "iopub.status.idle": "2024-12-08T14:41:05.263834Z",
     "shell.execute_reply": "2024-12-08T14:41:05.262827Z"
    },
    "papermill": {
     "duration": 0.052779,
     "end_time": "2024-12-08T14:41:05.265833",
     "exception": false,
     "start_time": "2024-12-08T14:41:05.213054",
     "status": "completed"
    },
    "tags": []
   },
   "outputs": [],
   "source": [
    "fraud_modelling_df = dtUtils.convert_bool_columns_to_int(fraud_modelling_df, ['cardPresent', 'expirationDateKeyInMatch', 'isFraud', 'cvv_matched_status', 'is_suspicious'])"
   ]
  },
  {
   "cell_type": "markdown",
   "id": "59b27f637b535fe1",
   "metadata": {
    "papermill": {
     "duration": 0.035701,
     "end_time": "2024-12-08T14:41:05.336033",
     "exception": false,
     "start_time": "2024-12-08T14:41:05.300332",
     "status": "completed"
    },
    "tags": []
   },
   "source": [
    "### Split the data in such a way that both the training and test sets include the number of records with the `isFraud=True` flag, corresponding to the `test_size` coefficient"
   ]
  },
  {
   "cell_type": "code",
   "execution_count": 43,
   "id": "1b055c1366d9e10e",
   "metadata": {
    "ExecuteTime": {
     "end_time": "2024-12-08T14:03:13.372726Z",
     "start_time": "2024-12-08T14:03:13.367844Z"
    },
    "execution": {
     "iopub.execute_input": "2024-12-08T14:41:05.413678Z",
     "iopub.status.busy": "2024-12-08T14:41:05.413678Z",
     "iopub.status.idle": "2024-12-08T14:41:05.423181Z",
     "shell.execute_reply": "2024-12-08T14:41:05.421666Z"
    },
    "papermill": {
     "duration": 0.049547,
     "end_time": "2024-12-08T14:41:05.425202",
     "exception": false,
     "start_time": "2024-12-08T14:41:05.375655",
     "status": "completed"
    },
    "tags": []
   },
   "outputs": [],
   "source": [
    "def custom_train_test_split(data, target_column, test_size=0.2, random_state=None):\n",
    "    # Separate fraud and non-fraud cases\n",
    "    fraud_data = data[data[target_column] == True]\n",
    "    non_fraud_data = data[data[target_column] == False]\n",
    "    \n",
    "    # Split fraud cases equally between train and test\n",
    "    fraud_train, fraud_test = train_test_split(\n",
    "        fraud_data, \n",
    "        test_size=test_size, \n",
    "        random_state=random_state\n",
    "    )\n",
    "    \n",
    "    # Split non-fraud cases randomly based on test_size\n",
    "    non_fraud_train, non_fraud_test = train_test_split(\n",
    "        non_fraud_data, \n",
    "        test_size=test_size, \n",
    "        random_state=random_state\n",
    "    )\n",
    "    \n",
    "    # Combine train and test splits\n",
    "    train_data = pd.concat([fraud_train, non_fraud_train]).sample(frac=1, random_state=random_state)\n",
    "    test_data = pd.concat([fraud_test, non_fraud_test]).sample(frac=1, random_state=random_state)\n",
    "    \n",
    "    # Separate features and target\n",
    "    X_train = train_data.drop(columns=[target_column])\n",
    "    y_train = train_data[target_column]\n",
    "    X_test = test_data.drop(columns=[target_column])\n",
    "    y_test = test_data[target_column]\n",
    "    \n",
    "    return X_train, X_test, y_train, y_test"
   ]
  },
  {
   "cell_type": "code",
   "execution_count": 44,
   "id": "50906cbc622f4ed",
   "metadata": {
    "ExecuteTime": {
     "end_time": "2024-12-08T14:03:22.884162Z",
     "start_time": "2024-12-08T14:03:22.511471Z"
    },
    "execution": {
     "iopub.execute_input": "2024-12-08T14:41:05.500207Z",
     "iopub.status.busy": "2024-12-08T14:41:05.499208Z",
     "iopub.status.idle": "2024-12-08T14:41:06.085735Z",
     "shell.execute_reply": "2024-12-08T14:41:06.084447Z"
    },
    "papermill": {
     "duration": 0.622244,
     "end_time": "2024-12-08T14:41:06.087750",
     "exception": false,
     "start_time": "2024-12-08T14:41:05.465506",
     "status": "completed"
    },
    "tags": []
   },
   "outputs": [
    {
     "name": "stdout",
     "output_type": "stream",
     "text": [
      "Train size: 548733 (Fraud count: 8495)\n",
      "Test size: 137184 (Fraud count: 2124)\n"
     ]
    }
   ],
   "source": [
    "X_train, X_test, Y_train, Y_test = custom_train_test_split(fraud_modelling_df, target_column=\"isFraud\", test_size=0.2, random_state=42)\n",
    "\n",
    "print(f\"Train size: {len(X_train)} (Fraud count: {sum(Y_train)})\")\n",
    "print(f\"Test size: {len(X_test)} (Fraud count: {sum(Y_test)})\")"
   ]
  },
  {
   "cell_type": "markdown",
   "id": "93944fef992ba2eb",
   "metadata": {
    "papermill": {
     "duration": 0.036515,
     "end_time": "2024-12-08T14:41:06.158394",
     "exception": false,
     "start_time": "2024-12-08T14:41:06.121879",
     "status": "completed"
    },
    "tags": []
   },
   "source": [
    "### Check train dataset fraud distribution"
   ]
  },
  {
   "cell_type": "code",
   "execution_count": 45,
   "id": "d50b9334ed99b31e",
   "metadata": {
    "ExecuteTime": {
     "end_time": "2024-12-08T14:03:27.050329Z",
     "start_time": "2024-12-08T14:03:26.904540Z"
    },
    "execution": {
     "iopub.execute_input": "2024-12-08T14:41:06.223488Z",
     "iopub.status.busy": "2024-12-08T14:41:06.222485Z",
     "iopub.status.idle": "2024-12-08T14:41:06.414467Z",
     "shell.execute_reply": "2024-12-08T14:41:06.413456Z"
    },
    "papermill": {
     "duration": 0.225098,
     "end_time": "2024-12-08T14:41:06.416572",
     "exception": false,
     "start_time": "2024-12-08T14:41:06.191474",
     "status": "completed"
    },
    "tags": []
   },
   "outputs": [
    {
     "data": {
      "image/png": "[encoded data removed]",
      "text/plain": [
       "<Figure size 1000x600 with 1 Axes>"
      ]
     },
     "metadata": {},
     "output_type": "display_data"
    }
   ],
   "source": [
    "pltUtils.plot_barplot_distribution(Y_train, 'Transaction Count by isFraud Value (without sampling)')"
   ]
  },
  {
   "cell_type": "markdown",
   "id": "42f8c9262c3ab070",
   "metadata": {
    "papermill": {
     "duration": 0.036998,
     "end_time": "2024-12-08T14:41:06.487534",
     "exception": false,
     "start_time": "2024-12-08T14:41:06.450536",
     "status": "completed"
    },
    "tags": []
   },
   "source": [
    "### Apply the undersampling technique on the training dataset"
   ]
  },
  {
   "cell_type": "code",
   "execution_count": 46,
   "id": "63f4aeacffd10fd",
   "metadata": {
    "ExecuteTime": {
     "end_time": "2024-12-08T14:03:30.903116Z",
     "start_time": "2024-12-08T14:03:30.811346Z"
    },
    "execution": {
     "iopub.execute_input": "2024-12-08T14:41:06.538678Z",
     "iopub.status.busy": "2024-12-08T14:41:06.538678Z",
     "iopub.status.idle": "2024-12-08T14:41:06.642870Z",
     "shell.execute_reply": "2024-12-08T14:41:06.641863Z"
    },
    "papermill": {
     "duration": 0.130853,
     "end_time": "2024-12-08T14:41:06.643869",
     "exception": false,
     "start_time": "2024-12-08T14:41:06.513016",
     "status": "completed"
    },
    "tags": []
   },
   "outputs": [],
   "source": [
    "X_train, Y_train = dtUtils.sample_features_target(X_train, Y_train, method='undersample')"
   ]
  },
  {
   "cell_type": "markdown",
   "id": "8f20b9f4569cfaf4",
   "metadata": {
    "papermill": {
     "duration": 0.040924,
     "end_time": "2024-12-08T14:41:06.715876",
     "exception": false,
     "start_time": "2024-12-08T14:41:06.674952",
     "status": "completed"
    },
    "tags": []
   },
   "source": [
    "### Check train dataset fraud distribution after undersampling"
   ]
  },
  {
   "cell_type": "code",
   "execution_count": 47,
   "id": "aae04f1c6dc2ea80",
   "metadata": {
    "ExecuteTime": {
     "end_time": "2024-12-08T14:03:34.079053Z",
     "start_time": "2024-12-08T14:03:33.921508Z"
    },
    "execution": {
     "iopub.execute_input": "2024-12-08T14:41:06.770593Z",
     "iopub.status.busy": "2024-12-08T14:41:06.770593Z",
     "iopub.status.idle": "2024-12-08T14:41:06.936493Z",
     "shell.execute_reply": "2024-12-08T14:41:06.935372Z"
    },
    "papermill": {
     "duration": 0.199307,
     "end_time": "2024-12-08T14:41:06.938497",
     "exception": false,
     "start_time": "2024-12-08T14:41:06.739190",
     "status": "completed"
    },
    "tags": []
   },
   "outputs": [
    {
     "data": {
      "image/png": "[encoded data removed]",
      "text/plain": [
       "<Figure size 1000x600 with 1 Axes>"
      ]
     },
     "metadata": {},
     "output_type": "display_data"
    }
   ],
   "source": [
    "pltUtils.plot_barplot_distribution(Y_train, 'Transaction Count by isFraud Value (after undersampling)')"
   ]
  },
  {
   "cell_type": "markdown",
   "id": "cac192181a56684c",
   "metadata": {
    "papermill": {
     "duration": 0.024008,
     "end_time": "2024-12-08T14:41:06.993474",
     "exception": false,
     "start_time": "2024-12-08T14:41:06.969466",
     "status": "completed"
    },
    "tags": []
   },
   "source": [
    "## Save stage data and pass full prepared datasets to next modeling stage"
   ]
  },
  {
   "cell_type": "code",
   "execution_count": 48,
   "id": "6840eb8805b0193c",
   "metadata": {
    "ExecuteTime": {
     "end_time": "2024-12-08T14:03:37.565311Z",
     "start_time": "2024-12-08T14:03:37.548788Z"
    },
    "execution": {
     "iopub.execute_input": "2024-12-08T14:41:07.039156Z",
     "iopub.status.busy": "2024-12-08T14:41:07.039156Z",
     "iopub.status.idle": "2024-12-08T14:41:07.059079Z",
     "shell.execute_reply": "2024-12-08T14:41:07.058347Z"
    },
    "papermill": {
     "duration": 0.043635,
     "end_time": "2024-12-08T14:41:07.060176",
     "exception": false,
     "start_time": "2024-12-08T14:41:07.016541",
     "status": "completed"
    },
    "tags": []
   },
   "outputs": [],
   "source": [
    "stage_data_io_service.write_stage_data(X_train, X_test, Y_train, Y_test)"
   ]
  },
  {
   "cell_type": "code",
   "execution_count": null,
   "id": "7770ae8fff6a5650",
   "metadata": {
    "papermill": {
     "duration": 0.035068,
     "end_time": "2024-12-08T14:41:07.118194",
     "exception": false,
     "start_time": "2024-12-08T14:41:07.083126",
     "status": "completed"
    },
    "tags": []
   },
   "outputs": [],
   "source": []
  }
 ],
 "metadata": {
  "kernelspec": {
   "display_name": "Python 3",
   "language": "python",
   "name": "python3"
  },
  "language_info": {
   "codemirror_mode": {
    "name": "ipython",
    "version": 3
   },
   "file_extension": ".py",
   "mimetype": "text/x-python",
   "name": "python",
   "nbconvert_exporter": "python",
   "pygments_lexer": "ipython3",
   "version": "3.12.4"
  },
  "papermill": {
   "default_parameters": {},
   "duration": 711.435221,
   "end_time": "2024-12-08T14:41:07.723113",
   "environment_variables": {},
   "exception": null,
   "input_path": "../../model/stages/3_feature_engineering.ipynb",
   "output_path": "../../model/stages/3_feature_engineering.ipynb",
   "parameters": {},
   "start_time": "2024-12-08T14:29:16.287892",
   "version": "2.6.0"
  },
  "widgets": {
   "application/vnd.jupyter.widget-state+json": {
    "state": {
     "06ba9bece68049d1ac0b63e952a70430": {
      "model_module": "@jupyter-widgets/base",
      "model_module_version": "1.2.0",
      "model_name": "LayoutModel",
      "state": {
       "_model_module": "@jupyter-widgets/base",
       "_model_module_version": "1.2.0",
       "_model_name": "LayoutModel",
       "_view_count": null,
       "_view_module": "@jupyter-widgets/base",
       "_view_module_version": "1.2.0",
       "_view_name": "LayoutView",
       "align_content": null,
       "align_items": null,
       "align_self": null,
       "border": null,
       "bottom": null,
       "display": null,
       "flex": null,
       "flex_flow": null,
       "grid_area": null,
       "grid_auto_columns": null,
       "grid_auto_flow": null,
       "grid_auto_rows": null,
       "grid_column": null,
       "grid_gap": null,
       "grid_row": null,
       "grid_template_areas": null,
       "grid_template_columns": null,
       "grid_template_rows": null,
       "height": null,
       "justify_content": null,
       "justify_items": null,
       "left": null,
       "margin": null,
       "max_height": null,
       "max_width": null,
       "min_height": null,
       "min_width": null,
       "object_fit": null,
       "object_position": null,
       "order": null,
       "overflow": null,
       "overflow_x": null,
       "overflow_y": null,
       "padding": null,
       "right": null,
       "top": null,
       "visibility": null,
       "width": null
      }
     },
     "2279d5b82c6c41179fc4ad2a9451f5ec": {
      "model_module": "@jupyter-widgets/controls",
      "model_module_version": "1.5.0",
      "model_name": "FloatProgressModel",
      "state": {
       "_dom_classes": [],
       "_model_module": "@jupyter-widgets/controls",
       "_model_module_version": "1.5.0",
       "_model_name": "FloatProgressModel",
       "_view_count": null,
       "_view_module": "@jupyter-widgets/controls",
       "_view_module_version": "1.5.0",
       "_view_name": "ProgressView",
       "bar_style": "success",
       "description": "",
       "description_tooltip": null,
       "layout": "IPY_MODEL_ecb738f9f02548c4909fc5444f9d878c",
       "max": 15.0,
       "min": 0.0,
       "orientation": "horizontal",
       "style": "IPY_MODEL_89f88d0c8e23434884a72db7f6625eab",
       "value": 15.0
      }
     },
     "34566f6d54e540e8ad384f1a4f4a9b1c": {
      "model_module": "@jupyter-widgets/controls",
      "model_module_version": "1.5.0",
      "model_name": "DescriptionStyleModel",
      "state": {
       "_model_module": "@jupyter-widgets/controls",
       "_model_module_version": "1.5.0",
       "_model_name": "DescriptionStyleModel",
       "_view_count": null,
       "_view_module": "@jupyter-widgets/base",
       "_view_module_version": "1.2.0",
       "_view_name": "StyleView",
       "description_width": ""
      }
     },
     "6fa8ebc841154933a72b263aaca129c4": {
      "model_module": "@jupyter-widgets/base",
      "model_module_version": "1.2.0",
      "model_name": "LayoutModel",
      "state": {
       "_model_module": "@jupyter-widgets/base",
       "_model_module_version": "1.2.0",
       "_model_name": "LayoutModel",
       "_view_count": null,
       "_view_module": "@jupyter-widgets/base",
       "_view_module_version": "1.2.0",
       "_view_name": "LayoutView",
       "align_content": null,
       "align_items": null,
       "align_self": null,
       "border": null,
       "bottom": null,
       "display": null,
       "flex": null,
       "flex_flow": null,
       "grid_area": null,
       "grid_auto_columns": null,
       "grid_auto_flow": null,
       "grid_auto_rows": null,
       "grid_column": null,
       "grid_gap": null,
       "grid_row": null,
       "grid_template_areas": null,
       "grid_template_columns": null,
       "grid_template_rows": null,
       "height": null,
       "justify_content": null,
       "justify_items": null,
       "left": null,
       "margin": null,
       "max_height": null,
       "max_width": null,
       "min_height": null,
       "min_width": null,
       "object_fit": null,
       "object_position": null,
       "order": null,
       "overflow": null,
       "overflow_x": null,
       "overflow_y": null,
       "padding": null,
       "right": null,
       "top": null,
       "visibility": null,
       "width": null
      }
     },
     "7b0f0dd326ab49408cb60c5272f424f7": {
      "model_module": "@jupyter-widgets/controls",
      "model_module_version": "1.5.0",
      "model_name": "DescriptionStyleModel",
      "state": {
       "_model_module": "@jupyter-widgets/controls",
       "_model_module_version": "1.5.0",
       "_model_name": "DescriptionStyleModel",
       "_view_count": null,
       "_view_module": "@jupyter-widgets/base",
       "_view_module_version": "1.2.0",
       "_view_name": "StyleView",
       "description_width": ""
      }
     },
     "89f88d0c8e23434884a72db7f6625eab": {
      "model_module": "@jupyter-widgets/controls",
      "model_module_version": "1.5.0",
      "model_name": "ProgressStyleModel",
      "state": {
       "_model_module": "@jupyter-widgets/controls",
       "_model_module_version": "1.5.0",
       "_model_name": "ProgressStyleModel",
       "_view_count": null,
       "_view_module": "@jupyter-widgets/base",
       "_view_module_version": "1.2.0",
       "_view_name": "StyleView",
       "bar_color": null,
       "description_width": ""
      }
     },
     "9379d52081434d7d8cca0c9e6b729a40": {
      "model_module": "@jupyter-widgets/controls",
      "model_module_version": "1.5.0",
      "model_name": "HTMLModel",
      "state": {
       "_dom_classes": [],
       "_model_module": "@jupyter-widgets/controls",
       "_model_module_version": "1.5.0",
       "_model_name": "HTMLModel",
       "_view_count": null,
       "_view_module": "@jupyter-widgets/controls",
       "_view_module_version": "1.5.0",
       "_view_name": "HTMLView",
       "description": "",
       "description_tooltip": null,
       "layout": "IPY_MODEL_6fa8ebc841154933a72b263aaca129c4",
       "placeholder": "​",
       "style": "IPY_MODEL_34566f6d54e540e8ad384f1a4f4a9b1c",
       "value": " 15/15 [04:28&lt;00:00, 25.57s/cell]"
      }
     },
     "a5522e9fc409429893693d88d2f40d7b": {
      "model_module": "@jupyter-widgets/controls",
      "model_module_version": "1.5.0",
      "model_name": "HTMLModel",
      "state": {
       "_dom_classes": [],
       "_model_module": "@jupyter-widgets/controls",
       "_model_module_version": "1.5.0",
       "_model_name": "HTMLModel",
       "_view_count": null,
       "_view_module": "@jupyter-widgets/controls",
       "_view_module_version": "1.5.0",
       "_view_name": "HTMLView",
       "description": "",
       "description_tooltip": null,
       "layout": "IPY_MODEL_06ba9bece68049d1ac0b63e952a70430",
       "placeholder": "​",
       "style": "IPY_MODEL_7b0f0dd326ab49408cb60c5272f424f7",
       "value": "Executing: 100%"
      }
     },
     "eb0d227a1a3f46a2b4fd494bf18340fb": {
      "model_module": "@jupyter-widgets/base",
      "model_module_version": "1.2.0",
      "model_name": "LayoutModel",
      "state": {
       "_model_module": "@jupyter-widgets/base",
       "_model_module_version": "1.2.0",
       "_model_name": "LayoutModel",
       "_view_count": null,
       "_view_module": "@jupyter-widgets/base",
       "_view_module_version": "1.2.0",
       "_view_name": "LayoutView",
       "align_content": null,
       "align_items": null,
       "align_self": null,
       "border": null,
       "bottom": null,
       "display": null,
       "flex": null,
       "flex_flow": null,
       "grid_area": null,
       "grid_auto_columns": null,
       "grid_auto_flow": null,
       "grid_auto_rows": null,
       "grid_column": null,
       "grid_gap": null,
       "grid_row": null,
       "grid_template_areas": null,
       "grid_template_columns": null,
       "grid_template_rows": null,
       "height": null,
       "justify_content": null,
       "justify_items": null,
       "left": null,
       "margin": null,
       "max_height": null,
       "max_width": null,
       "min_height": null,
       "min_width": null,
       "object_fit": null,
       "object_position": null,
       "order": null,
       "overflow": null,
       "overflow_x": null,
       "overflow_y": null,
       "padding": null,
       "right": null,
       "top": null,
       "visibility": null,
       "width": null
      }
     },
     "ecb738f9f02548c4909fc5444f9d878c": {
      "model_module": "@jupyter-widgets/base",
      "model_module_version": "1.2.0",
      "model_name": "LayoutModel",
      "state": {
       "_model_module": "@jupyter-widgets/base",
       "_model_module_version": "1.2.0",
       "_model_name": "LayoutModel",
       "_view_count": null,
       "_view_module": "@jupyter-widgets/base",
       "_view_module_version": "1.2.0",
       "_view_name": "LayoutView",
       "align_content": null,
       "align_items": null,
       "align_self": null,
       "border": null,
       "bottom": null,
       "display": null,
       "flex": null,
       "flex_flow": null,
       "grid_area": null,
       "grid_auto_columns": null,
       "grid_auto_flow": null,
       "grid_auto_rows": null,
       "grid_column": null,
       "grid_gap": null,
       "grid_row": null,
       "grid_template_areas": null,
       "grid_template_columns": null,
       "grid_template_rows": null,
       "height": null,
       "justify_content": null,
       "justify_items": null,
       "left": null,
       "margin": null,
       "max_height": null,
       "max_width": null,
       "min_height": null,
       "min_width": null,
       "object_fit": null,
       "object_position": null,
       "order": null,
       "overflow": null,
       "overflow_x": null,
       "overflow_y": null,
       "padding": null,
       "right": null,
       "top": null,
       "visibility": null,
       "width": null
      }
     },
     "f683506f807545b3b9fd1f74e740d3c7": {
      "model_module": "@jupyter-widgets/controls",
      "model_module_version": "1.5.0",
      "model_name": "HBoxModel",
      "state": {
       "_dom_classes": [],
       "_model_module": "@jupyter-widgets/controls",
       "_model_module_version": "1.5.0",
       "_model_name": "HBoxModel",
       "_view_count": null,
       "_view_module": "@jupyter-widgets/controls",
       "_view_module_version": "1.5.0",
       "_view_name": "HBoxView",
       "box_style": "",
       "children": [
        "IPY_MODEL_a5522e9fc409429893693d88d2f40d7b",
        "IPY_MODEL_2279d5b82c6c41179fc4ad2a9451f5ec",
        "IPY_MODEL_9379d52081434d7d8cca0c9e6b729a40"
       ],
       "layout": "IPY_MODEL_eb0d227a1a3f46a2b4fd494bf18340fb"
      }
     }
    },
    "version_major": 2,
    "version_minor": 0
   }
  }
 },
 "nbformat": 4,
 "nbformat_minor": 5
}