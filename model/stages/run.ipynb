{
 "cells": [
  {
   "metadata": {},
   "cell_type": "markdown",
   "source": "# Import dependencies",
   "id": "c264384903ae3cd7"
  },
  {
   "metadata": {
    "ExecuteTime": {
     "end_time": "2024-12-08T14:29:08.888544Z",
     "start_time": "2024-12-08T14:29:08.235969Z"
    }
   },
   "cell_type": "code",
   "source": [
    "# Import management\n",
    "from importlib import reload\n",
    "\n",
    "# Services\n",
    "import services.ModelStageService as sds\n",
    "\n",
    "# Reload all custom dependencies\n",
    "reload(sds)"
   ],
   "id": "4807f21dee07507b",
   "outputs": [
    {
     "data": {
      "text/plain": [
       "<module 'services.ModelStageService' from 'C:\\\\ILLIA\\\\CODDING\\\\DATA_SCIENCE\\\\FTF-detector\\\\services\\\\ModelStageService.py'>"
      ]
     },
     "execution_count": 1,
     "metadata": {},
     "output_type": "execute_result"
    }
   ],
   "execution_count": 1
  },
  {
   "metadata": {},
   "cell_type": "markdown",
   "source": [
    "# Run stage-by-stage modelling\n",
    "Output stages (Jupyter Notebooks) will be presented in `../model/stage` folder"
   ],
   "id": "bc950ebc89765009"
  },
  {
   "metadata": {
    "jupyter": {
     "is_executing": true
    },
    "ExecuteTime": {
     "start_time": "2024-12-08T14:29:11.754643Z"
    }
   },
   "cell_type": "code",
   "source": "sds.ModelStageService().run()",
   "id": "52705cdcca329a79",
   "outputs": [
    {
     "name": "stdout",
     "output_type": "stream",
     "text": [
      "Running 4_model_building_and_evaluating.ipynb...\n"
     ]
    },
    {
     "data": {
      "text/plain": [
       "Executing:   0%|          | 0/14 [00:00<?, ?cell/s]"
      ],
      "application/vnd.jupyter.widget-view+json": {
       "version_major": 2,
       "version_minor": 0,
       "model_id": "3e24179045d74ccc84b05cddbae32dd7"
      }
     },
     "metadata": {},
     "output_type": "display_data"
    }
   ],
   "execution_count": null
  }
 ],
 "metadata": {
  "kernelspec": {
   "display_name": "Python 3",
   "language": "python",
   "name": "python3"
  },
  "language_info": {
   "codemirror_mode": {
    "name": "ipython",
    "version": 2
   },
   "file_extension": ".py",
   "mimetype": "text/x-python",
   "name": "python",
   "nbconvert_exporter": "python",
   "pygments_lexer": "ipython2",
   "version": "2.7.6"
  }
 },
 "nbformat": 4,
 "nbformat_minor": 5
}
