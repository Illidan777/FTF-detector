{
 "cells": [
  {
   "metadata": {},
   "cell_type": "code",
   "outputs": [],
   "execution_count": null,
   "source": [
    "# Data Manipulations and Preprocessing\n",
    "import numpy as np\n",
    "import pandas as pd\n",
    "from sklearn.preprocessing import LabelEncoder\n",
    "from sklearn.utils.class_weight import compute_class_weight\n",
    "from imblearn.under_sampling import RandomUnderSampler\n",
    "\n",
    "# Data Visualization\n",
    "import seaborn as sns\n",
    "import matplotlib.pyplot as plt\n",
    "\n",
    "# Loading Classifiers\n",
    "from xgboost import XGBClassifier\n",
    "from sklearn.linear_model import LogisticRegression\n",
    "from sklearn import neighbors\n",
    "from sklearn.ensemble import RandomForestClassifier\n",
    "from sklearn.tree import DecisionTreeClassifier\n",
    "\n",
    "# Model Evaluation Libraries\n",
    "from sklearn.metrics import accuracy_score\n",
    "\n",
    "# Tuning & Splitting Libraries\n",
    "from sklearn.model_selection import train_test_split\n",
    "\n",
    "# Services\n",
    "import services.ModelStageService as sds\n",
    "\n",
    "# utils\n",
    "import utils.EDAUtils as eda_utils\n",
    "\n",
    "stage_data_io_service = sds.ModelStageService(previous_stage_name=sds.FEATURE_ENGINEERING_STAGE, current_stage_name=sds.MODEL_BUILDING_STAGE)"
   ],
   "id": "ce482e670d93e341"
  },
  {
   "metadata": {},
   "cell_type": "code",
   "outputs": [],
   "execution_count": null,
   "source": [
    "# Reading text from txt file\n",
    "df = stage_data_io_service.run_or_load_stage_data(reload_stage=False)"
   ],
   "id": "8f878f93d011e148"
  },
  {
   "metadata": {},
   "cell_type": "code",
   "outputs": [],
   "execution_count": null,
   "source": [
    "y = df['isFraud']\n",
    "X = df.drop(['isFraud'], axis=1)"
   ],
   "id": "42c511e628bab553"
  },
  {
   "metadata": {},
   "cell_type": "code",
   "outputs": [],
   "execution_count": null,
   "source": [
    "X_train, X_test, y_train, y_test = train_test_split(X, y, test_size=0.2, random_state=1)\n",
    "\n",
    "print('X_train shape : ',X_train.shape)\n",
    "print('X_test shape : ',X_test.shape)\n",
    "print('y_train shape : ',y_train.shape)\n",
    "print('y_test shape : ',y_test.shape)"
   ],
   "id": "bfc3dfbaf9d718ab"
  },
  {
   "metadata": {},
   "cell_type": "code",
   "outputs": [],
   "execution_count": null,
   "source": "# fraud_best_model, fraud_best_model_name, fraud_model_best_accuracy = tune_and_evaluate_models(models_dict, X_train, X_test, y_train, y_test)",
   "id": "68dec08281c7d6f4"
  },
  {
   "metadata": {},
   "cell_type": "code",
   "outputs": [],
   "execution_count": null,
   "source": [
    "# plot_confusion_matrix_model(fraud_best_model, X_test, y_test)\n",
    "# plot_feature_importance(fraud_best_model, X_train.columns)"
   ],
   "id": "f7a0fc94805c6b52"
  }
 ],
 "metadata": {
  "kernelspec": {
   "display_name": "Python 3",
   "language": "python",
   "name": "python3"
  },
  "language_info": {
   "codemirror_mode": {
    "name": "ipython",
    "version": 2
   },
   "file_extension": ".py",
   "mimetype": "text/x-python",
   "name": "python",
   "nbconvert_exporter": "python",
   "pygments_lexer": "ipython2",
   "version": "2.7.6"
  }
 },
 "nbformat": 4,
 "nbformat_minor": 5
}
