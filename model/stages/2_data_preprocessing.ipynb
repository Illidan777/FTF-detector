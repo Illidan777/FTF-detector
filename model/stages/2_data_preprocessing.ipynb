{
 "cells": [
  {
   "metadata": {},
   "cell_type": "markdown",
   "source": "# Import dependencies",
   "id": "ee47c5ca964553ca"
  },
  {
   "cell_type": "code",
   "id": "initial_id",
   "metadata": {
    "collapsed": true,
    "ExecuteTime": {
     "end_time": "2024-11-13T15:11:08.093509Z",
     "start_time": "2024-11-13T15:11:08.083274Z"
    }
   },
   "source": [
    "# Data Manipulations and Preprocessing\n",
    "import numpy as np\n",
    "import pandas as pd\n",
    "\n",
    "# Data Visualization\n",
    "import seaborn as sns\n",
    "import matplotlib.pyplot as plt\n",
    "\n",
    "# Services\n",
    "import services.ModelStageService as sds\n",
    "\n",
    "# utils\n",
    "import utils.EDAUtils as eda_utils\n",
    "\n",
    "sns.set_style('darkgrid')\n",
    "sns.color_palette('pastel')\n",
    "\n",
    "stage_data_io_service = sds.ModelStageService(previous_stage_name=sds.EDA_STAGE, current_stage_name=sds.PREPROCESSING_STAGE)"
   ],
   "outputs": [
    {
     "data": {
      "text/plain": [
       "[(0.6313725490196078, 0.788235294117647, 0.9568627450980393),\n",
       " (1.0, 0.7058823529411765, 0.5098039215686274),\n",
       " (0.5529411764705883, 0.8980392156862745, 0.6313725490196078),\n",
       " (1.0, 0.6235294117647059, 0.6078431372549019),\n",
       " (0.8156862745098039, 0.7333333333333333, 1.0),\n",
       " (0.8705882352941177, 0.7333333333333333, 0.6078431372549019),\n",
       " (0.9803921568627451, 0.6901960784313725, 0.8941176470588236),\n",
       " (0.8117647058823529, 0.8117647058823529, 0.8117647058823529),\n",
       " (1.0, 0.996078431372549, 0.6392156862745098),\n",
       " (0.7254901960784313, 0.9490196078431372, 0.9411764705882353)]"
      ],
      "text/html": [
       "<svg  width=\"550\" height=\"55\"><rect x=\"0\" y=\"0\" width=\"55\" height=\"55\" style=\"fill:#a1c9f4;stroke-width:2;stroke:rgb(255,255,255)\"/><rect x=\"55\" y=\"0\" width=\"55\" height=\"55\" style=\"fill:#ffb482;stroke-width:2;stroke:rgb(255,255,255)\"/><rect x=\"110\" y=\"0\" width=\"55\" height=\"55\" style=\"fill:#8de5a1;stroke-width:2;stroke:rgb(255,255,255)\"/><rect x=\"165\" y=\"0\" width=\"55\" height=\"55\" style=\"fill:#ff9f9b;stroke-width:2;stroke:rgb(255,255,255)\"/><rect x=\"220\" y=\"0\" width=\"55\" height=\"55\" style=\"fill:#d0bbff;stroke-width:2;stroke:rgb(255,255,255)\"/><rect x=\"275\" y=\"0\" width=\"55\" height=\"55\" style=\"fill:#debb9b;stroke-width:2;stroke:rgb(255,255,255)\"/><rect x=\"330\" y=\"0\" width=\"55\" height=\"55\" style=\"fill:#fab0e4;stroke-width:2;stroke:rgb(255,255,255)\"/><rect x=\"385\" y=\"0\" width=\"55\" height=\"55\" style=\"fill:#cfcfcf;stroke-width:2;stroke:rgb(255,255,255)\"/><rect x=\"440\" y=\"0\" width=\"55\" height=\"55\" style=\"fill:#fffea3;stroke-width:2;stroke:rgb(255,255,255)\"/><rect x=\"495\" y=\"0\" width=\"55\" height=\"55\" style=\"fill:#b9f2f0;stroke-width:2;stroke:rgb(255,255,255)\"/></svg>"
      ]
     },
     "execution_count": 1,
     "metadata": {},
     "output_type": "execute_result"
    }
   ],
   "execution_count": 1
  },
  {
   "metadata": {},
   "cell_type": "markdown",
   "source": "# Load data",
   "id": "a4ac6102927b8727"
  },
  {
   "metadata": {},
   "cell_type": "code",
   "outputs": [],
   "execution_count": null,
   "source": [
    "# Reading text from txt file\n",
    "df = stage_data_io_service.run_or_load_stage_data(reload_stage=False)"
   ],
   "id": "3ae9179bf927027d"
  },
  {
   "metadata": {},
   "cell_type": "markdown",
   "source": [
    "# Data preprocessing\n",
    "\n",
    "## Drop useless/empty columns"
   ],
   "id": "b3586cf79b3673d4"
  },
  {
   "metadata": {},
   "cell_type": "code",
   "outputs": [],
   "execution_count": null,
   "source": [
    "df = df.drop(\n",
    "    columns={'recurringAuthInd', 'posOnPremises', 'merchantName', 'merchantZip', 'merchantState', 'merchantCity',\n",
    "             'echoBuffer', 'cardLast4Digits'})\n",
    "eda_utils.data_summary(df)"
   ],
   "id": "d873745f25d3b5e4"
  },
  {
   "metadata": {},
   "cell_type": "code",
   "outputs": [],
   "execution_count": null,
   "source": [
    "# On the surface it seems that column accountNumber equals customerId. \n",
    "# So if it is true - let`s drop one of them\n",
    "\n",
    "if (len(df[df.accountNumber != df.customerId]) == 0):\n",
    "    df = df.drop(columns={'customerId'})\n",
    "    eda_utils.data_summary(df)"
   ],
   "id": "72352bd6a1df6f7b"
  },
  {
   "metadata": {},
   "cell_type": "markdown",
   "source": "## Visualize null values",
   "id": "6282ffa9b6e7b56d"
  },
  {
   "metadata": {},
   "cell_type": "code",
   "outputs": [],
   "execution_count": null,
   "source": [
    "\n",
    "plt.figure(figsize=(15, 6))\n",
    "df.isnull().sum().plot(kind='barh', color='black')\n",
    "plt.xlabel('Count of Missing Values', fontsize=14)\n",
    "plt.ylabel('Attributes', fontsize=14)\n",
    "plt.title('Count of Missing Values vs Attributes', fontsize=18)\n",
    "plt.show()"
   ],
   "id": "fbe9c60690c5a74c"
  },
  {
   "metadata": {},
   "cell_type": "markdown",
   "source": "## Fill N/A",
   "id": "fd78325e54672522"
  },
  {
   "metadata": {},
   "cell_type": "code",
   "outputs": [],
   "execution_count": null,
   "source": [
    "def fill_na_in_transaction_type(df):\n",
    "    \"\"\"\n",
    "    Fills missing transaction types based on logical deductions using available balances and transaction amounts.\n",
    "    \n",
    "    Parameters:\n",
    "    df (pd.DataFrame): The DataFrame containing transaction data, which must include columns 'accountNumber', \n",
    "                       'transactionDateTime', 'transactionAmount', 'availableMoney', and 'transactionType'.\n",
    "    \n",
    "    Returns:\n",
    "    pd.DataFrame: The original DataFrame with missing 'transactionType' values filled based on specified rules.\n",
    "    \n",
    "    Process:\n",
    "    1. Sorts the DataFrame by 'accountNumber' and 'transactionDateTime' to arrange transactions chronologically for each account.\n",
    "    2. For each account (grouped by 'accountNumber'):\n",
    "       - Iterates over transactions to identify consecutive transactions.\n",
    "       - For each transaction with a missing 'transactionType', compares it with the next transaction in the group.\n",
    "       - Determines the 'transactionType' based on the following logic:\n",
    "         - **ADDRESS_VERIFICATION**: if 'availableMoney' remains the same between the current and next transactions.\n",
    "         - **PURCHASE**: if 'availableMoney' decreases by exactly the transaction amount, or is lower than in the next transaction.\n",
    "         - **REVERSAL**: if 'availableMoney' increases or equals the previous balance plus the transaction amount.\n",
    "       - If there is no subsequent transaction, assigns a default type ('DEFAULT_TYPE') for flexibility.\n",
    "    3. Returns the DataFrame with filled values for 'transactionType'.\n",
    "    \n",
    "    Usage Example:\n",
    "        df = fill_na_in_transaction_type(df)\n",
    "        df.drop(df[df['transactionType'] == 'DEFAULT_TYPE'].index, inplace=True)\n",
    "        simple_eda(df)\n",
    "    \n",
    "    Notes:\n",
    "    - The 'transactionType' column is modified based on financial logic, useful for filling gaps in historical data.\n",
    "    - Sorting by 'accountNumber' and 'transactionDateTime' ensures transactions are evaluated in a realistic sequence.\n",
    "    - If no subsequent transaction exists, assigns a placeholder type ('DEFAULT_TYPE') to be dropped later if needed.\n",
    "    \"\"\"\n",
    "    # Sort by account number and transaction date/time\n",
    "    df = df.sort_values(['accountNumber', 'transactionDateTime']).reset_index(drop=True)\n",
    "    \n",
    "    # Iterate over each group of transactions by account number\n",
    "    for account, transactions in df.groupby('accountNumber'):\n",
    "        if len(transactions[transactions['transactionType'].isnull()]) > 0:\n",
    "            for i in range(0, len(transactions)):  # Start from the second transaction\n",
    "                current_transaction = transactions.iloc[i]\n",
    "                \n",
    "                # Check if it's not the last transaction in the group\n",
    "                if i + 1 < len(transactions):\n",
    "                    next_transaction = transactions.iloc[i + 1]\n",
    "                else:\n",
    "                    next_transaction = None  # If it's the last transaction, set next_transaction to None\n",
    "                \n",
    "                # If current transaction type is NaN, proceed with the logic\n",
    "                if pd.isna(current_transaction['transactionType']):\n",
    "                    current_transaction_amount = current_transaction['transactionAmount']\n",
    "                    current_transaction_available_money = current_transaction['availableMoney']\n",
    "                    \n",
    "                    if next_transaction is not None:\n",
    "                        next_transaction_available_money = next_transaction['availableMoney']\n",
    "                    \n",
    "                        # Apply the logic for determining the transaction type based on available money and amounts\n",
    "                        if current_transaction_available_money == next_transaction_available_money:\n",
    "                            df.loc[current_transaction.name, 'transactionType'] = 'ADDRESS_VERIFICATION'\n",
    "                        elif (current_transaction_available_money > next_transaction_available_money) or (current_transaction_available_money - current_transaction_amount == next_transaction_available_money):\n",
    "                            df.loc[current_transaction.name, 'transactionType'] = 'PURCHASE'\n",
    "                        elif (current_transaction_available_money < next_transaction_available_money) or (current_transaction_available_money + current_transaction_amount == next_transaction_available_money):\n",
    "                            df.loc[current_transaction.name, 'transactionType'] = 'REVERSAL'\n",
    "                    \n",
    "                    # If there is no next transaction, we can set a default type or handle it accordingly\n",
    "                    else:\n",
    "                        # In case no next transaction is available, you could assign a default type or leave it NaN\n",
    "                        df.loc[current_transaction.name, 'transactionType'] = 'DEFAULT_TYPE'  # Replace 'DEFAULT_TYPE' with your logic\n",
    "\n",
    "    return df\n",
    "\n",
    "df = fill_na_in_transaction_type(df)\n",
    "df.drop(df[df['transactionType'] == 'DEFAULT_TYPE'].index, inplace=True)\n",
    "eda_utils.data_summary(df)"
   ],
   "id": "f1be7802c41b0aa6"
  },
  {
   "metadata": {},
   "cell_type": "code",
   "outputs": [],
   "execution_count": null,
   "source": [
    "def fill_na_in_account_related_columns(df):\n",
    "    \"\"\"\n",
    "    Fills missing values in account-related columns ('acqCountry', 'merchantCountryCode', 'posEntryMode', 'posConditionCode') \n",
    "    within each account group by replacing them with the most frequent (mode) value for each column.\n",
    "\n",
    "    Parameters:\n",
    "    df (pd.DataFrame): The DataFrame containing transaction data, which must include the columns \n",
    "                       'accountNumber', 'transactionDateTime', 'acqCountry', 'merchantCountryCode', \n",
    "                       'posEntryMode', and 'posConditionCode'.\n",
    "\n",
    "    Returns:\n",
    "    pd.DataFrame: The original DataFrame with missing values filled in specified columns based on \n",
    "                  the mode for each accountNumber.\n",
    "    \"\"\"\n",
    "    \n",
    "    gen_acq_country_mode = df['acqCountry'].mode().iloc[0]\n",
    "    gen_merchant_country_mode = df['merchantCountryCode'].mode().iloc[0]\n",
    "    gen_pos_entry_mode = df['posEntryMode'].mode().iloc[0]\n",
    "    gen_pos_condition_mode = df['posConditionCode'].mode().iloc[0]\n",
    "    \n",
    "    \n",
    "    # Iterate over each group of transactions by account number\n",
    "    for account, transactions in df.groupby('accountNumber'):\n",
    "        # Calculate the mode for each column in the group\n",
    "        acq_country_mode = transactions['acqCountry'].mode().iloc[0] if not transactions['acqCountry'].mode().empty else gen_acq_country_mode\n",
    "        merchant_country_mode = transactions['merchantCountryCode'].mode().iloc[0] if not transactions['merchantCountryCode'].mode().empty else gen_merchant_country_mode\n",
    "        pos_entry_mode = transactions['posEntryMode'].mode().iloc[0] if not transactions['posEntryMode'].mode().empty else gen_pos_entry_mode\n",
    "        pos_condition_mode = transactions['posConditionCode'].mode().iloc[0] if not transactions['posConditionCode'].mode().empty else gen_pos_condition_mode\n",
    "        \n",
    "        # Directly assign modes to missing values in the original DataFrame\n",
    "        if acq_country_mode is not None:\n",
    "            df.loc[transactions.index, 'acqCountry'] = df.loc[transactions.index, 'acqCountry'].replace({pd.NA: acq_country_mode})\n",
    "        if merchant_country_mode is not None:\n",
    "            df.loc[transactions.index, 'merchantCountryCode'] = df.loc[transactions.index, 'merchantCountryCode'].replace({pd.NA: merchant_country_mode})\n",
    "        if pos_entry_mode is not None:\n",
    "            df.loc[transactions.index, 'posEntryMode'] = df.loc[transactions.index, 'posEntryMode'].replace({pd.NA: pos_entry_mode})\n",
    "        if pos_condition_mode is not None:\n",
    "            df.loc[transactions.index, 'posConditionCode'] = df.loc[transactions.index, 'posConditionCode'].replace({pd.NA: pos_condition_mode})\n",
    "    \n",
    "    return df\n",
    "\n",
    "# Example usage\n",
    "df = fill_na_in_account_related_columns(df)\n",
    "eda_utils.data_summary(df)"
   ],
   "id": "d1321af83cd4ebd1"
  },
  {
   "metadata": {},
   "cell_type": "code",
   "outputs": [],
   "execution_count": null,
   "source": "stage_data_io_service.write_stage_data(df)",
   "id": "9013ceac936c32d8"
  }
 ],
 "metadata": {
  "kernelspec": {
   "display_name": "Python 3",
   "language": "python",
   "name": "python3"
  },
  "language_info": {
   "codemirror_mode": {
    "name": "ipython",
    "version": 2
   },
   "file_extension": ".py",
   "mimetype": "text/x-python",
   "name": "python",
   "nbconvert_exporter": "python",
   "pygments_lexer": "ipython2",
   "version": "2.7.6"
  }
 },
 "nbformat": 4,
 "nbformat_minor": 5
}
